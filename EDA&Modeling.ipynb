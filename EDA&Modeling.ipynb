{
 "cells": [
  {
   "cell_type": "code",
   "execution_count": 1,
   "metadata": {},
   "outputs": [],
   "source": [
    "%matplotlib inline\n",
    "\n",
    "import pandas as pd\n",
    "import numpy as np\n",
    "from sklearn.model_selection import train_test_split\n",
    "import matplotlib.pyplot as plt\n",
    "import datetime\n",
    "from sklearn.ensemble import RandomForestRegressor\n",
    "from sklearn.linear_model import LinearRegression\n",
    "from sklearn.neighbors import KNeighborsRegressor\n",
    "import pickle\n",
    "from sklearn.metrics import accuracy_score\n",
    "from sklearn.metrics import mean_squared_error\n",
    "from sklearn.preprocessing import LabelEncoder\n",
    "import math\n",
    "import seaborn as sns\n",
    "import lightgbm as lgbm\n",
    "from xgboost import XGBRegressor\n",
    "from xgboost import plot_importance\n",
    "from sklearn.preprocessing import MinMaxScaler"
   ]
  },
  {
   "cell_type": "code",
   "execution_count": 2,
   "metadata": {},
   "outputs": [],
   "source": [
    "items = pd.read_csv(\"items.csv\")\n",
    "item_categories = pd.read_csv(\"item_categories.csv\")\n",
    "sales_train = pd.read_csv(\"sales_train.csv\")\n",
    "sample_submission = pd.read_csv(\"sample_submission.csv\")\n",
    "shops = pd.read_csv(\"shops.csv\")\n",
    "test = pd.read_csv(\"test.csv\")"
   ]
  },
  {
   "cell_type": "code",
   "execution_count": 5,
   "metadata": {
    "scrolled": false
   },
   "outputs": [
    {
     "data": {
      "text/plain": [
       "<AxesSubplot:xlabel='item_price'>"
      ]
     },
     "execution_count": 5,
     "metadata": {},
     "output_type": "execute_result"
    },
    {
     "data": {
      "image/png": "[encoded data removed]",
      "text/plain": [
       "<Figure size 1080x288 with 1 Axes>"
      ]
     },
     "metadata": {
      "needs_background": "light"
     },
     "output_type": "display_data"
    },
    {
     "data": {
      "image/png": "[encoded data removed]",
      "text/plain": [
       "<Figure size 1080x288 with 1 Axes>"
      ]
     },
     "metadata": {
      "needs_background": "light"
     },
     "output_type": "display_data"
    }
   ],
   "source": [
    "plt.figure(figsize=(15,4))\n",
    "sns.boxplot(x = sales_train.item_cnt_day)\n",
    "\n",
    "plt.figure(figsize=(15,4))\n",
    "sns.boxplot(x = sales_train.item_price)"
   ]
  },
  {
   "cell_type": "code",
   "execution_count": 6,
   "metadata": {},
   "outputs": [],
   "source": [
    "# Remove Outliers\n",
    "sales_train = sales_train[sales_train.item_cnt_day < 2000]\n",
    "sales_train = sales_train[sales_train.item_price < 300000]"
   ]
  },
  {
   "cell_type": "code",
   "execution_count": 7,
   "metadata": {},
   "outputs": [
    {
     "data": {
      "text/html": [
       "<div>\n",
       "<style scoped>\n",
       "    .dataframe tbody tr th:only-of-type {\n",
       "        vertical-align: middle;\n",
       "    }\n",
       "\n",
       "    .dataframe tbody tr th {\n",
       "        vertical-align: top;\n",
       "    }\n",
       "\n",
       "    .dataframe thead th {\n",
       "        text-align: right;\n",
       "    }\n",
       "</style>\n",
       "<table border=\"1\" class=\"dataframe\">\n",
       "  <thead>\n",
       "    <tr style=\"text-align: right;\">\n",
       "      <th></th>\n",
       "      <th>date_block_num</th>\n",
       "      <th>shop_id</th>\n",
       "      <th>item_id</th>\n",
       "      <th>item_price</th>\n",
       "      <th>item_cnt_day</th>\n",
       "      <th>day</th>\n",
       "      <th>month</th>\n",
       "      <th>year</th>\n",
       "    </tr>\n",
       "  </thead>\n",
       "  <tbody>\n",
       "    <tr>\n",
       "      <th>count</th>\n",
       "      <td>2.935847e+06</td>\n",
       "      <td>2.935847e+06</td>\n",
       "      <td>2.935847e+06</td>\n",
       "      <td>2.935847e+06</td>\n",
       "      <td>2.935847e+06</td>\n",
       "      <td>2.935847e+06</td>\n",
       "      <td>2.935847e+06</td>\n",
       "      <td>2.935847e+06</td>\n",
       "    </tr>\n",
       "    <tr>\n",
       "      <th>mean</th>\n",
       "      <td>1.456991e+01</td>\n",
       "      <td>3.300174e+01</td>\n",
       "      <td>1.019723e+04</td>\n",
       "      <td>8.907489e+02</td>\n",
       "      <td>1.241903e+00</td>\n",
       "      <td>3.365687e+00</td>\n",
       "      <td>6.247714e+00</td>\n",
       "      <td>2.013777e+03</td>\n",
       "    </tr>\n",
       "    <tr>\n",
       "      <th>std</th>\n",
       "      <td>9.422985e+00</td>\n",
       "      <td>1.622697e+01</td>\n",
       "      <td>6.324299e+03</td>\n",
       "      <td>1.720490e+03</td>\n",
       "      <td>2.292963e+00</td>\n",
       "      <td>1.996796e+00</td>\n",
       "      <td>3.536218e+00</td>\n",
       "      <td>7.684788e-01</td>\n",
       "    </tr>\n",
       "    <tr>\n",
       "      <th>min</th>\n",
       "      <td>0.000000e+00</td>\n",
       "      <td>0.000000e+00</td>\n",
       "      <td>0.000000e+00</td>\n",
       "      <td>-1.000000e+00</td>\n",
       "      <td>-2.200000e+01</td>\n",
       "      <td>0.000000e+00</td>\n",
       "      <td>1.000000e+00</td>\n",
       "      <td>2.013000e+03</td>\n",
       "    </tr>\n",
       "    <tr>\n",
       "      <th>25%</th>\n",
       "      <td>7.000000e+00</td>\n",
       "      <td>2.200000e+01</td>\n",
       "      <td>4.476000e+03</td>\n",
       "      <td>2.490000e+02</td>\n",
       "      <td>1.000000e+00</td>\n",
       "      <td>2.000000e+00</td>\n",
       "      <td>3.000000e+00</td>\n",
       "      <td>2.013000e+03</td>\n",
       "    </tr>\n",
       "    <tr>\n",
       "      <th>50%</th>\n",
       "      <td>1.400000e+01</td>\n",
       "      <td>3.100000e+01</td>\n",
       "      <td>9.343000e+03</td>\n",
       "      <td>3.990000e+02</td>\n",
       "      <td>1.000000e+00</td>\n",
       "      <td>4.000000e+00</td>\n",
       "      <td>6.000000e+00</td>\n",
       "      <td>2.014000e+03</td>\n",
       "    </tr>\n",
       "    <tr>\n",
       "      <th>75%</th>\n",
       "      <td>2.300000e+01</td>\n",
       "      <td>4.700000e+01</td>\n",
       "      <td>1.568400e+04</td>\n",
       "      <td>9.990000e+02</td>\n",
       "      <td>1.000000e+00</td>\n",
       "      <td>5.000000e+00</td>\n",
       "      <td>9.000000e+00</td>\n",
       "      <td>2.014000e+03</td>\n",
       "    </tr>\n",
       "    <tr>\n",
       "      <th>max</th>\n",
       "      <td>3.300000e+01</td>\n",
       "      <td>5.900000e+01</td>\n",
       "      <td>2.216900e+04</td>\n",
       "      <td>5.920000e+04</td>\n",
       "      <td>1.000000e+03</td>\n",
       "      <td>6.000000e+00</td>\n",
       "      <td>1.200000e+01</td>\n",
       "      <td>2.015000e+03</td>\n",
       "    </tr>\n",
       "  </tbody>\n",
       "</table>\n",
       "</div>"
      ],
      "text/plain": [
       "       date_block_num       shop_id       item_id    item_price  item_cnt_day  \\\n",
       "count    2.935847e+06  2.935847e+06  2.935847e+06  2.935847e+06  2.935847e+06   \n",
       "mean     1.456991e+01  3.300174e+01  1.019723e+04  8.907489e+02  1.241903e+00   \n",
       "std      9.422985e+00  1.622697e+01  6.324299e+03  1.720490e+03  2.292963e+00   \n",
       "min      0.000000e+00  0.000000e+00  0.000000e+00 -1.000000e+00 -2.200000e+01   \n",
       "25%      7.000000e+00  2.200000e+01  4.476000e+03  2.490000e+02  1.000000e+00   \n",
       "50%      1.400000e+01  3.100000e+01  9.343000e+03  3.990000e+02  1.000000e+00   \n",
       "75%      2.300000e+01  4.700000e+01  1.568400e+04  9.990000e+02  1.000000e+00   \n",
       "max      3.300000e+01  5.900000e+01  2.216900e+04  5.920000e+04  1.000000e+03   \n",
       "\n",
       "                day         month          year  \n",
       "count  2.935847e+06  2.935847e+06  2.935847e+06  \n",
       "mean   3.365687e+00  6.247714e+00  2.013777e+03  \n",
       "std    1.996796e+00  3.536218e+00  7.684788e-01  \n",
       "min    0.000000e+00  1.000000e+00  2.013000e+03  \n",
       "25%    2.000000e+00  3.000000e+00  2.013000e+03  \n",
       "50%    4.000000e+00  6.000000e+00  2.014000e+03  \n",
       "75%    5.000000e+00  9.000000e+00  2.014000e+03  \n",
       "max    6.000000e+00  1.200000e+01  2.015000e+03  "
      ]
     },
     "execution_count": 7,
     "metadata": {},
     "output_type": "execute_result"
    }
   ],
   "source": [
    "sales_train.describe()"
   ]
  },
  {
   "cell_type": "code",
   "execution_count": 7,
   "metadata": {},
   "outputs": [
    {
     "data": {
      "text/html": [
       "<div>\n",
       "<style scoped>\n",
       "    .dataframe tbody tr th:only-of-type {\n",
       "        vertical-align: middle;\n",
       "    }\n",
       "\n",
       "    .dataframe tbody tr th {\n",
       "        vertical-align: top;\n",
       "    }\n",
       "\n",
       "    .dataframe thead th {\n",
       "        text-align: right;\n",
       "    }\n",
       "</style>\n",
       "<table border=\"1\" class=\"dataframe\">\n",
       "  <thead>\n",
       "    <tr style=\"text-align: right;\">\n",
       "      <th></th>\n",
       "      <th>date</th>\n",
       "      <th>date_block_num</th>\n",
       "      <th>shop_id</th>\n",
       "      <th>item_id</th>\n",
       "      <th>item_price</th>\n",
       "      <th>item_cnt_day</th>\n",
       "    </tr>\n",
       "  </thead>\n",
       "  <tbody>\n",
       "    <tr>\n",
       "      <th>484683</th>\n",
       "      <td>15.05.2013</td>\n",
       "      <td>4</td>\n",
       "      <td>32</td>\n",
       "      <td>2973</td>\n",
       "      <td>-1.0</td>\n",
       "      <td>1.0</td>\n",
       "    </tr>\n",
       "  </tbody>\n",
       "</table>\n",
       "</div>"
      ],
      "text/plain": [
       "              date  date_block_num  shop_id  item_id  item_price  item_cnt_day\n",
       "484683  15.05.2013               4       32     2973        -1.0           1.0"
      ]
     },
     "execution_count": 7,
     "metadata": {},
     "output_type": "execute_result"
    }
   ],
   "source": [
    "sales_train[sales_train.item_price < 0]"
   ]
  },
  {
   "cell_type": "code",
   "execution_count": 8,
   "metadata": {},
   "outputs": [],
   "source": [
    "# We see that there is one item price below zero with shop_id 32 and item_id 2973\n",
    "# We can replace these prices with the median of the same item at the same shop\n",
    "median = sales_train[[a and b for a, b in zip(list(sales_train.item_id == 2973), list(sales_train.shop_id == 32))]].item_price.median()\n",
    "sales_train.loc[sales_train.item_price < 0, 'item_price'] = median"
   ]
  },
  {
   "cell_type": "code",
   "execution_count": 9,
   "metadata": {},
   "outputs": [],
   "source": [
    "# Make pairs with datenum up to 34 to include test set\n",
    "pairs = [(x, y, z) for x in range(35) for y in shops.shop_id.unique() for z in items.item_id.unique()]"
   ]
  },
  {
   "cell_type": "code",
   "execution_count": 10,
   "metadata": {},
   "outputs": [],
   "source": [
    "vstack = np.vstack(pairs)\n",
    "vstackdf = pd.DataFrame(vstack, columns = ['date_block_num', 'shop_id', 'item_id'])"
   ]
  },
  {
   "cell_type": "code",
   "execution_count": 11,
   "metadata": {},
   "outputs": [],
   "source": [
    "# Get the mean of the items sold per month per shop per item and the median price\n",
    "group = sales_train.groupby([\"date_block_num\", \"shop_id\", \"item_id\"]).agg({\"item_cnt_day\" : ['sum'], \"item_price\" : ['median']})\n",
    "group.reset_index(inplace=True)"
   ]
  },
  {
   "cell_type": "code",
   "execution_count": 13,
   "metadata": {},
   "outputs": [
    {
     "name": "stderr",
     "output_type": "stream",
     "text": [
      "/home/vincent/kaggle/predictFutureSales/venv/lib/python3.8/site-packages/pandas/core/reshape/merge.py:643: UserWarning: merging between different levels can give an unintended result (1 levels on the left,2 on the right)\n",
      "  warnings.warn(msg, UserWarning)\n",
      "/home/vincent/kaggle/predictFutureSales/venv/lib/python3.8/site-packages/pandas/core/generic.py:3878: PerformanceWarning: dropping on a non-lexsorted multi-index without a level parameter may impact performance.\n",
      "  obj = obj._drop_axis(labels, axis, level=level, errors=errors)\n"
     ]
    }
   ],
   "source": [
    "new_sales_data = pd.merge(vstackdf, group, on=['date_block_num', 'shop_id', 'item_id'], how='left')"
   ]
  },
  {
   "cell_type": "code",
   "execution_count": 14,
   "metadata": {},
   "outputs": [],
   "source": [
    "new_sales_data.fillna(0, inplace=True)"
   ]
  },
  {
   "cell_type": "code",
   "execution_count": 15,
   "metadata": {
    "scrolled": true
   },
   "outputs": [],
   "source": [
    "new_sales_data['month'] = new_sales_data['date_block_num'].apply(lambda x: (x + 2) % 13)"
   ]
  },
  {
   "cell_type": "code",
   "execution_count": 16,
   "metadata": {},
   "outputs": [],
   "source": [
    "# Rename columns for ease\n",
    "new_sales_data.rename(columns = {('item_price', 'median'): \"avg_item_price\", ('item_cnt_day', 'sum'): \"item_cnt_month\"}, inplace=True)"
   ]
  },
  {
   "cell_type": "code",
   "execution_count": 17,
   "metadata": {},
   "outputs": [],
   "source": [
    "new_sales_data['item_sold'] = new_sales_data['avg_item_price'].apply(lambda x: 1 if x != 0.0 else 0)"
   ]
  },
  {
   "cell_type": "code",
   "execution_count": 18,
   "metadata": {},
   "outputs": [],
   "source": [
    "def addPrevMonths(data, prevCount, column, name):\n",
    "    data_column = data[column]\n",
    "    data_column = 1330200 * prevCount * [-1] + list(data_column)\n",
    "    data_column = data_column[:-(1330200 * prevCount)]\n",
    "    data[name] = data_column\n",
    "    \n",
    "def addCumPrevMonths(data, prevCount, column, name):\n",
    "    data_column = list(data[column])\n",
    "    temp_column = data_column.copy()\n",
    "\n",
    "    data_column = [0 for _ in data_column]\n",
    "    for _ in range(0, prevCount):\n",
    "        temp_column = 1330200 * [0] + temp_column\n",
    "        temp_column = temp_column[:-(1330200)]\n",
    "        data_column = [x + y for x, y in zip(data_column, temp_column)]\n",
    "    data[name] = data_column\n",
    "\n",
    "def lastSale(data, column, name):\n",
    "    data_column = list(data[column])\n",
    "    temp_column = data_column.copy()\n",
    "    data_column = [-1 for _ in data_column]\n",
    "    \n",
    "    for index in range(35):\n",
    "        data_column = [index if new_sale > 0 else old_sale for old_sale, new_sale in zip(data_column, temp_column)]\n",
    "        temp_column = 1330200 * [0] + temp_column\n",
    "        temp_column = temp_column[:-1330200]\n",
    "   \n",
    "    data[name] = data_column\n",
    "        \n",
    "    "
   ]
  },
  {
   "cell_type": "code",
   "execution_count": 20,
   "metadata": {},
   "outputs": [],
   "source": [
    "addPrevMonths(new_sales_data, 1, 'item_cnt_month', 'item_cnt_prev1_month')\n",
    "addPrevMonths(new_sales_data, 2, 'item_cnt_month', 'item_cnt_prev2_month')\n",
    "addPrevMonths(new_sales_data, 3, 'item_cnt_month', 'item_cnt_prev3_month')\n",
    "addPrevMonths(new_sales_data, 4, 'item_cnt_month', 'item_cnt_prev4_month')\n",
    "addPrevMonths(new_sales_data, 6, 'item_cnt_month', 'item_cnt_prev6_month')\n",
    "addPrevMonths(new_sales_data, 12, 'item_cnt_month', 'item_cnt_prev12_month')"
   ]
  },
  {
   "cell_type": "code",
   "execution_count": 22,
   "metadata": {},
   "outputs": [],
   "source": [
    "addCumPrevMonths(new_sales_data, 2, 'item_cnt_month', 'item_cnt_cum_prev2_month')\n",
    "addCumPrevMonths(new_sales_data, 3, 'item_cnt_month', 'item_cnt_cum_prev3_month')\n",
    "addCumPrevMonths(new_sales_data, 4, 'item_cnt_month', 'item_cnt_cum_prev4_month')\n",
    "addCumPrevMonths(new_sales_data, 6, 'item_cnt_month', 'item_cnt_cum_prev6_month')\n",
    "addCumPrevMonths(new_sales_data, 12, 'item_cnt_month', 'item_cnt_cum_prev12_month')"
   ]
  },
  {
   "cell_type": "code",
   "execution_count": 23,
   "metadata": {},
   "outputs": [],
   "source": [
    "# Add total sales per item per shop per month since the beginning of the dataset up to the specified time\n",
    "addCumPrevMonths(new_sales_data, 35, 'item_cnt_month', 'item_cnt_total')"
   ]
  },
  {
   "cell_type": "code",
   "execution_count": 24,
   "metadata": {},
   "outputs": [],
   "source": [
    "# Get the last month that an item per shop per month was last sold\n",
    "lastSale(new_sales_data, 'item_cnt_month', 'item_last_sale_month')"
   ]
  },
  {
   "cell_type": "code",
   "execution_count": 27,
   "metadata": {},
   "outputs": [],
   "source": [
    "# Get the average sales per month\n",
    "group2 = new_sales_data.groupby(['date_block_num']).agg({'item_cnt_month': ['mean']})\n",
    "group2.reset_index(inplace=True)"
   ]
  },
  {
   "cell_type": "code",
   "execution_count": 54,
   "metadata": {},
   "outputs": [
    {
     "data": {
      "text/plain": [
       "<AxesSubplot:>"
      ]
     },
     "execution_count": 54,
     "metadata": {},
     "output_type": "execute_result"
    },
    {
     "data": {
      "image/png": "[encoded data removed]",
      "text/plain": [
       "<Figure size 432x288 with 1 Axes>"
      ]
     },
     "metadata": {
      "needs_background": "light"
     },
     "output_type": "display_data"
    }
   ],
   "source": [
    "group2.item_cnt_month.plot()"
   ]
  },
  {
   "cell_type": "code",
   "execution_count": 7,
   "metadata": {},
   "outputs": [
    {
     "data": {
      "text/html": [
       "<div>\n",
       "<style scoped>\n",
       "    .dataframe tbody tr th:only-of-type {\n",
       "        vertical-align: middle;\n",
       "    }\n",
       "\n",
       "    .dataframe tbody tr th {\n",
       "        vertical-align: top;\n",
       "    }\n",
       "\n",
       "    .dataframe thead tr th {\n",
       "        text-align: left;\n",
       "    }\n",
       "</style>\n",
       "<table border=\"1\" class=\"dataframe\">\n",
       "  <thead>\n",
       "    <tr>\n",
       "      <th></th>\n",
       "      <th>date_block_num</th>\n",
       "      <th>item_cnt_month</th>\n",
       "    </tr>\n",
       "    <tr>\n",
       "      <th></th>\n",
       "      <th></th>\n",
       "      <th>mean</th>\n",
       "    </tr>\n",
       "  </thead>\n",
       "  <tbody>\n",
       "    <tr>\n",
       "      <th>11</th>\n",
       "      <td>11</td>\n",
       "      <td>0.137830</td>\n",
       "    </tr>\n",
       "    <tr>\n",
       "      <th>23</th>\n",
       "      <td>23</td>\n",
       "      <td>0.126864</td>\n",
       "    </tr>\n",
       "  </tbody>\n",
       "</table>\n",
       "</div>"
      ],
      "text/plain": [
       "   date_block_num item_cnt_month\n",
       "                            mean\n",
       "11             11       0.137830\n",
       "23             23       0.126864"
      ]
     },
     "execution_count": 7,
     "metadata": {},
     "output_type": "execute_result"
    }
   ],
   "source": [
    "# From the plot above, we can see that there are two 'spikes' around the 11th and 23rd month\n",
    "# So any month in which the data_block_num %13 == 11 is significant\n",
    "group2[(group2.item_cnt_month > 0.12).values]"
   ]
  },
  {
   "cell_type": "code",
   "execution_count": 29,
   "metadata": {},
   "outputs": [
    {
     "name": "stderr",
     "output_type": "stream",
     "text": [
      "/home/vincent/kaggle/predictFutureSales/venv/lib/python3.8/site-packages/pandas/core/reshape/merge.py:643: UserWarning: merging between different levels can give an unintended result (1 levels on the left,2 on the right)\n",
      "  warnings.warn(msg, UserWarning)\n",
      "/home/vincent/kaggle/predictFutureSales/venv/lib/python3.8/site-packages/pandas/core/generic.py:3878: PerformanceWarning: dropping on a non-lexsorted multi-index without a level parameter may impact performance.\n",
      "  obj = obj._drop_axis(labels, axis, level=level, errors=errors)\n"
     ]
    }
   ],
   "source": [
    "new_sales_data = pd.merge(new_sales_data, group2, on=['date_block_num'], how='left')\n",
    "new_sales_data.rename(columns = {('item_cnt_month', 'mean'): \"month_avg_sales\"}, inplace=True)"
   ]
  },
  {
   "cell_type": "code",
   "execution_count": 31,
   "metadata": {},
   "outputs": [],
   "source": [
    "# We found that the peak months occur on the 11th month of a year, so make a binary variable saying if the current\n",
    "# month is the 11th month of the year\n",
    "new_sales_data['peak_month'] = new_sales_data['date_block_num'].apply(lambda x: 1 if x % 12 == 11 else 0)"
   ]
  },
  {
   "cell_type": "code",
   "execution_count": 32,
   "metadata": {},
   "outputs": [
    {
     "name": "stdout",
     "output_type": "stream",
     "text": [
      "<class 'pandas.core.frame.DataFrame'>\n",
      "Int64Index: 46557000 entries, 0 to 46556999\n",
      "Data columns (total 22 columns):\n",
      " #   Column                     Dtype  \n",
      "---  ------                     -----  \n",
      " 0   date_block_num             int64  \n",
      " 1   shop_id                    int64  \n",
      " 2   item_id                    int64  \n",
      " 3   item_cnt_month             float64\n",
      " 4   avg_item_price             float64\n",
      " 5   month                      int64  \n",
      " 6   item_sold                  int64  \n",
      " 7   item_cnt_prev1_month       float64\n",
      " 8   item_cnt_prev2_month       float64\n",
      " 9   item_cnt_prev3_month       float64\n",
      " 10  item_cnt_prev4_month       float64\n",
      " 11  item_cnt_prev6_month       float64\n",
      " 12  item_cnt_prev12_month      float64\n",
      " 13  item_cnt_cum_prev12_month  float64\n",
      " 14  item_cnt_cum_prev2_month   float64\n",
      " 15  item_cnt_cum_prev3_month   float64\n",
      " 16  item_cnt_cum_prev4_month   float64\n",
      " 17  item_cnt_cum_prev6_month   float64\n",
      " 18  item_cnt_total             float64\n",
      " 19  item_last_sale_month       int64  \n",
      " 20  month_avg_sales            float64\n",
      " 21  peak_month                 int64  \n",
      "dtypes: float64(15), int64(7)\n",
      "memory usage: 8.0 GB\n"
     ]
    }
   ],
   "source": [
    "# Change the datatype of these columns in order to save space\n",
    "new_sales_data.info()\n",
    "new_sales_data['date_block_num'] = new_sales_data['date_block_num'].astype(np.int16)\n",
    "new_sales_data['shop_id'] = new_sales_data['shop_id'].astype(np.int16)\n",
    "new_sales_data['month'] = new_sales_data['month'].astype(np.int16)\n",
    "new_sales_data['item_sold'] = new_sales_data['item_sold'].astype(np.int16)\n",
    "new_sales_data['item_cnt_month'] = new_sales_data['item_cnt_month'].astype(np.int16)\n",
    "new_sales_data['avg_item_price'] = new_sales_data['avg_item_price'].astype(np.float16)\n",
    "new_sales_data['item_cnt_prev1_month'] = new_sales_data['item_cnt_prev1_month'].astype(np.int16)\n",
    "new_sales_data['item_cnt_prev2_month'] = new_sales_data['item_cnt_prev2_month'].astype(np.int16)\n",
    "new_sales_data['item_cnt_prev3_month'] = new_sales_data['item_cnt_prev3_month'].astype(np.int16)\n",
    "new_sales_data['item_cnt_prev4_month'] = new_sales_data['item_cnt_prev4_month'].astype(np.int16)\n",
    "new_sales_data['item_cnt_prev6_month'] = new_sales_data['item_cnt_prev6_month'].astype(np.int16)\n",
    "new_sales_data['item_cnt_prev12_month'] = new_sales_data['item_cnt_prev12_month'].astype(np.int16)\n",
    "new_sales_data['item_cnt_cum_prev12_month'] = new_sales_data['item_cnt_cum_prev12_month'].astype(np.int16)\n",
    "new_sales_data['item_cnt_cum_prev2_month'] = new_sales_data['item_cnt_cum_prev2_month'].astype(np.int16)\n",
    "new_sales_data['item_cnt_cum_prev3_month'] = new_sales_data['item_cnt_cum_prev3_month'].astype(np.int16)\n",
    "new_sales_data['item_cnt_cum_prev4_month'] = new_sales_data['item_cnt_cum_prev4_month'].astype(np.int16)\n",
    "new_sales_data['item_cnt_cum_prev6_month'] = new_sales_data['item_cnt_cum_prev6_month'].astype(np.int16)\n",
    "new_sales_data['item_cnt_total'] = new_sales_data['item_cnt_total'].astype(np.int16)\n",
    "new_sales_data['item_last_sale_month'] = new_sales_data['item_last_sale_month'].astype(np.int16)\n",
    "new_sales_data['peak_month'] = new_sales_data['peak_month'].astype(np.int16)\n",
    "new_sales_data['month_avg_sales'] = new_sales_data['month_avg_sales'].astype(np.float16)\n"
   ]
  },
  {
   "cell_type": "code",
   "execution_count": 33,
   "metadata": {},
   "outputs": [],
   "source": [
    "# Get the average sales per month\n",
    "group3 = new_sales_data.groupby(['date_block_num', 'shop_id']).agg({'item_cnt_month': ['mean']})\n",
    "group3.reset_index(inplace=True)"
   ]
  },
  {
   "cell_type": "code",
   "execution_count": 35,
   "metadata": {},
   "outputs": [],
   "source": [
    "new_sales_data = pd.merge(new_sales_data, group3, on = ['date_block_num', 'shop_id'], how = 'left')\n",
    "new_sales_data.rename(columns = {('item_cnt_month', 'mean'): \"shop_avg_sales\"}, inplace=True)"
   ]
  },
  {
   "cell_type": "code",
   "execution_count": 37,
   "metadata": {},
   "outputs": [],
   "source": [
    "# Get the average sales of each item per month\n",
    "group4 = new_sales_data.groupby(['date_block_num', 'item_id']).agg({'item_cnt_month': 'mean'})\n",
    "group4.reset_index(inplace=True)"
   ]
  },
  {
   "cell_type": "code",
   "execution_count": 39,
   "metadata": {},
   "outputs": [],
   "source": [
    "new_sales_data = pd.merge(new_sales_data, group4, on = ['date_block_num', 'item_id'], how = 'left')\n",
    "new_sales_data.rename(columns = {'item_cnt_month_y': \"item_avg_sales\"}, inplace=True)"
   ]
  },
  {
   "cell_type": "code",
   "execution_count": 41,
   "metadata": {},
   "outputs": [],
   "source": [
    "# Add item categories to data so that we can aggregate by item categories\n",
    "new_sales_data['item_category'] = new_sales_data['item_id'].apply(lambda x: items.loc[x, 'item_category_id'])"
   ]
  },
  {
   "cell_type": "code",
   "execution_count": 45,
   "metadata": {},
   "outputs": [],
   "source": [
    "# Merge sometimes has same columns, so creates two variables with slightly different names; rename the columns\n",
    "new_sales_data.rename(columns = {'item_cnt_month_x': 'item_cnt_month'}, inplace=True)"
   ]
  },
  {
   "cell_type": "code",
   "execution_count": 47,
   "metadata": {},
   "outputs": [],
   "source": [
    "new_sales_data = pd.merge(new_sales_data, group5, on = ['date_block_num', 'item_category'], how = 'left')\n",
    "new_sales_data.rename(columns = {\"item_cnt_month_x\" : \"item_cnt_month\", \"item_cnt_month_y\" : \"category_avg_sales\"}, inplace=True)\n",
    "new_sales_data.rename(columns = {\"shop_avg_sales\" : \"month_shop_avg_sales\", \"item_avg_sales\" : \"month_item_avg_sales\", \"category_avg_sales\" : \"month_category_avg_sales\"}, inplace=True)"
   ]
  },
  {
   "cell_type": "code",
   "execution_count": 50,
   "metadata": {},
   "outputs": [],
   "source": [
    "# Get more general categories from the list of provided categories\n",
    "general_categories = {}\n",
    "for x in item_categories['item_category_name']:\n",
    "    splits = x.split()\n",
    "    for split in splits:\n",
    "        if split == '-':\n",
    "            continue\n",
    "        if split not in general_categories.keys():\n",
    "            general_categories[split] = []    \n",
    "        general_categories[split].append(x)"
   ]
  },
  {
   "cell_type": "code",
   "execution_count": 52,
   "metadata": {},
   "outputs": [],
   "source": [
    "index2generalkey = {}\n",
    "for x in range(84):\n",
    "    index2generalkey[x] = tuple([key for key in general_categories.keys() if item_categories.loc[x, 'item_category_name'] in general_categories[key]])"
   ]
  },
  {
   "cell_type": "code",
   "execution_count": 53,
   "metadata": {},
   "outputs": [],
   "source": [
    "new_sales_data['general_categories'] = new_sales_data['item_category'].apply(lambda x: index2generalkey[x])"
   ]
  },
  {
   "cell_type": "code",
   "execution_count": 60,
   "metadata": {},
   "outputs": [],
   "source": [
    "# Get the average sales of each item category per month\n",
    "group5 = new_sales_data.groupby(['date_block_num', 'item_category']).agg({'item_cnt_month': 'mean'})\n",
    "group5.reset_index(inplace=True)\n",
    "group5['item_category_name'] = group5['item_category'].apply(lambda x: item_categories.loc[x, 'item_category_name'])"
   ]
  },
  {
   "cell_type": "code",
   "execution_count": 63,
   "metadata": {},
   "outputs": [],
   "source": [
    "def sumIndivCategories(date_block_num, categories):\n",
    "    tot = 0\n",
    "    for gen_cat in categories:\n",
    "        for indiv_cat in general_categories[gen_cat]:\n",
    "            tot += list(group5[[a and b for a, b in zip(group5['item_category_name'] == indiv_cat, group5[\"date_block_num\"] == date_block_num)]].item_cnt_month)[0]\n",
    "    return tot"
   ]
  },
  {
   "cell_type": "code",
   "execution_count": 64,
   "metadata": {},
   "outputs": [],
   "source": [
    "# Get the average items sold per general category per month\n",
    "group6 = new_sales_data.groupby(['date_block_num', 'general_categories']).agg({'item_cnt_month': 'mean'})\n",
    "group6.reset_index(inplace=True)\n",
    "group6['item_cnt_month2'] = group6.apply(lambda x: sumIndivCategories(x.date_block_num, x.general_categories), axis =1)\n",
    "group6.drop(\"item_cnt_month\", axis = 1, inplace=True)\n",
    "group6.rename(columns = {\"item_cnt_month2\" : \"month_gen_categories_avg_sale\"}, inplace=True)"
   ]
  },
  {
   "cell_type": "code",
   "execution_count": 67,
   "metadata": {},
   "outputs": [],
   "source": [
    "new_sales_data = pd.merge(new_sales_data, group6, on=['date_block_num', 'general_categories'], how='left')"
   ]
  },
  {
   "cell_type": "code",
   "execution_count": 141,
   "metadata": {},
   "outputs": [
    {
     "data": {
      "text/plain": [
       "[<matplotlib.lines.Line2D at 0x7f4fa735c0d0>]"
      ]
     },
     "execution_count": 141,
     "metadata": {},
     "output_type": "execute_result"
    },
    {
     "data": {
      "image/png": "[encoded data removed]",
      "text/plain": [
       "<Figure size 432x288 with 1 Axes>"
      ]
     },
     "metadata": {
      "needs_background": "light"
     },
     "output_type": "display_data"
    }
   ],
   "source": [
    "#Check some plots to see if we can find any significant monthly spikes in sales\n",
    "plt.plot(list(group6[group6.general_categories == ('(Цифра)', 'MAC', 'Программы')].item_cnt_month2))"
   ]
  },
  {
   "cell_type": "code",
   "execution_count": 68,
   "metadata": {},
   "outputs": [],
   "source": [
    "general_categories_peaks = {}\n",
    "for x in group6.general_categories:\n",
    "    general_categories_peaks[x] = list(group6[group6.general_categories == x].month_gen_categories_avg_sale)"
   ]
  },
  {
   "cell_type": "code",
   "execution_count": 319,
   "metadata": {},
   "outputs": [
    {
     "data": {
      "text/plain": [
       "[<matplotlib.lines.Line2D at 0x7f4fa216d9d0>]"
      ]
     },
     "execution_count": 319,
     "metadata": {},
     "output_type": "execute_result"
    },
    {
     "data": {
      "image/png": "[encoded data removed]",
      "text/plain": [
       "<Figure size 432x288 with 1 Axes>"
      ]
     },
     "metadata": {
      "needs_background": "light"
     },
     "output_type": "display_data"
    }
   ],
   "source": [
    "plt.plot(general_categories_peaks[list(general_categories_peaks.keys())[6]])"
   ]
  },
  {
   "cell_type": "code",
   "execution_count": null,
   "metadata": {},
   "outputs": [],
   "source": [
    "for index, key in enumerate(general_categories_peaks.keys()):\n",
    "    print(index, [(index, value) for index, value in enumerate(general_categories_peaks[key]) if value >= list(pd.DataFrame(general_categories_peaks[list(general_categories_peaks.keys())[0]]).quantile(0.95))[0]])"
   ]
  },
  {
   "cell_type": "code",
   "execution_count": 70,
   "metadata": {},
   "outputs": [],
   "source": [
    "# Get the average popularity of each item in terms of sales across all of the data\n",
    "total_item_popularity_group = new_sales_data.groupby([\"item_id\"]).agg({'item_cnt_month': ['mean']})\n",
    "total_item_popularity_group.reset_index(inplace=True)\n",
    "new_sales_data = pd.merge(new_sales_data, total_item_popularity_group, on = ['item_id'], how = 'left')\n",
    "new_sales_data.rename(columns = {('item_cnt_month', 'mean'): 'tot_item_avg_popularity'}, inplace=True)"
   ]
  },
  {
   "cell_type": "code",
   "execution_count": 22,
   "metadata": {},
   "outputs": [],
   "source": [
    "# Rename all columns to avoid ambiguity\n",
    "new_names = \"dateBlockNum shopId itemId itemCountPerShopPerMonth avergageItemPricePerShopPerMonth monthOfYear isItemSoldThisShopThisMonth itemsSoldPerShopPerMonth1MonthAgo itemsSoldPerShopPerMonth2MonthsAgo itemsSoldPerShopPerMonth3MonthsAgo itemsSoldPerShopPerMonth4MonthsAgo itemsSoldPerShopPerMonth6MonthsAgo itemsSoldPerShopPerMonth12MonthsAgo totItemsSoldPerShopPerMonthLast12Months totItemsSoldPerShopPerMonthLast2Months totItemsSoldPerShopPerMonthLast3Months totItemsSoldPerShopPerMonthLast4Months totItemsSoldPerShopPerMonthLast6Months totItemsSoldPerShopPerMonthSinceBeginning itemLastMonthSoldPerShop peakMonthOfYearForSelling? monthAverageSales monthAverageSalesPerShop monthAverageSalesPerItem itemCategory monthAverageSalesPerItemCategory generalItemCategories monthAverageSalesPerGeneralItemCategories itemAverageSalesSinceBeginning\"\n",
    "new_names = new_names.split()\n",
    "\n",
    "renames = {}\n",
    "for a, b in zip(list(new_sales_data.columns), new_names):\n",
    "    renames[a] = b\n",
    "\n",
    "new_sales_data.rename(columns = renames, inplace=True)"
   ]
  },
  {
   "cell_type": "code",
   "execution_count": 84,
   "metadata": {},
   "outputs": [],
   "source": [
    "new_sales_data['generalItemCategoriesEncoded'] = LabelEncoder().fit_transform(new_sales_data['generalItemCategories'])"
   ]
  },
  {
   "cell_type": "code",
   "execution_count": 85,
   "metadata": {},
   "outputs": [],
   "source": [
    "shop_city = {}\n",
    "for x in shops['shop_name']:\n",
    "    splits = x.split()\n",
    "    if splits[0] not in shop_city.keys():\n",
    "        shop_city[splits[0]] = []\n",
    "    shop_city[splits[0]].append(x)\n",
    "    \n",
    "shops['city'] = shops['shop_name'].apply(lambda x: x.split()[0])\n",
    "\n",
    "shopindex2city = {}\n",
    "for index in shops.shop_id:\n",
    "    shopindex2city[index] = list(shops[shops['shop_id'] == index].city)[0]\n",
    "    \n",
    "    \n",
    "    \n",
    "new_sales_data['city'] = new_sales_data['shopId'].apply(lambda x: shopindex2city[x])\n",
    "new_sales_data['cityEncoded'] = LabelEncoder().fit_transform(new_sales_data['city'])"
   ]
  },
  {
   "cell_type": "code",
   "execution_count": 90,
   "metadata": {},
   "outputs": [],
   "source": [
    "month_city_item_count = new_sales_data.groupby(['dateBlockNum', 'itemId','city']).agg({'itemCountPerShopPerMonth': ['mean']})\n",
    "month_city_item_count.columns = ['itemAverageSalesPerCityPerMonth']\n",
    "month_city_item_count.reset_index(inplace=True)\n",
    "new_sales_data = pd.merge(new_sales_data, month_city_item_count, on = ['dateBlockNum', 'itemId', 'city'], how='left')\n",
    "\n",
    "month_city = new_sales_data.groupby(['dateBlockNum', 'city']).agg({\"itemCountPerShopPerMonth\":['mean']})\n",
    "month_city.columns = ['averageSalesPerCityPerMonth']\n",
    "month_city.reset_index(inplace=True)\n",
    "new_sales_data = pd.merge(new_sales_data, month_city, on = ['dateBlockNum', 'city'], how = 'left')\n",
    "\n",
    "city_average_sales = new_sales_data.groupby(['city']).agg({\"itemCountPerShopPerMonth\":['mean']})\n",
    "city_average_sales.columns = ['cityAverageSales']\n",
    "city_average_sales.reset_index(inplace=True)\n",
    "new_sales_data = pd.merge(new_sales_data, city_average_sales, on = ['city'], how = 'left')\n",
    "\n",
    "month_city_item_total_sales = new_sales_data.groupby(['dateBlockNum', 'itemId', 'city']).agg({'itemCountPerShopPerMonth':['sum']})\n",
    "month_city_item_total_sales.columns = ['totalSalesPerItemPerCityPerMonth']\n",
    "month_city_item_total_sales.reset_index(inplace=True)\n",
    "new_sales_data = pd.merge(new_sales_data, month_city_item_total_sales, on = ['dateBlockNum', 'itemId', 'city'], how = 'left')"
   ]
  },
  {
   "cell_type": "code",
   "execution_count": 4,
   "metadata": {},
   "outputs": [],
   "source": [
    "temp = new_sales_data.groupby(['dateBlockNum'])"
   ]
  },
  {
   "cell_type": "code",
   "execution_count": 5,
   "metadata": {},
   "outputs": [],
   "source": [
    "def getCumMonths(temp, months):\n",
    "    tot = []\n",
    "    for month in [list(temp.first()['monthAverageSales'].shift(periods=x, fill_value=0)) for x in range(1, months+1)]:\n",
    "        if tot == []:\n",
    "            tot = month\n",
    "        else:\n",
    "            tot = [a+b for a, b in zip(tot, month)]\n",
    "    return tot"
   ]
  },
  {
   "cell_type": "code",
   "execution_count": 6,
   "metadata": {},
   "outputs": [],
   "source": [
    "new_sales_data['monthAverageSalesLast1Month'] = new_sales_data['monthAverageSales'].shift(periods=1330200, fill_value=0)\n",
    "new_sales_data['monthAverageSalesLast2Month'] = new_sales_data['monthAverageSales'].shift(periods=2*1330200, fill_value=0)\n",
    "new_sales_data['monthAverageSalesLast3Month'] = new_sales_data['monthAverageSales'].shift(periods=3*1330200, fill_value=0)\n",
    "new_sales_data['monthAverageSalesLast4Month'] = new_sales_data['monthAverageSales'].shift(periods=4*1330200, fill_value=0)\n",
    "new_sales_data['monthAverageSalesLast6Month'] = new_sales_data['monthAverageSales'].shift(periods=6*1330200, fill_value=0)\n",
    "new_sales_data['monthAverageSalesLast12Month'] = new_sales_data['monthAverageSales'].shift(periods=12*1330200, fill_value=0)\n",
    "\n",
    "cum_list = getCumMonths(temp, 2)\n",
    "new_sales_data['monthTotalSalesLast2Months'] = new_sales_data['dateBlockNum'].apply(lambda x: cum_list[x])\n",
    "cum_list = getCumMonths(temp, 3)\n",
    "new_sales_data['monthTotalSalesLast3Months'] = new_sales_data['dateBlockNum'].apply(lambda x: cum_list[x])\n",
    "cum_list = getCumMonths(temp, 4)\n",
    "new_sales_data['monthTotalSalesLast4Months'] = new_sales_data['dateBlockNum'].apply(lambda x: cum_list[x])\n",
    "cum_list = getCumMonths(temp, 6)\n",
    "new_sales_data['monthTotalSalesLast6Months'] = new_sales_data['dateBlockNum'].apply(lambda x: cum_list[x])\n",
    "cum_list = getCumMonths(temp, 12)\n",
    "new_sales_data['monthTotalSalesLast12Months'] = new_sales_data['dateBlockNum'].apply(lambda x: cum_list[x])"
   ]
  },
  {
   "cell_type": "code",
   "execution_count": 21,
   "metadata": {},
   "outputs": [
    {
     "name": "stdout",
     "output_type": "stream",
     "text": [
      "<class 'pandas.core.frame.DataFrame'>\n",
      "Int64Index: 46557000 entries, 0 to 46556999\n",
      "Data columns (total 47 columns):\n",
      " #   Column                                     Dtype  \n",
      "---  ------                                     -----  \n",
      " 0   dateBlockNum                               int8   \n",
      " 1   shopId                                     int8   \n",
      " 2   itemId                                     int64  \n",
      " 3   itemCountPerShopPerMonth                   int16  \n",
      " 4   avergageItemPricePerShopPerMonth           float16\n",
      " 5   monthOfYear                                int16  \n",
      " 6   isItemSoldThisShopThisMonth                int16  \n",
      " 7   itemsSoldPerShopPerMonth1MonthAgo          int16  \n",
      " 8   itemsSoldPerShopPerMonth2MonthsAgo         int16  \n",
      " 9   itemsSoldPerShopPerMonth3MonthsAgo         int16  \n",
      " 10  itemsSoldPerShopPerMonth4MonthsAgo         int16  \n",
      " 11  itemsSoldPerShopPerMonth6MonthsAgo         int16  \n",
      " 12  itemsSoldPerShopPerMonth12MonthsAgo        int16  \n",
      " 13  totItemsSoldPerShopPerMonthLast12Months    int16  \n",
      " 14  totItemsSoldPerShopPerMonthLast2Months     int16  \n",
      " 15  totItemsSoldPerShopPerMonthLast3Months     int16  \n",
      " 16  totItemsSoldPerShopPerMonthLast4Months     int16  \n",
      " 17  totItemsSoldPerShopPerMonthLast6Months     int16  \n",
      " 18  totItemsSoldPerShopPerMonthSinceBeginning  int16  \n",
      " 19  itemLastMonthSoldPerShop                   int16  \n",
      " 20  peakMonthOfYearForSelling?                 float16\n",
      " 21  monthAverageSales                          int16  \n",
      " 22  monthAverageSalesPerShop                   float16\n",
      " 23  monthAverageSalesPerItem                   float64\n",
      " 24  itemCategory                               int64  \n",
      " 25  monthAverageSalesPerItemCategory           float16\n",
      " 26  generalItemCategories                      object \n",
      " 27  monthAverageSalesPerGeneralItemCategories  float16\n",
      " 28  itemAverageSalesSinceBeginning             float16\n",
      " 29  generalItemCategoriesEncoded               int64  \n",
      " 30  city                                       object \n",
      " 31  cityEncoded                                int64  \n",
      " 32  itemAverageSalesPerCityPerMonth            float16\n",
      " 33  averageSalesPerCityPerMonth                float16\n",
      " 34  cityAverageSales                           float16\n",
      " 35  totalSalesPerItemPerCityPerMonth           int16  \n",
      " 36  monthAverageSalesLast1Month                int16  \n",
      " 37  monthAverageSalesLast2Month                int16  \n",
      " 38  monthAverageSalesLast3Month                int16  \n",
      " 39  monthAverageSalesLast4Month                int16  \n",
      " 40  monthAverageSalesLast6Month                int16  \n",
      " 41  monthAverageSalesLast12Month               int16  \n",
      " 42  monthTotalSalesLast2Months                 int32  \n",
      " 43  monthTotalSalesLast3Months                 int32  \n",
      " 44  monthTotalSalesLast4Months                 int32  \n",
      " 45  monthTotalSalesLast6Months                 int32  \n",
      " 46  monthTotalSalesLast12Months                int32  \n",
      "dtypes: float16(9), float64(1), int16(24), int32(5), int64(4), int8(2), object(2)\n",
      "memory usage: 6.6+ GB\n"
     ]
    }
   ],
   "source": [
    "new_sales_data.info()\n",
    "new_sales_data.monthAverageSalesPerShop = new_sales_data.monthAverageSalesPerShop.astype(np.float16)\n",
    "new_sales_data.monthAverageSalesPerItemCategory = new_sales_data.monthAverageSalesPerItemCategory.astype(np.float16)\n",
    "new_sales_data.monthAverageSalesPerGeneralItemCategories = new_sales_data.monthAverageSalesPerGeneralItemCategories.astype(np.float16)\n",
    "new_sales_data.itemAverageSalesSinceBeginning = new_sales_data.itemAverageSalesSinceBeginning.astype(np.float16)\n",
    "new_sales_data.itemAverageSalesPerCityPerMonth = new_sales_data.itemAverageSalesPerCityPerMonth.astype(np.float16)\n",
    "new_sales_data.averageSalesPerCityPerMonth = new_sales_data.averageSalesPerCityPerMonth.astype(np.float16)\n",
    "new_sales_data.cityAverageSales = new_sales_data.cityAverageSales.astype(np.float16)\n",
    "new_sales_data.monthTotalSalesLast2Months = new_sales_data.monthTotalSalesLast2Months.astype(np.int32)\n",
    "new_sales_data.monthTotalSalesLast3Months = new_sales_data.monthTotalSalesLast3Months.astype(np.int32)\n",
    "new_sales_data.monthTotalSalesLast4Months = new_sales_data.monthTotalSalesLast4Months.astype(np.int32)\n",
    "new_sales_data.monthTotalSalesLast6Months = new_sales_data.monthTotalSalesLast6Months.astype(np.int32)\n",
    "new_sales_data.monthTotalSalesLast12Months = new_sales_data.monthTotalSalesLast12Months.astype(np.int32)\n"
   ]
  },
  {
   "cell_type": "code",
   "execution_count": 7,
   "metadata": {},
   "outputs": [],
   "source": [
    "new_sales_data['avergageItemPricePerShopPerMonthLast1Month'] = new_sales_data['avergageItemPricePerShopPerMonth'].shift(periods=1330200, fill_value=0)\n",
    "new_sales_data['avergageItemPricePerShopPerMonthLast2Month'] = new_sales_data['avergageItemPricePerShopPerMonth'].shift(periods=2*1330200, fill_value=0)\n",
    "new_sales_data['avergageItemPricePerShopPerMonthLast3Month'] = new_sales_data['avergageItemPricePerShopPerMonth'].shift(periods=3*1330200, fill_value=0)\n",
    "new_sales_data['avergageItemPricePerShopPerMonthLast4Month'] = new_sales_data['avergageItemPricePerShopPerMonth'].shift(periods=4*1330200, fill_value=0)\n",
    "new_sales_data['avergageItemPricePerShopPerMonthLast6Month'] = new_sales_data['avergageItemPricePerShopPerMonth'].shift(periods=6*1330200, fill_value=0)\n",
    "new_sales_data['avergageItemPricePerShopPerMonthLast12Month'] = new_sales_data['avergageItemPricePerShopPerMonth'].shift(periods=12*1330200, fill_value=0)"
   ]
  },
  {
   "cell_type": "code",
   "execution_count": 25,
   "metadata": {},
   "outputs": [
    {
     "name": "stdout",
     "output_type": "stream",
     "text": [
      "<class 'pandas.core.frame.DataFrame'>\n",
      "Int64Index: 46557000 entries, 0 to 46556999\n",
      "Data columns (total 89 columns):\n",
      " #   Column                                                Dtype  \n",
      "---  ------                                                -----  \n",
      " 0   dateBlockNum                                          int8   \n",
      " 1   shopId                                                int8   \n",
      " 2   itemId                                                int64  \n",
      " 3   itemCountPerShopPerMonth                              int16  \n",
      " 4   avergageItemPricePerShopPerMonth                      float16\n",
      " 5   monthOfYear                                           int16  \n",
      " 6   isItemSoldThisShopThisMonth                           int16  \n",
      " 7   itemsSoldPerShopPerMonth1MonthAgo                     int16  \n",
      " 8   itemsSoldPerShopPerMonth2MonthsAgo                    int16  \n",
      " 9   itemsSoldPerShopPerMonth3MonthsAgo                    int16  \n",
      " 10  itemsSoldPerShopPerMonth4MonthsAgo                    int16  \n",
      " 11  itemsSoldPerShopPerMonth6MonthsAgo                    int16  \n",
      " 12  itemsSoldPerShopPerMonth12MonthsAgo                   int16  \n",
      " 13  totItemsSoldPerShopPerMonthLast12Months               int16  \n",
      " 14  totItemsSoldPerShopPerMonthLast2Months                int16  \n",
      " 15  totItemsSoldPerShopPerMonthLast3Months                int16  \n",
      " 16  totItemsSoldPerShopPerMonthLast4Months                int16  \n",
      " 17  totItemsSoldPerShopPerMonthLast6Months                int16  \n",
      " 18  totItemsSoldPerShopPerMonthSinceBeginning             int16  \n",
      " 19  itemLastMonthSoldPerShop                              int16  \n",
      " 20  peakMonthOfYearForSelling?                            float16\n",
      " 21  monthAverageSales                                     int16  \n",
      " 22  monthAverageSalesPerShop                              float16\n",
      " 23  monthAverageSalesPerItem                              float64\n",
      " 24  itemCategory                                          int64  \n",
      " 25  monthAverageSalesPerItemCategory                      float16\n",
      " 26  generalItemCategories                                 object \n",
      " 27  monthAverageSalesPerGeneralItemCategories             float16\n",
      " 28  itemAverageSalesSinceBeginning                        float16\n",
      " 29  generalItemCategoriesEncoded                          int64  \n",
      " 30  city                                                  object \n",
      " 31  cityEncoded                                           int64  \n",
      " 32  itemAverageSalesPerCityPerMonth                       float16\n",
      " 33  averageSalesPerCityPerMonth                           float16\n",
      " 34  cityAverageSales                                      float16\n",
      " 35  totalSalesPerItemPerCityPerMonth                      int16  \n",
      " 36  monthAverageSalesLast1Month                           int16  \n",
      " 37  monthAverageSalesLast2Month                           int16  \n",
      " 38  monthAverageSalesLast3Month                           int16  \n",
      " 39  monthAverageSalesLast4Month                           int16  \n",
      " 40  monthAverageSalesLast6Month                           int16  \n",
      " 41  monthAverageSalesLast12Month                          int16  \n",
      " 42  monthTotalSalesLast2Months                            int32  \n",
      " 43  monthTotalSalesLast3Months                            int32  \n",
      " 44  monthTotalSalesLast4Months                            int32  \n",
      " 45  monthTotalSalesLast6Months                            int32  \n",
      " 46  monthTotalSalesLast12Months                           int32  \n",
      " 47  monthAverageSalesPerShopLast1Month                    float16\n",
      " 48  monthAverageSalesPerShopLast2Month                    float16\n",
      " 49  monthAverageSalesPerShopLast3Month                    float16\n",
      " 50  monthAverageSalesPerShopLast4Month                    float16\n",
      " 51  monthAverageSalesPerShopLast6Month                    float16\n",
      " 52  monthAverageSalesPerShopLast12Month                   float16\n",
      " 53  monthAverageSalesPerItemLast1Month                    float64\n",
      " 54  monthAverageSalesPerItemLast2Month                    float64\n",
      " 55  monthAverageSalesPerItemLast3Month                    float64\n",
      " 56  monthAverageSalesPerItemLast4Month                    float64\n",
      " 57  monthAverageSalesPerItemLast6Month                    float64\n",
      " 58  monthAverageSalesPerItemLast12Month                   float64\n",
      " 59  monthAverageSalesPerItemCategoryLast1Month            float16\n",
      " 60  monthAverageSalesPerItemCategoryLast2Month            float16\n",
      " 61  monthAverageSalesPerItemCategoryLast3Month            float16\n",
      " 62  monthAverageSalesPerItemCategoryLast4Month            float16\n",
      " 63  monthAverageSalesPerItemCategoryLast6Month            float16\n",
      " 64  monthAverageSalesPerItemCategoryLast12Month           float16\n",
      " 65  monthAverageSalesPerGeneralItemCategoriesLast1Month   float16\n",
      " 66  monthAverageSalesPerGeneralItemCategoriesLast2Month   float16\n",
      " 67  monthAverageSalesPerGeneralItemCategoriesLast3Month   float16\n",
      " 68  monthAverageSalesPerGeneralItemCategoriesLast4Month   float16\n",
      " 69  monthAverageSalesPerGeneralItemCategoriesLast6Month   float16\n",
      " 70  monthAverageSalesPerGeneralItemCategoriesLast12Month  float16\n",
      " 71  itemAverageSalesPerCityPerMonthLast1Month             float16\n",
      " 72  itemAverageSalesPerCityPerMonthLast2Month             float16\n",
      " 73  itemAverageSalesPerCityPerMonthLast3Month             float16\n",
      " 74  itemAverageSalesPerCityPerMonthLast4Month             float16\n",
      " 75  itemAverageSalesPerCityPerMonthLast6Month             float16\n",
      " 76  itemAverageSalesPerCityPerMonthLast12Month            float16\n",
      " 77  averageSalesPerCityPerMonthLast1Month                 float16\n",
      " 78  averageSalesPerCityPerMonthLast2Month                 float16\n",
      " 79  averageSalesPerCityPerMonthLast3Month                 float16\n",
      " 80  averageSalesPerCityPerMonthLast4Month                 float16\n",
      " 81  averageSalesPerCityPerMonthLast6Month                 float16\n",
      " 82  averageSalesPerCityPerMonthLast12Month                float16\n",
      " 83  avergageItemPricePerShopPerMonthLast1Month            float16\n",
      " 84  avergageItemPricePerShopPerMonthLast2Month            float16\n",
      " 85  avergageItemPricePerShopPerMonthLast3Month            float16\n",
      " 86  avergageItemPricePerShopPerMonthLast4Month            float16\n",
      " 87  avergageItemPricePerShopPerMonthLast6Month            float16\n",
      " 88  avergageItemPricePerShopPerMonthLast12Month           float16\n",
      "dtypes: float16(45), float64(7), int16(24), int32(5), int64(4), int8(2), object(2)\n",
      "memory usage: 11.8+ GB\n"
     ]
    }
   ],
   "source": [
    "new_sales_data.info()\n",
    "new_sales_data.monthAverageSalesPerItemLast1Month = new_sales_data.monthAverageSalesPerItemLast1Month.astype(np.float16)\n",
    "new_sales_data.monthAverageSalesPerItemLast2Month = new_sales_data.monthAverageSalesPerItemLast2Month.astype(np.float16)\n",
    "new_sales_data.monthAverageSalesPerItemLast3Month = new_sales_data.monthAverageSalesPerItemLast3Month.astype(np.float16)\n",
    "new_sales_data.monthAverageSalesPerItemLast4Month = new_sales_data.monthAverageSalesPerItemLast4Month.astype(np.float16)\n",
    "new_sales_data.monthAverageSalesPerItemLast6Month = new_sales_data.monthAverageSalesPerItemLast6Month.astype(np.float16)\n",
    "new_sales_data.monthAverageSalesPerItemLast12Month = new_sales_data.monthAverageSalesPerItemLast12Month.astype(np.float16)\n"
   ]
  },
  {
   "cell_type": "code",
   "execution_count": 31,
   "metadata": {},
   "outputs": [],
   "source": [
    "new_sales_data['monthAverageSalesPerShopLast1Month'] = new_sales_data['monthAverageSalesPerShop'].shift(periods=1330200, fill_value=0)\n",
    "new_sales_data['monthAverageSalesPerShopLast2Month'] = new_sales_data['monthAverageSalesPerShop'].shift(periods=2*1330200, fill_value=0)\n",
    "new_sales_data['monthAverageSalesPerShopLast3Month'] = new_sales_data['monthAverageSalesPerShop'].shift(periods=3*1330200, fill_value=0)\n",
    "new_sales_data['monthAverageSalesPerShopLast4Month'] = new_sales_data['monthAverageSalesPerShop'].shift(periods=4*1330200, fill_value=0)\n",
    "new_sales_data['monthAverageSalesPerShopLast6Month'] = new_sales_data['monthAverageSalesPerShop'].shift(periods=6*1330200, fill_value=0)\n",
    "new_sales_data['monthAverageSalesPerShopLast12Month'] = new_sales_data['monthAverageSalesPerShop'].shift(periods=12*1330200, fill_value=0)\n",
    "\n",
    "new_sales_data['monthAverageSalesPerItemLast1Month'] = new_sales_data['monthAverageSalesPerItem'].shift(periods=1330200, fill_value=0)\n",
    "new_sales_data['monthAverageSalesPerItemLast2Month'] = new_sales_data['monthAverageSalesPerItem'].shift(periods=2*1330200, fill_value=0)\n",
    "new_sales_data['monthAverageSalesPerItemLast3Month'] = new_sales_data['monthAverageSalesPerItem'].shift(periods=3*1330200, fill_value=0)\n",
    "new_sales_data['monthAverageSalesPerItemLast4Month'] = new_sales_data['monthAverageSalesPerItem'].shift(periods=4*1330200, fill_value=0)\n",
    "new_sales_data['monthAverageSalesPerItemLast6Month'] = new_sales_data['monthAverageSalesPerItem'].shift(periods=6*1330200, fill_value=0)\n",
    "new_sales_data['monthAverageSalesPerItemLast12Month'] = new_sales_data['monthAverageSalesPerItem'].shift(periods=12*1330200, fill_value=0)\n",
    "\n",
    "new_sales_data['monthAverageSalesPerItemCategoryLast1Month'] = new_sales_data['monthAverageSalesPerItemCategory'].shift(periods=1330200, fill_value=0)\n",
    "new_sales_data['monthAverageSalesPerItemCategoryLast2Month'] = new_sales_data['monthAverageSalesPerItemCategory'].shift(periods=2*1330200, fill_value=0)\n",
    "new_sales_data['monthAverageSalesPerItemCategoryLast3Month'] = new_sales_data['monthAverageSalesPerItemCategory'].shift(periods=3*1330200, fill_value=0)\n",
    "new_sales_data['monthAverageSalesPerItemCategoryLast4Month'] = new_sales_data['monthAverageSalesPerItemCategory'].shift(periods=4*1330200, fill_value=0)\n",
    "new_sales_data['monthAverageSalesPerItemCategoryLast6Month'] = new_sales_data['monthAverageSalesPerItemCategory'].shift(periods=6*1330200, fill_value=0)\n",
    "new_sales_data['monthAverageSalesPerItemCategoryLast12Month'] = new_sales_data['monthAverageSalesPerItemCategory'].shift(periods=12*1330200, fill_value=0)\n",
    "\n",
    "new_sales_data['monthAverageSalesPerGeneralItemCategoriesLast1Month'] = new_sales_data['monthAverageSalesPerGeneralItemCategories'].shift(periods=1330200, fill_value=0)\n",
    "new_sales_data['monthAverageSalesPerGeneralItemCategoriesLast2Month'] = new_sales_data['monthAverageSalesPerGeneralItemCategories'].shift(periods=2*1330200, fill_value=0)\n",
    "new_sales_data['monthAverageSalesPerGeneralItemCategoriesLast3Month'] = new_sales_data['monthAverageSalesPerGeneralItemCategories'].shift(periods=3*1330200, fill_value=0)\n",
    "new_sales_data['monthAverageSalesPerGeneralItemCategoriesLast4Month'] = new_sales_data['monthAverageSalesPerGeneralItemCategories'].shift(periods=4*1330200, fill_value=0)\n",
    "new_sales_data['monthAverageSalesPerGeneralItemCategoriesLast6Month'] = new_sales_data['monthAverageSalesPerGeneralItemCategories'].shift(periods=6*1330200, fill_value=0)\n",
    "new_sales_data['monthAverageSalesPerGeneralItemCategoriesLast12Month'] = new_sales_data['monthAverageSalesPerGeneralItemCategories'].shift(periods=12*1330200, fill_value=0)\n",
    "\n",
    "new_sales_data['itemAverageSalesPerCityPerMonthLast1Month'] = new_sales_data['itemAverageSalesPerCityPerMonth'].shift(periods=1330200, fill_value=0)\n",
    "new_sales_data['itemAverageSalesPerCityPerMonthLast2Month'] = new_sales_data['itemAverageSalesPerCityPerMonth'].shift(periods=2*1330200, fill_value=0)\n",
    "new_sales_data['itemAverageSalesPerCityPerMonthLast3Month'] = new_sales_data['itemAverageSalesPerCityPerMonth'].shift(periods=3*1330200, fill_value=0)\n",
    "new_sales_data['itemAverageSalesPerCityPerMonthLast4Month'] = new_sales_data['itemAverageSalesPerCityPerMonth'].shift(periods=4*1330200, fill_value=0)\n",
    "new_sales_data['itemAverageSalesPerCityPerMonthLast6Month'] = new_sales_data['itemAverageSalesPerCityPerMonth'].shift(periods=6*1330200, fill_value=0)\n",
    "new_sales_data['itemAverageSalesPerCityPerMonthLast12Month'] = new_sales_data['itemAverageSalesPerCityPerMonth'].shift(periods=12*1330200, fill_value=0)\n",
    "\n",
    "new_sales_data['averageSalesPerCityPerMonthLast1Month'] = new_sales_data['averageSalesPerCityPerMonth'].shift(periods=1330200, fill_value=0)\n",
    "new_sales_data['averageSalesPerCityPerMonthLast2Month'] = new_sales_data['averageSalesPerCityPerMonth'].shift(periods=2*1330200, fill_value=0)\n",
    "new_sales_data['averageSalesPerCityPerMonthLast3Month'] = new_sales_data['averageSalesPerCityPerMonth'].shift(periods=3*1330200, fill_value=0)\n",
    "new_sales_data['averageSalesPerCityPerMonthLast4Month'] = new_sales_data['averageSalesPerCityPerMonth'].shift(periods=4*1330200, fill_value=0)\n",
    "new_sales_data['averageSalesPerCityPerMonthLast6Month'] = new_sales_data['averageSalesPerCityPerMonth'].shift(periods=6*1330200, fill_value=0)\n",
    "new_sales_data['averageSalesPerCityPerMonthLast12Month'] = new_sales_data['averageSalesPerCityPerMonth'].shift(periods=12*1330200, fill_value=0)"
   ]
  },
  {
   "cell_type": "code",
   "execution_count": 1,
   "metadata": {},
   "outputs": [],
   "source": [
    "def getCumMonthsExt(temp,column, months):\n",
    "    tot = []\n",
    "    for month in [list(temp.first()[column].shift(periods=x, fill_value=0)) for x in range(1, months+1)]:\n",
    "        if tot == []:\n",
    "            tot = month\n",
    "        else:\n",
    "            tot = [a+b for a, b in zip(tot, month)]\n",
    "    return tot"
   ]
  },
  {
   "cell_type": "code",
   "execution_count": 76,
   "metadata": {},
   "outputs": [],
   "source": [
    "new_sales_data.totalSalesPerCityPerMonthLast12Month = new_sales_data.totalSalesPerCityPerMonthLast12Month.astype(np.float16)"
   ]
  },
  {
   "cell_type": "code",
   "execution_count": 32,
   "metadata": {},
   "outputs": [],
   "source": [
    "cum_list = getCumMonthsExt(temp, 'monthAverageSalesPerShop', 2)\n",
    "new_sales_data['monthTotalSalesPerShopLast2Month'] = new_sales_data['dateBlockNum'].apply(lambda x: cum_list[x])\n",
    "cum_list = getCumMonthsExt(temp, 'monthAverageSalesPerShop', 3)\n",
    "new_sales_data['monthTotalSalesPerShopLast3Month'] = new_sales_data['dateBlockNum'].apply(lambda x: cum_list[x])\n",
    "cum_list = getCumMonthsExt(temp, 'monthAverageSalesPerShop', 4)\n",
    "new_sales_data['monthTotalSalesPerShopLast4Month'] = new_sales_data['dateBlockNum'].apply(lambda x: cum_list[x])\n",
    "cum_list = getCumMonthsExt(temp, 'monthAverageSalesPerShop', 6)\n",
    "new_sales_data['monthTotalSalesPerShopLast6Month'] = new_sales_data['dateBlockNum'].apply(lambda x: cum_list[x])\n",
    "cum_list = getCumMonthsExt(temp, 'monthAverageSalesPerShop', 12)\n",
    "new_sales_data['monthTotalSalesPerShopLast12Month'] = new_sales_data['dateBlockNum'].apply(lambda x: cum_list[x])\n",
    "\n",
    "cum_list = getCumMonthsExt(temp, 'monthAverageSalesPerItem', 2)\n",
    "new_sales_data['monthTotalSalesPerItemLast2Month'] = new_sales_data['dateBlockNum'].apply(lambda x: cum_list[x])\n",
    "cum_list = getCumMonthsExt(temp, 'monthAverageSalesPerItem', 3)\n",
    "new_sales_data['monthTotalSalesPerItemLast3Month'] = new_sales_data['dateBlockNum'].apply(lambda x: cum_list[x])\n",
    "cum_list = getCumMonthsExt(temp, 'monthAverageSalesPerItem', 4)\n",
    "new_sales_data['monthTotalSalesPerItemLast4Month'] = new_sales_data['dateBlockNum'].apply(lambda x: cum_list[x])\n",
    "cum_list = getCumMonthsExt(temp, 'monthAverageSalesPerItem', 6)\n",
    "new_sales_data['monthTotalSalesPerItemLast6Month'] = new_sales_data['dateBlockNum'].apply(lambda x: cum_list[x])\n",
    "cum_list = getCumMonthsExt(temp, 'monthAverageSalesPerItem', 12)\n",
    "new_sales_data['monthTotalSalesPerItemLast12Month'] = new_sales_data['dateBlockNum'].apply(lambda x: cum_list[x])\n",
    "\n",
    "cum_list = getCumMonthsExt(temp, 'monthAverageSalesPerItemCategory', 2)\n",
    "new_sales_data['monthTotalSalesPerItemCategoryLast2Month'] = new_sales_data['dateBlockNum'].apply(lambda x: cum_list[x])\n",
    "cum_list = getCumMonthsExt(temp, 'monthAverageSalesPerItemCategory', 3)\n",
    "new_sales_data['monthTotalSalesPerItemCategoryLast3Month'] = new_sales_data['dateBlockNum'].apply(lambda x: cum_list[x])\n",
    "cum_list = getCumMonthsExt(temp, 'monthAverageSalesPerItemCategory', 4)\n",
    "new_sales_data['monthTotalSalesPerItemCategoryLast4Month'] = new_sales_data['dateBlockNum'].apply(lambda x: cum_list[x])\n",
    "cum_list = getCumMonthsExt(temp, 'monthAverageSalesPerItemCategory', 6)\n",
    "new_sales_data['monthTotalSalesPerItemCategoryLast6Month'] = new_sales_data['dateBlockNum'].apply(lambda x: cum_list[x])\n",
    "cum_list = getCumMonthsExt(temp, 'monthAverageSalesPerItemCategory', 12)\n",
    "new_sales_data['monthTotalSalesPerItemCategoryLast12Month'] = new_sales_data['dateBlockNum'].apply(lambda x: cum_list[x])\n",
    "\n",
    "cum_list = getCumMonthsExt(temp, 'monthAverageSalesPerGeneralItemCategories', 2)\n",
    "new_sales_data['monthTotalSalesPerGeneralItemCategoriesLast2Month'] = new_sales_data['dateBlockNum'].apply(lambda x: cum_list[x])\n",
    "cum_list = getCumMonthsExt(temp, 'monthAverageSalesPerGeneralItemCategories', 3)\n",
    "new_sales_data['monthTotalSalesPerGeneralItemCategoriesLast3Month'] = new_sales_data['dateBlockNum'].apply(lambda x: cum_list[x])\n",
    "cum_list = getCumMonthsExt(temp, 'monthAverageSalesPerGeneralItemCategories', 4)\n",
    "new_sales_data['monthTotalSalesPerGeneralItemCategoriesLast4Month'] = new_sales_data['dateBlockNum'].apply(lambda x: cum_list[x])\n",
    "cum_list = getCumMonthsExt(temp, 'monthAverageSalesPerGeneralItemCategories', 6)\n",
    "new_sales_data['monthTotalSalesPerGeneralItemCategoriesLast6Month'] = new_sales_data['dateBlockNum'].apply(lambda x: cum_list[x])\n",
    "cum_list = getCumMonthsExt(temp, 'monthAverageSalesPerGeneralItemCategories', 12)\n",
    "new_sales_data['monthTotalSalesPerGeneralItemCategoriesLast12Month'] = new_sales_data['dateBlockNum'].apply(lambda x: cum_list[x])\n",
    "\n",
    "cum_list = getCumMonthsExt(temp, 'itemAverageSalesPerCityPerMonth', 2)\n",
    "new_sales_data['itemTotalSalesPerCityPerMonthLast2Month'] = new_sales_data['dateBlockNum'].apply(lambda x: cum_list[x])\n",
    "cum_list = getCumMonthsExt(temp, 'itemAverageSalesPerCityPerMonth', 3)\n",
    "new_sales_data['itemTotalSalesPerCityPerMonthLast3Month'] = new_sales_data['dateBlockNum'].apply(lambda x: cum_list[x])\n",
    "cum_list = getCumMonthsExt(temp, 'itemAverageSalesPerCityPerMonth', 4)\n",
    "new_sales_data['itemTotalSalesPerCityPerMonthLast4Month'] = new_sales_data['dateBlockNum'].apply(lambda x: cum_list[x])\n",
    "cum_list = getCumMonthsExt(temp, 'itemAverageSalesPerCityPerMonth', 6)\n",
    "new_sales_data['itemTotalSalesPerCityPerMonthLast6Month'] = new_sales_data['dateBlockNum'].apply(lambda x: cum_list[x])\n",
    "cum_list = getCumMonthsExt(temp, 'itemAverageSalesPerCityPerMonth', 12)\n",
    "new_sales_data['itemTotalSalesPerCityPerMonthLast12Month'] = new_sales_data['dateBlockNum'].apply(lambda x: cum_list[x])\n",
    "\n",
    "cum_list = getCumMonthsExt(temp, 'averageSalesPerCityPerMonth', 2)\n",
    "new_sales_data['totalSalesPerCityPerMonthLast2Month'] = new_sales_data['dateBlockNum'].apply(lambda x: cum_list[x])\n",
    "cum_list = getCumMonthsExt(temp, 'averageSalesPerCityPerMonth', 3)\n",
    "new_sales_data['totalSalesPerCityPerMonthLast3Month'] = new_sales_data['dateBlockNum'].apply(lambda x: cum_list[x])\n",
    "cum_list = getCumMonthsExt(temp, 'averageSalesPerCityPerMonth', 4)\n",
    "new_sales_data['totalSalesPerCityPerMonthLast4Month'] = new_sales_data['dateBlockNum'].apply(lambda x: cum_list[x])\n",
    "cum_list = getCumMonthsExt(temp, 'averageSalesPerCityPerMonth', 6)\n",
    "new_sales_data['totalSalesPerCityPerMonthLast6Month'] = new_sales_data['dateBlockNum'].apply(lambda x: cum_list[x])\n",
    "cum_list = getCumMonthsExt(temp, 'averageSalesPerCityPerMonth', 12)\n",
    "new_sales_data['totalSalesPerCityPerMonthLast12Month'] = new_sales_data['dateBlockNum'].apply(lambda x: cum_list[x])"
   ]
  },
  {
   "cell_type": "code",
   "execution_count": 4,
   "metadata": {},
   "outputs": [],
   "source": [
    "monthTotalSales = new_sales_data.groupby(['dateBlockNum']).agg({'itemCountPerShopPerMonth':['sum']})\n",
    "monthTotalSales.columns = ['monthTotalSales']\n",
    "monthTotalSales.reset_index(inplace=True)\n",
    "new_sales_data = pd.merge(new_sales_data, monthTotalSales, on = ['dateBlockNum'], how = 'left')"
   ]
  },
  {
   "cell_type": "code",
   "execution_count": 8,
   "metadata": {},
   "outputs": [],
   "source": [
    "monthTotalSalesPerShop = new_sales_data.groupby(['dateBlockNum', 'shopId']).agg({'itemCountPerShopPerMonth':['sum']})\n",
    "monthTotalSalesPerShop.columns = ['monthTotalSalesPerShop']\n",
    "monthTotalSalesPerShop.reset_index(inplace=True)"
   ]
  },
  {
   "cell_type": "code",
   "execution_count": 9,
   "metadata": {},
   "outputs": [],
   "source": [
    "monthTotalSalesPerItem = new_sales_data.groupby(['dateBlockNum', 'itemId']).agg({'itemCountPerShopPerMonth':['sum']})\n",
    "monthTotalSalesPerItem.columns = ['monthTotalSalesPerItem']\n",
    "monthTotalSalesPerItem.reset_index(inplace=True)"
   ]
  },
  {
   "cell_type": "code",
   "execution_count": 10,
   "metadata": {},
   "outputs": [],
   "source": [
    "monthTotalSalesPerItemCategory = new_sales_data.groupby(['dateBlockNum', 'itemCategory']).agg({'itemCountPerShopPerMonth':['sum']})\n",
    "monthTotalSalesPerItemCategory.columns = ['monthTotalSalesPerItemCategory']\n",
    "monthTotalSalesPerItemCategory.reset_index(inplace=True)"
   ]
  },
  {
   "cell_type": "code",
   "execution_count": 11,
   "metadata": {},
   "outputs": [],
   "source": [
    "monthTotalSalesPerGeneralItemCategories = new_sales_data.groupby(['dateBlockNum', 'generalItemCategories']).agg({'itemCountPerShopPerMonth':['sum']})\n",
    "monthTotalSalesPerGeneralItemCategories.columns = ['monthTotalSalesPerGeneralItemCategories']\n",
    "monthTotalSalesPerGeneralItemCategories.reset_index(inplace=True)"
   ]
  },
  {
   "cell_type": "code",
   "execution_count": 12,
   "metadata": {},
   "outputs": [],
   "source": [
    "itemTotalSalesPerCityPerMonth = new_sales_data.groupby(['dateBlockNum', 'itemId', 'city']).agg({'itemCountPerShopPerMonth':['sum']})\n",
    "itemTotalSalesPerCityPerMonth.columns = ['itemTotalSalesPerCityPerMonth']\n",
    "itemTotalSalesPerCityPerMonth.reset_index(inplace=True)"
   ]
  },
  {
   "cell_type": "code",
   "execution_count": 13,
   "metadata": {},
   "outputs": [],
   "source": [
    "totalSalesPerCityPerMonth = new_sales_data.groupby(['dateBlockNum', 'city']).agg({'itemCountPerShopPerMonth':['sum']})\n",
    "totalSalesPerCityPerMonth.columns = ['totalSalesPerCityPerMonth']\n",
    "totalSalesPerCityPerMonth.reset_index(inplace=True)"
   ]
  },
  {
   "cell_type": "code",
   "execution_count": 14,
   "metadata": {},
   "outputs": [],
   "source": [
    "new_sales_data = pd.merge(new_sales_data, monthTotalSalesPerShop, on = ['dateBlockNum', 'shopId'], how = 'left')\n",
    "new_sales_data = pd.merge(new_sales_data, monthTotalSalesPerItem, on = ['dateBlockNum', 'itemId'], how = 'left')\n",
    "new_sales_data = pd.merge(new_sales_data, monthTotalSalesPerItemCategory, on = ['dateBlockNum', 'itemCategory'], how = 'left')\n",
    "new_sales_data = pd.merge(new_sales_data, monthTotalSalesPerGeneralItemCategories, on = ['dateBlockNum', 'generalItemCategories'], how = 'left')\n",
    "new_sales_data = pd.merge(new_sales_data, itemTotalSalesPerCityPerMonth, on = ['dateBlockNum', 'itemId', 'city'], how = 'left')\n",
    "new_sales_data = pd.merge(new_sales_data, totalSalesPerCityPerMonth, on = ['dateBlockNum', 'city'], how = 'left')"
   ]
  },
  {
   "cell_type": "code",
   "execution_count": 33,
   "metadata": {},
   "outputs": [],
   "source": [
    "new_sales_data['peakMonthOfYearForSelling?'] = new_sales_data['dateBlockNum'].apply(lambda x: 1 if x % 12 == 11 else 0)\n",
    "new_sales_data['peakMonthOfYearForSelling?'] = new_sales_data['peakMonthOfYearForSelling?'].astype(np.int8)"
   ]
  },
  {
   "cell_type": "code",
   "execution_count": 26,
   "metadata": {},
   "outputs": [
    {
     "name": "stdout",
     "output_type": "stream",
     "text": [
      "dateBlockNum 34\n",
      "shopId 59\n",
      "itemId 22169\n",
      "itemCountPerShopPerMonth 1644\n",
      "avergageItemPricePerShopPerMonth 51000.0\n",
      "monthOfYear 12\n",
      "isItemSoldThisShopThisMonth 1\n",
      "itemsSoldPerShopPerMonth1MonthAgo 1644\n",
      "itemsSoldPerShopPerMonth2MonthsAgo 1644\n",
      "itemsSoldPerShopPerMonth3MonthsAgo 1305\n",
      "itemsSoldPerShopPerMonth4MonthsAgo 1305\n",
      "itemsSoldPerShopPerMonth6MonthsAgo 1305\n",
      "itemsSoldPerShopPerMonth12MonthsAgo 1305\n",
      "totItemsSoldPerShopPerMonthLast12Months 10419\n",
      "totItemsSoldPerShopPerMonthLast2Months 2294\n",
      "totItemsSoldPerShopPerMonthLast3Months 3272\n",
      "totItemsSoldPerShopPerMonthLast4Months 4222\n",
      "totItemsSoldPerShopPerMonthLast6Months 6062\n",
      "totItemsSoldPerShopPerMonthSinceBeginning 19934\n",
      "itemLastMonthSoldPerShop 34\n",
      "peakMonthOfYearForSelling? 0.1378\n",
      "monthAverageSales 1\n",
      "monthAverageSalesPerShop 0.736\n",
      "monthAverageSalesPerItem 209.28333333333333\n",
      "itemCategory 83\n",
      "monthAverageSalesPerItemCategory 34.88\n",
      "generalItemCategories ('издания', 'Музыка', 'Подарочные')\n",
      "monthAverageSalesPerGeneralItemCategories 175.8\n",
      "itemAverageSalesSinceBeginning 89.4\n",
      "generalItemCategoriesEncoded 83\n",
      "city Ярославль\n",
      "cityEncoded 31\n",
      "itemAverageSalesPerCityPerMonth 1644.0\n",
      "averageSalesPerCityPerMonth 0.4536\n",
      "cityAverageSales 0.2394\n",
      "totalSalesPerItemPerCityPerMonth 5203\n",
      "monthAverageSalesLast1Month 1\n",
      "monthAverageSalesLast2Month 1\n",
      "monthAverageSalesLast3Month 1\n",
      "monthAverageSalesLast4Month 1\n",
      "monthAverageSalesLast6Month 1\n",
      "monthAverageSalesLast12Month 1\n",
      "monthTotalSalesLast2Months 1\n",
      "monthTotalSalesLast3Months 1\n",
      "monthTotalSalesLast4Months 1\n",
      "monthTotalSalesLast6Months 1\n",
      "monthTotalSalesLast12Months 1\n",
      "monthAverageSalesPerShopLast1Month 0.736\n",
      "monthAverageSalesPerShopLast2Month 0.736\n",
      "monthAverageSalesPerShopLast3Month 0.736\n",
      "monthAverageSalesPerShopLast4Month 0.736\n",
      "monthAverageSalesPerShopLast6Month 0.736\n",
      "monthAverageSalesPerShopLast12Month 0.736\n",
      "monthAverageSalesPerItemLast1Month 209.2\n",
      "monthAverageSalesPerItemLast2Month 209.2\n",
      "monthAverageSalesPerItemLast3Month 209.2\n",
      "monthAverageSalesPerItemLast4Month 209.2\n",
      "monthAverageSalesPerItemLast6Month 209.2\n",
      "monthAverageSalesPerItemLast12Month 209.2\n",
      "monthAverageSalesPerItemCategoryLast1Month 34.88\n",
      "monthAverageSalesPerItemCategoryLast2Month 34.88\n",
      "monthAverageSalesPerItemCategoryLast3Month 34.88\n",
      "monthAverageSalesPerItemCategoryLast4Month 34.88\n",
      "monthAverageSalesPerItemCategoryLast6Month 34.88\n",
      "monthAverageSalesPerItemCategoryLast12Month 34.88\n",
      "monthAverageSalesPerGeneralItemCategoriesLast1Month 175.8\n",
      "monthAverageSalesPerGeneralItemCategoriesLast2Month 175.8\n",
      "monthAverageSalesPerGeneralItemCategoriesLast3Month 175.8\n",
      "monthAverageSalesPerGeneralItemCategoriesLast4Month 175.8\n",
      "monthAverageSalesPerGeneralItemCategoriesLast6Month 175.8\n",
      "monthAverageSalesPerGeneralItemCategoriesLast12Month 175.8\n",
      "itemAverageSalesPerCityPerMonthLast1Month 1644.0\n",
      "itemAverageSalesPerCityPerMonthLast2Month 1644.0\n",
      "itemAverageSalesPerCityPerMonthLast3Month 1242.0\n",
      "itemAverageSalesPerCityPerMonthLast4Month 1242.0\n",
      "itemAverageSalesPerCityPerMonthLast6Month 1242.0\n",
      "itemAverageSalesPerCityPerMonthLast12Month 1074.0\n",
      "averageSalesPerCityPerMonthLast1Month 0.4536\n",
      "averageSalesPerCityPerMonthLast2Month 0.4536\n",
      "averageSalesPerCityPerMonthLast3Month 0.4536\n",
      "averageSalesPerCityPerMonthLast4Month 0.4536\n",
      "averageSalesPerCityPerMonthLast6Month 0.4536\n",
      "averageSalesPerCityPerMonthLast12Month 0.4536\n",
      "avergageItemPricePerShopPerMonthLast1Month 51000.0\n",
      "avergageItemPricePerShopPerMonthLast2Month 51000.0\n",
      "avergageItemPricePerShopPerMonthLast3Month 51000.0\n",
      "avergageItemPricePerShopPerMonthLast4Month 51000.0\n",
      "avergageItemPricePerShopPerMonthLast6Month 51000.0\n",
      "avergageItemPricePerShopPerMonthLast12Month 51000.0\n",
      "monthTotalSales 183341.0\n",
      "monthTotalSalesPerShop 16318\n",
      "monthTotalSalesPerItem 12557\n",
      "monthTotalSalesPerItemCategory 36277.0\n",
      "monthTotalSalesPerGeneralItemCategories 36277.0\n",
      "itemTotalSalesPerCityPerMonth 5203\n",
      "totalSalesPerCityPerMonth 65128.0\n"
     ]
    }
   ],
   "source": [
    "for column in new_sales_data.columns:\n",
    "    print(column, new_sales_data[column].max())"
   ]
  },
  {
   "cell_type": "code",
   "execution_count": 80,
   "metadata": {},
   "outputs": [
    {
     "ename": "NameError",
     "evalue": "name 'new_sales_data' is not defined",
     "output_type": "error",
     "traceback": [
      "\u001b[0;31m---------------------------------------------------------------------------\u001b[0m",
      "\u001b[0;31mNameError\u001b[0m                                 Traceback (most recent call last)",
      "\u001b[0;32m<ipython-input-80-ebf76530bbc2>\u001b[0m in \u001b[0;36m<module>\u001b[0;34m\u001b[0m\n\u001b[1;32m      1\u001b[0m \u001b[0;31m# new_sales_data.info()\u001b[0m\u001b[0;34m\u001b[0m\u001b[0;34m\u001b[0m\u001b[0;34m\u001b[0m\u001b[0m\n\u001b[0;32m----> 2\u001b[0;31m \u001b[0mnew_sales_data\u001b[0m\u001b[0;34m.\u001b[0m\u001b[0mmonthTotalSales\u001b[0m \u001b[0;34m=\u001b[0m \u001b[0mnew_sales_data\u001b[0m\u001b[0;34m.\u001b[0m\u001b[0mmonthTotalSales\u001b[0m\u001b[0;34m.\u001b[0m\u001b[0mastype\u001b[0m\u001b[0;34m(\u001b[0m\u001b[0mnp\u001b[0m\u001b[0;34m.\u001b[0m\u001b[0mfloat32\u001b[0m\u001b[0;34m)\u001b[0m\u001b[0;34m\u001b[0m\u001b[0;34m\u001b[0m\u001b[0m\n\u001b[0m\u001b[1;32m      3\u001b[0m \u001b[0mnew_sales_data\u001b[0m\u001b[0;34m.\u001b[0m\u001b[0mmonthTotalSalesPerItemCategory\u001b[0m \u001b[0;34m=\u001b[0m \u001b[0mnew_sales_data\u001b[0m\u001b[0;34m.\u001b[0m\u001b[0mmonthTotalSalesPerItemCategory\u001b[0m\u001b[0;34m.\u001b[0m\u001b[0mastype\u001b[0m\u001b[0;34m(\u001b[0m\u001b[0mnp\u001b[0m\u001b[0;34m.\u001b[0m\u001b[0mfloat32\u001b[0m\u001b[0;34m)\u001b[0m\u001b[0;34m\u001b[0m\u001b[0;34m\u001b[0m\u001b[0m\n\u001b[1;32m      4\u001b[0m \u001b[0mnew_sales_data\u001b[0m\u001b[0;34m.\u001b[0m\u001b[0mmonthTotalSalesPerGeneralItemCategories\u001b[0m \u001b[0;34m=\u001b[0m \u001b[0mnew_sales_data\u001b[0m\u001b[0;34m.\u001b[0m\u001b[0mmonthTotalSalesPerGeneralItemCategories\u001b[0m\u001b[0;34m.\u001b[0m\u001b[0mastype\u001b[0m\u001b[0;34m(\u001b[0m\u001b[0mnp\u001b[0m\u001b[0;34m.\u001b[0m\u001b[0mfloat32\u001b[0m\u001b[0;34m)\u001b[0m\u001b[0;34m\u001b[0m\u001b[0;34m\u001b[0m\u001b[0m\n\u001b[1;32m      5\u001b[0m \u001b[0mnew_sales_data\u001b[0m\u001b[0;34m.\u001b[0m\u001b[0mmonthTotalSales\u001b[0m \u001b[0;34m=\u001b[0m \u001b[0mnew_sales_data\u001b[0m\u001b[0;34m.\u001b[0m\u001b[0mmonthTotalSales\u001b[0m\u001b[0;34m.\u001b[0m\u001b[0mastype\u001b[0m\u001b[0;34m(\u001b[0m\u001b[0mnp\u001b[0m\u001b[0;34m.\u001b[0m\u001b[0mfloat32\u001b[0m\u001b[0;34m)\u001b[0m\u001b[0;34m\u001b[0m\u001b[0;34m\u001b[0m\u001b[0m\n",
      "\u001b[0;31mNameError\u001b[0m: name 'new_sales_data' is not defined"
     ]
    }
   ],
   "source": [
    "# new_sales_data.info()\n",
    "new_sales_data.monthTotalSales = new_sales_data.monthTotalSales.astype(np.float32)\n",
    "new_sales_data.monthTotalSalesPerItemCategory = new_sales_data.monthTotalSalesPerItemCategory.astype(np.float32)\n",
    "new_sales_data.monthTotalSalesPerGeneralItemCategories = new_sales_data.monthTotalSalesPerGeneralItemCategories.astype(np.float32)\n",
    "new_sales_data.monthTotalSales = new_sales_data.monthTotalSales.astype(np.float32)"
   ]
  },
  {
   "cell_type": "code",
   "execution_count": 4,
   "metadata": {},
   "outputs": [],
   "source": [
    "new_sales_data['monthTotalSalesLast1Month'] = new_sales_data['monthTotalSales'].shift(periods=1330200, fill_value=0)\n",
    "new_sales_data['monthTotalSalesLast2Month'] = new_sales_data['monthTotalSales'].shift(periods=2*1330200, fill_value=0)\n",
    "new_sales_data['monthTotalSalesLast3Month'] = new_sales_data['monthTotalSales'].shift(periods=3*1330200, fill_value=0)\n",
    "new_sales_data['monthTotalSalesLast4Month'] = new_sales_data['monthTotalSales'].shift(periods=4*1330200, fill_value=0)\n",
    "new_sales_data['monthTotalSalesLast6Month'] = new_sales_data['monthTotalSales'].shift(periods=6*1330200, fill_value=0)\n",
    "new_sales_data['monthTotalSalesLast12Month'] = new_sales_data['monthTotalSales'].shift(periods=12*1330200, fill_value=0)\n",
    "\n",
    "\n",
    "new_sales_data['monthTotalSalesPerShopLast1Month'] = new_sales_data['monthTotalSalesPerShop'].shift(periods=1330200, fill_value=0)\n",
    "new_sales_data['monthTotalSalesPerShopLast2Month'] = new_sales_data['monthTotalSalesPerShop'].shift(periods=2*1330200, fill_value=0)\n",
    "new_sales_data['monthTotalSalesPerShopLast3Month'] = new_sales_data['monthTotalSalesPerShop'].shift(periods=3*1330200, fill_value=0)\n",
    "new_sales_data['monthTotalSalesPerShopLast4Month'] = new_sales_data['monthTotalSalesPerShop'].shift(periods=4*1330200, fill_value=0)\n",
    "new_sales_data['monthTotalSalesPerShopLast6Month'] = new_sales_data['monthTotalSalesPerShop'].shift(periods=6*1330200, fill_value=0)\n",
    "new_sales_data['monthTotalSalesPerShopLast12Month'] = new_sales_data['monthTotalSalesPerShop'].shift(periods=12*1330200, fill_value=0)\n",
    "\n",
    "new_sales_data['monthTotalSalesPerItemLast1Month'] = new_sales_data['monthTotalSalesPerItem'].shift(periods=1330200, fill_value=0)\n",
    "new_sales_data['monthTotalSalesPerItemLast2Month'] = new_sales_data['monthTotalSalesPerItem'].shift(periods=2*1330200, fill_value=0)\n",
    "new_sales_data['monthTotalSalesPerItemLast3Month'] = new_sales_data['monthTotalSalesPerItem'].shift(periods=3*1330200, fill_value=0)\n",
    "new_sales_data['monthTotalSalesPerItemLast4Month'] = new_sales_data['monthTotalSalesPerItem'].shift(periods=4*1330200, fill_value=0)\n",
    "new_sales_data['monthTotalSalesPerItemLast6Month'] = new_sales_data['monthTotalSalesPerItem'].shift(periods=6*1330200, fill_value=0)\n",
    "new_sales_data['monthTotalSalesPerItemLast12Month'] = new_sales_data['monthTotalSalesPerItem'].shift(periods=12*1330200, fill_value=0)\n",
    "\n",
    "new_sales_data['monthTotalSalesPerItemCategoryLast1Month'] = new_sales_data['monthTotalSalesPerItemCategory'].shift(periods=1330200, fill_value=0)\n",
    "new_sales_data['monthTotalSalesPerItemCategoryLast2Month'] = new_sales_data['monthTotalSalesPerItemCategory'].shift(periods=2*1330200, fill_value=0)\n",
    "new_sales_data['monthTotalSalesPerItemCategoryLast3Month'] = new_sales_data['monthTotalSalesPerItemCategory'].shift(periods=3*1330200, fill_value=0)\n",
    "new_sales_data['monthTotalSalesPerItemCategoryLast4Month'] = new_sales_data['monthTotalSalesPerItemCategory'].shift(periods=4*1330200, fill_value=0)\n",
    "new_sales_data['monthTotalSalesPerItemCategoryLast6Month'] = new_sales_data['monthTotalSalesPerItemCategory'].shift(periods=6*1330200, fill_value=0)\n",
    "new_sales_data['monthTotalSalesPerItemCategoryLast12Month'] = new_sales_data['monthTotalSalesPerItemCategory'].shift(periods=12*1330200, fill_value=0)\n",
    "\n",
    "new_sales_data['monthTotalSalesPerGeneralItemCategoriesLast1Month'] = new_sales_data['monthTotalSalesPerGeneralItemCategories'].shift(periods=1330200, fill_value=0)\n",
    "new_sales_data['monthTotalSalesPerGeneralItemCategoriesLast2Month'] = new_sales_data['monthTotalSalesPerGeneralItemCategories'].shift(periods=2*1330200, fill_value=0)\n",
    "new_sales_data['monthTotalSalesPerGeneralItemCategoriesLast3Month'] = new_sales_data['monthTotalSalesPerGeneralItemCategories'].shift(periods=3*1330200, fill_value=0)\n",
    "new_sales_data['monthTotalSalesPerGeneralItemCategoriesLast4Month'] = new_sales_data['monthTotalSalesPerGeneralItemCategories'].shift(periods=4*1330200, fill_value=0)\n",
    "new_sales_data['monthTotalSalesPerGeneralItemCategoriesLast6Month'] = new_sales_data['monthTotalSalesPerGeneralItemCategories'].shift(periods=6*1330200, fill_value=0)\n",
    "new_sales_data['monthTotalSalesPerGeneralItemCategoriesLast12Month'] = new_sales_data['monthTotalSalesPerGeneralItemCategories'].shift(periods=12*1330200, fill_value=0)\n",
    "\n",
    "new_sales_data['itemTotalSalesPerCityPerMonthLast1Month'] = new_sales_data['itemTotalSalesPerCityPerMonth'].shift(periods=1330200, fill_value=0)\n",
    "new_sales_data['itemTotalSalesPerCityPerMonthLast2Month'] = new_sales_data['itemTotalSalesPerCityPerMonth'].shift(periods=2*1330200, fill_value=0)\n",
    "new_sales_data['itemTotalSalesPerCityPerMonthLast3Month'] = new_sales_data['itemTotalSalesPerCityPerMonth'].shift(periods=3*1330200, fill_value=0)\n",
    "new_sales_data['itemTotalSalesPerCityPerMonthLast4Month'] = new_sales_data['itemTotalSalesPerCityPerMonth'].shift(periods=4*1330200, fill_value=0)\n",
    "new_sales_data['itemTotalSalesPerCityPerMonthLast6Month'] = new_sales_data['itemTotalSalesPerCityPerMonth'].shift(periods=6*1330200, fill_value=0)\n",
    "new_sales_data['itemTotalSalesPerCityPerMonthLast12Month'] = new_sales_data['itemTotalSalesPerCityPerMonth'].shift(periods=12*1330200, fill_value=0)\n",
    "\n",
    "new_sales_data['totalSalesPerCityPerMonthLast1Month'] = new_sales_data['totalSalesPerCityPerMonth'].shift(periods=1330200, fill_value=0)\n",
    "new_sales_data['totalSalesPerCityPerMonthLast2Month'] = new_sales_data['totalSalesPerCityPerMonth'].shift(periods=2*1330200, fill_value=0)\n",
    "new_sales_data['totalSalesPerCityPerMonthLast3Month'] = new_sales_data['totalSalesPerCityPerMonth'].shift(periods=3*1330200, fill_value=0)\n",
    "new_sales_data['totalSalesPerCityPerMonthLast4Month'] = new_sales_data['totalSalesPerCityPerMonth'].shift(periods=4*1330200, fill_value=0)\n",
    "new_sales_data['totalSalesPerCityPerMonthLast6Month'] = new_sales_data['totalSalesPerCityPerMonth'].shift(periods=6*1330200, fill_value=0)\n",
    "new_sales_data['totalSalesPerCityPerMonthLast12Month'] = new_sales_data['totalSalesPerCityPerMonth'].shift(periods=12*1330200, fill_value=0)"
   ]
  },
  {
   "cell_type": "code",
   "execution_count": 4,
   "metadata": {},
   "outputs": [],
   "source": [
    "temp = new_sales_data.groupby(['dateBlockNum'])"
   ]
  },
  {
   "cell_type": "code",
   "execution_count": null,
   "metadata": {},
   "outputs": [],
   "source": [
    "cum_list = getCumMonthsExt(temp, 'monthTotalSales', 2)\n",
    "new_sales_data['monthTotalSalesLast2Months'] = new_sales_data['dateBlockNum'].apply(lambda x: cum_list[x])\n",
    "cum_list = getCumMonthsExt(temp, 'monthTotalSales', 3)\n",
    "new_sales_data['monthTotalSalesLast3Months'] = new_sales_data['dateBlockNum'].apply(lambda x: cum_list[x])\n",
    "cum_list = getCumMonthsExt(temp, 'monthTotalSales', 4)\n",
    "new_sales_data['monthTotalSalesLast4Months'] = new_sales_data['dateBlockNum'].apply(lambda x: cum_list[x])\n",
    "cum_list = getCumMonthsExt(temp, 'monthTotalSales', 6)\n",
    "new_sales_data['monthTotalSalesLast6Months'] = new_sales_data['dateBlockNum'].apply(lambda x: cum_list[x])\n",
    "cum_list = getCumMonthsExt(temp, 'monthTotalSales', 12)\n",
    "new_sales_data['monthTotalSalesLast12Months'] = new_sales_data['dateBlockNum'].apply(lambda x: cum_list[x])"
   ]
  },
  {
   "cell_type": "code",
   "execution_count": null,
   "metadata": {},
   "outputs": [],
   "source": [
    "cum_list = getCumMonthsExt(temp, 'monthTotalSalesPerShop', 2)\n",
    "new_sales_data['monthTotalSalesPerShopLast2Month'] = new_sales_data['dateBlockNum'].apply(lambda x: cum_list[x])\n",
    "cum_list = getCumMonthsExt(temp, 'monthAverageSalesPerShop', 3)\n",
    "new_sales_data['monthTotalSalesPerShopLast3Month'] = new_sales_data['dateBlockNum'].apply(lambda x: cum_list[x])\n",
    "cum_list = getCumMonthsExt(temp, 'monthAverageSalesPerShop', 4)\n",
    "new_sales_data['monthTotalSalesPerShopLast4Month'] = new_sales_data['dateBlockNum'].apply(lambda x: cum_list[x])\n",
    "cum_list = getCumMonthsExt(temp, 'monthAverageSalesPerShop', 6)\n",
    "new_sales_data['monthTotalSalesPerShopLast6Month'] = new_sales_data['dateBlockNum'].apply(lambda x: cum_list[x])\n",
    "cum_list = getCumMonthsExt(temp, 'monthAverageSalesPerShop', 12)\n",
    "new_sales_data['monthTotalSalesPerShopLast12Month'] = new_sales_data['dateBlockNum'].apply(lambda x: cum_list[x])\n",
    "\n",
    "cum_list = getCumMonthsExt(temp, 'monthTotalSalesPerItem', 2)\n",
    "new_sales_data['monthTotalSalesPerItemLast2Month'] = new_sales_data['dateBlockNum'].apply(lambda x: cum_list[x])\n",
    "cum_list = getCumMonthsExt(temp, 'monthAverageSalesPerItem', 3)\n",
    "new_sales_data['monthTotalSalesPerItemLast3Month'] = new_sales_data['dateBlockNum'].apply(lambda x: cum_list[x])\n",
    "cum_list = getCumMonthsExt(temp, 'monthAverageSalesPerItem', 4)\n",
    "new_sales_data['monthTotalSalesPerItemLast4Month'] = new_sales_data['dateBlockNum'].apply(lambda x: cum_list[x])\n",
    "cum_list = getCumMonthsExt(temp, 'monthAverageSalesPerItem', 6)\n",
    "new_sales_data['monthTotalSalesPerItemLast6Month'] = new_sales_data['dateBlockNum'].apply(lambda x: cum_list[x])\n",
    "cum_list = getCumMonthsExt(temp, 'monthAverageSalesPerItem', 12)\n",
    "new_sales_data['monthTotalSalesPerItemLast12Month'] = new_sales_data['dateBlockNum'].apply(lambda x: cum_list[x])\n",
    "\n",
    "cum_list = getCumMonthsExt(temp, 'monthTotalSalesPerItemCategory', 2)\n",
    "new_sales_data['monthTotalSalesPerItemCategoryLast2Month'] = new_sales_data['dateBlockNum'].apply(lambda x: cum_list[x])\n",
    "cum_list = getCumMonthsExt(temp, 'monthAverageSalesPerItemCategory', 3)\n",
    "new_sales_data['monthTotalSalesPerItemCategoryLast3Month'] = new_sales_data['dateBlockNum'].apply(lambda x: cum_list[x])\n",
    "cum_list = getCumMonthsExt(temp, 'monthAverageSalesPerItemCategory', 4)\n",
    "new_sales_data['monthTotalSalesPerItemCategoryLast4Month'] = new_sales_data['dateBlockNum'].apply(lambda x: cum_list[x])\n",
    "cum_list = getCumMonthsExt(temp, 'monthAverageSalesPerItemCategory', 6)\n",
    "new_sales_data['monthTotalSalesPerItemCategoryLast6Month'] = new_sales_data['dateBlockNum'].apply(lambda x: cum_list[x])\n",
    "cum_list = getCumMonthsExt(temp, 'monthAverageSalesPerItemCategory', 12)\n",
    "new_sales_data['monthTotalSalesPerItemCategoryLast12Month'] = new_sales_data['dateBlockNum'].apply(lambda x: cum_list[x])\n",
    "\n",
    "cum_list = getCumMonthsExt(temp, 'monthTotalSalesPerGeneralItemCategories', 2)\n",
    "new_sales_data['monthTotalSalesPerGeneralItemCategoriesLast2Month'] = new_sales_data['dateBlockNum'].apply(lambda x: cum_list[x])\n",
    "cum_list = getCumMonthsExt(temp, 'monthAverageSalesPerGeneralItemCategories', 3)\n",
    "new_sales_data['monthTotalSalesPerGeneralItemCategoriesLast3Month'] = new_sales_data['dateBlockNum'].apply(lambda x: cum_list[x])\n",
    "cum_list = getCumMonthsExt(temp, 'monthAverageSalesPerGeneralItemCategories', 4)\n",
    "new_sales_data['monthTotalSalesPerGeneralItemCategoriesLast4Month'] = new_sales_data['dateBlockNum'].apply(lambda x: cum_list[x])\n",
    "cum_list = getCumMonthsExt(temp, 'monthAverageSalesPerGeneralItemCategories', 6)\n",
    "new_sales_data['monthTotalSalesPerGeneralItemCategoriesLast6Month'] = new_sales_data['dateBlockNum'].apply(lambda x: cum_list[x])\n",
    "cum_list = getCumMonthsExt(temp, 'monthAverageSalesPerGeneralItemCategories', 12)\n",
    "new_sales_data['monthTotalSalesPerGeneralItemCategoriesLast12Month'] = new_sales_data['dateBlockNum'].apply(lambda x: cum_list[x])\n",
    "\n",
    "cum_list = getCumMonthsExt(temp, 'itemTotalSalesPerCityPerMonth', 2)\n",
    "new_sales_data['itemTotalSalesPerCityPerMonthLast2Month'] = new_sales_data['dateBlockNum'].apply(lambda x: cum_list[x])\n",
    "cum_list = getCumMonthsExt(temp, 'itemAverageSalesPerCityPerMonth', 3)\n",
    "new_sales_data['itemTotalSalesPerCityPerMonthLast3Month'] = new_sales_data['dateBlockNum'].apply(lambda x: cum_list[x])\n",
    "cum_list = getCumMonthsExt(temp, 'itemAverageSalesPerCityPerMonth', 4)\n",
    "new_sales_data['itemTotalSalesPerCityPerMonthLast4Month'] = new_sales_data['dateBlockNum'].apply(lambda x: cum_list[x])\n",
    "cum_list = getCumMonthsExt(temp, 'itemAverageSalesPerCityPerMonth', 6)\n",
    "new_sales_data['itemTotalSalesPerCityPerMonthLast6Month'] = new_sales_data['dateBlockNum'].apply(lambda x: cum_list[x])\n",
    "cum_list = getCumMonthsExt(temp, 'itemAverageSalesPerCityPerMonth', 12)\n",
    "new_sales_data['itemTotalSalesPerCityPerMonthLast12Month'] = new_sales_data['dateBlockNum'].apply(lambda x: cum_list[x])\n",
    "\n",
    "cum_list = getCumMonthsExt(temp, 'totalSalesPerCityPerMonth', 2)\n",
    "new_sales_data['totalSalesPerCityPerMonthLast2Month'] = new_sales_data['dateBlockNum'].apply(lambda x: cum_list[x])\n",
    "cum_list = getCumMonthsExt(temp, 'averageSalesPerCityPerMonth', 3)\n",
    "new_sales_data['totalSalesPerCityPerMonthLast3Month'] = new_sales_data['dateBlockNum'].apply(lambda x: cum_list[x])\n",
    "cum_list = getCumMonthsExt(temp, 'averageSalesPerCityPerMonth', 4)\n",
    "new_sales_data['totalSalesPerCityPerMonthLast4Month'] = new_sales_data['dateBlockNum'].apply(lambda x: cum_list[x])\n",
    "cum_list = getCumMonthsExt(temp, 'averageSalesPerCityPerMonth', 6)\n",
    "new_sales_data['totalSalesPerCityPerMonthLast6Month'] = new_sales_data['dateBlockNum'].apply(lambda x: cum_list[x])\n",
    "cum_list = getCumMonthsExt(temp, 'averageSalesPerCityPerMonth', 12)\n",
    "new_sales_data['totalSalesPerCityPerMonthLast12Month'] = new_sales_data['dateBlockNum'].apply(lambda x: cum_list[x])"
   ]
  },
  {
   "cell_type": "code",
   "execution_count": 4,
   "metadata": {},
   "outputs": [],
   "source": [
    "new_sales_data.rename(columns = {'monthTotalSalesLast2Months': 'monthTotalCumSalesLast2Months', 'monthTotalSalesLast3Months': 'monthTotalCumSalesLast3Months', 'monthTotalSalesLast4Months': 'monthTotalCumSalesLast4Months', 'monthTotalSalesLast6Months': 'monthTotalCumSalesLast6Months', 'monthTotalSalesLast12Months': 'monthTotalCumSalesLast12Months'}, inplace=True)"
   ]
  },
  {
   "cell_type": "code",
   "execution_count": null,
   "metadata": {},
   "outputs": [],
   "source": []
  },
  {
   "cell_type": "code",
   "execution_count": null,
   "metadata": {},
   "outputs": [],
   "source": []
  },
  {
   "cell_type": "code",
   "execution_count": null,
   "metadata": {},
   "outputs": [],
   "source": []
  },
  {
   "cell_type": "code",
   "execution_count": 6,
   "metadata": {},
   "outputs": [],
   "source": [
    "new_sales_data.itemId = new_sales_data.itemId.astype(np.int16)\n",
    "new_sales_data.monthOfYear = new_sales_data.monthOfYear.astype(np.int8)\n",
    "new_sales_data.isItemSoldThisShopThisMonth = new_sales_data.isItemSoldThisShopThisMonth.astype(np.int8)\n",
    "new_sales_data.itemLastMonthSoldPerShop = new_sales_data.itemLastMonthSoldPerShop.astype(np.int8)\n",
    "new_sales_data.monthAverageSalesPerItem = new_sales_data.monthAverageSalesPerItem.astype(np.float16)\n",
    "new_sales_data.itemCategory = new_sales_data.itemCategory.astype(np.int8)\n",
    "new_sales_data.generalItemCategoriesEncoded = new_sales_data.generalItemCategoriesEncoded.astype(np.int8)\n",
    "new_sales_data.cityEncoded = new_sales_data.cityEncoded.astype(np.int8)\n",
    "new_sales_data.averageSalesPerCityPerMonth = new_sales_data.averageSalesPerCityPerMonth.astype(np.float16)\n",
    "\n",
    "\n",
    "\n",
    "new_sales_data.monthTotalSalesPerItemCategoryLast1Month = new_sales_data.monthTotalSalesPerItemCategoryLast1Month.astype(np.float16)\n",
    "new_sales_data.monthTotalSalesPerItemCategoryLast2Month = new_sales_data.monthTotalSalesPerItemCategoryLast2Month.astype(np.float16)\n",
    "new_sales_data.monthTotalSalesPerItemCategoryLast3Month = new_sales_data.monthTotalSalesPerItemCategoryLast3Month.astype(np.float16)\n",
    "new_sales_data.monthTotalSalesPerItemCategoryLast4Month = new_sales_data.monthTotalSalesPerItemCategoryLast4Month.astype(np.float16)\n",
    "new_sales_data.monthTotalSalesPerItemCategoryLast6Month = new_sales_data.monthTotalSalesPerItemCategoryLast6Month.astype(np.float16)\n",
    "new_sales_data.monthTotalSalesPerItemCategoryLast12Month = new_sales_data.monthTotalSalesPerItemCategoryLast12Month.astype(np.float16)\n",
    "\n",
    "new_sales_data.monthTotalSalesPerGeneralItemCategoriesLast1Month = new_sales_data.monthTotalSalesPerGeneralItemCategoriesLast1Month.astype(np.float16)\n",
    "new_sales_data.monthTotalSalesPerGeneralItemCategoriesLast2Month = new_sales_data.monthTotalSalesPerGeneralItemCategoriesLast2Month.astype(np.float16)\n",
    "new_sales_data.monthTotalSalesPerGeneralItemCategoriesLast3Month = new_sales_data.monthTotalSalesPerGeneralItemCategoriesLast3Month.astype(np.float16)\n",
    "new_sales_data.monthTotalSalesPerGeneralItemCategoriesLast4Month = new_sales_data.monthTotalSalesPerGeneralItemCategoriesLast4Month.astype(np.float16)\n",
    "new_sales_data.monthTotalSalesPerGeneralItemCategoriesLast6Month = new_sales_data.monthTotalSalesPerGeneralItemCategoriesLast6Month.astype(np.float16)\n",
    "new_sales_data.monthTotalSalesPerGeneralItemCategoriesLast12Month = new_sales_data.monthTotalSalesPerGeneralItemCategoriesLast12Month.astype(np.float16)\n",
    "\n",
    "new_sales_data.totalSalesPerCityPerMonthLast1Month = new_sales_data.totalSalesPerCityPerMonthLast1Month.astype(np.float16)\n",
    "new_sales_data.totalSalesPerCityPerMonthLast2Month = new_sales_data.totalSalesPerCityPerMonthLast2Month.astype(np.float16)\n",
    "new_sales_data.totalSalesPerCityPerMonthLast3Month = new_sales_data.totalSalesPerCityPerMonthLast3Month.astype(np.float16)\n",
    "new_sales_data.totalSalesPerCityPerMonthLast4Month = new_sales_data.totalSalesPerCityPerMonthLast4Month.astype(np.float16)\n",
    "new_sales_data.totalSalesPerCityPerMonthLast6Month = new_sales_data.totalSalesPerCityPerMonthLast6Month.astype(np.float16)\n",
    "new_sales_data.totalSalesPerCityPerMonthLast12Month = new_sales_data.totalSalesPerCityPerMonthLast12Month.astype(np.float16)\n",
    "\n",
    "\n"
   ]
  },
  {
   "cell_type": "code",
   "execution_count": 4,
   "metadata": {},
   "outputs": [
    {
     "name": "stdout",
     "output_type": "stream",
     "text": [
      "<class 'pandas.core.frame.DataFrame'>\n",
      "Int64Index: 46557000 entries, 0 to 46556999\n",
      "Data columns (total 138 columns):\n",
      " #   Column                                                Dtype  \n",
      "---  ------                                                -----  \n",
      " 0   dateBlockNum                                          int8   \n",
      " 1   shopId                                                int8   \n",
      " 2   itemId                                                int16  \n",
      " 3   itemCountPerShopPerMonth                              int16  \n",
      " 4   avergageItemPricePerShopPerMonth                      float16\n",
      " 5   monthOfYear                                           int8   \n",
      " 6   isItemSoldThisShopThisMonth                           int8   \n",
      " 7   itemsSoldPerShopPerMonth1MonthAgo                     int16  \n",
      " 8   itemsSoldPerShopPerMonth2MonthsAgo                    int16  \n",
      " 9   itemsSoldPerShopPerMonth3MonthsAgo                    int16  \n",
      " 10  itemsSoldPerShopPerMonth4MonthsAgo                    int16  \n",
      " 11  itemsSoldPerShopPerMonth6MonthsAgo                    int16  \n",
      " 12  itemsSoldPerShopPerMonth12MonthsAgo                   int16  \n",
      " 13  totItemsSoldPerShopPerMonthLast12Months               int16  \n",
      " 14  totItemsSoldPerShopPerMonthLast2Months                int16  \n",
      " 15  totItemsSoldPerShopPerMonthLast3Months                int16  \n",
      " 16  totItemsSoldPerShopPerMonthLast4Months                int16  \n",
      " 17  totItemsSoldPerShopPerMonthLast6Months                int16  \n",
      " 18  totItemsSoldPerShopPerMonthSinceBeginning             int16  \n",
      " 19  itemLastMonthSoldPerShop                              int8   \n",
      " 20  peakMonthOfYearForSelling?                            int8   \n",
      " 21  monthAverageSales                                     int16  \n",
      " 22  monthAverageSalesPerShop                              float16\n",
      " 23  monthAverageSalesPerItem                              float16\n",
      " 24  itemCategory                                          int8   \n",
      " 25  monthAverageSalesPerItemCategory                      float16\n",
      " 26  generalItemCategories                                 object \n",
      " 27  monthAverageSalesPerGeneralItemCategories             float16\n",
      " 28  itemAverageSalesSinceBeginning                        float16\n",
      " 29  generalItemCategoriesEncoded                          int8   \n",
      " 30  city                                                  object \n",
      " 31  cityEncoded                                           int8   \n",
      " 32  itemAverageSalesPerCityPerMonth                       float16\n",
      " 33  averageSalesPerCityPerMonth                           float16\n",
      " 34  cityAverageSales                                      float16\n",
      " 35  totalSalesPerItemPerCityPerMonth                      int16  \n",
      " 36  monthAverageSalesLast1Month                           int16  \n",
      " 37  monthAverageSalesLast2Month                           int16  \n",
      " 38  monthAverageSalesLast3Month                           int16  \n",
      " 39  monthAverageSalesLast4Month                           int16  \n",
      " 40  monthAverageSalesLast6Month                           int16  \n",
      " 41  monthAverageSalesLast12Month                          int16  \n",
      " 42  monthTotalCumSalesLast2Months                         int32  \n",
      " 43  monthTotalCumSalesLast3Months                         int32  \n",
      " 44  monthTotalCumSalesLast4Months                         int32  \n",
      " 45  monthTotalCumSalesLast6Months                         int32  \n",
      " 46  monthTotalCumSalesLast12Months                        int32  \n",
      " 47  monthAverageSalesPerShopLast1Month                    float16\n",
      " 48  monthAverageSalesPerShopLast2Month                    float16\n",
      " 49  monthAverageSalesPerShopLast3Month                    float16\n",
      " 50  monthAverageSalesPerShopLast4Month                    float16\n",
      " 51  monthAverageSalesPerShopLast6Month                    float16\n",
      " 52  monthAverageSalesPerShopLast12Month                   float16\n",
      " 53  monthAverageSalesPerItemLast1Month                    float16\n",
      " 54  monthAverageSalesPerItemLast2Month                    float16\n",
      " 55  monthAverageSalesPerItemLast3Month                    float16\n",
      " 56  monthAverageSalesPerItemLast4Month                    float16\n",
      " 57  monthAverageSalesPerItemLast6Month                    float16\n",
      " 58  monthAverageSalesPerItemLast12Month                   float16\n",
      " 59  monthAverageSalesPerItemCategoryLast1Month            float16\n",
      " 60  monthAverageSalesPerItemCategoryLast2Month            float16\n",
      " 61  monthAverageSalesPerItemCategoryLast3Month            float16\n",
      " 62  monthAverageSalesPerItemCategoryLast4Month            float16\n",
      " 63  monthAverageSalesPerItemCategoryLast6Month            float16\n",
      " 64  monthAverageSalesPerItemCategoryLast12Month           float16\n",
      " 65  monthAverageSalesPerGeneralItemCategoriesLast1Month   float16\n",
      " 66  monthAverageSalesPerGeneralItemCategoriesLast2Month   float16\n",
      " 67  monthAverageSalesPerGeneralItemCategoriesLast3Month   float16\n",
      " 68  monthAverageSalesPerGeneralItemCategoriesLast4Month   float16\n",
      " 69  monthAverageSalesPerGeneralItemCategoriesLast6Month   float16\n",
      " 70  monthAverageSalesPerGeneralItemCategoriesLast12Month  float16\n",
      " 71  itemAverageSalesPerCityPerMonthLast1Month             float16\n",
      " 72  itemAverageSalesPerCityPerMonthLast2Month             float16\n",
      " 73  itemAverageSalesPerCityPerMonthLast3Month             float16\n",
      " 74  itemAverageSalesPerCityPerMonthLast4Month             float16\n",
      " 75  itemAverageSalesPerCityPerMonthLast6Month             float16\n",
      " 76  itemAverageSalesPerCityPerMonthLast12Month            float16\n",
      " 77  averageSalesPerCityPerMonthLast1Month                 float16\n",
      " 78  averageSalesPerCityPerMonthLast2Month                 float16\n",
      " 79  averageSalesPerCityPerMonthLast3Month                 float16\n",
      " 80  averageSalesPerCityPerMonthLast4Month                 float16\n",
      " 81  averageSalesPerCityPerMonthLast6Month                 float16\n",
      " 82  averageSalesPerCityPerMonthLast12Month                float16\n",
      " 83  avergageItemPricePerShopPerMonthLast1Month            float16\n",
      " 84  avergageItemPricePerShopPerMonthLast2Month            float16\n",
      " 85  avergageItemPricePerShopPerMonthLast3Month            float16\n",
      " 86  avergageItemPricePerShopPerMonthLast4Month            float16\n",
      " 87  avergageItemPricePerShopPerMonthLast6Month            float16\n",
      " 88  avergageItemPricePerShopPerMonthLast12Month           float16\n",
      " 89  monthTotalSales                                       float32\n",
      " 90  monthTotalSalesPerShop                                int16  \n",
      " 91  monthTotalSalesPerItem                                int16  \n",
      " 92  monthTotalSalesPerItemCategory                        float32\n",
      " 93  monthTotalSalesPerGeneralItemCategories               float32\n",
      " 94  itemTotalSalesPerCityPerMonth                         int16  \n",
      " 95  totalSalesPerCityPerMonth                             float64\n",
      " 96  monthTotalSalesLast1Month                             float32\n",
      " 97  monthTotalSalesLast2Month                             float32\n",
      " 98  monthTotalSalesLast3Month                             float32\n",
      " 99  monthTotalSalesLast4Month                             float32\n",
      " 100 monthTotalSalesLast6Month                             float32\n",
      " 101 monthTotalSalesLast12Month                            float32\n",
      " 102 monthTotalSalesPerShopLast1Month                      int16  \n",
      " 103 monthTotalSalesPerShopLast2Month                      int16  \n",
      " 104 monthTotalSalesPerShopLast3Month                      int16  \n",
      " 105 monthTotalSalesPerShopLast4Month                      int16  \n",
      " 106 monthTotalSalesPerShopLast6Month                      int16  \n",
      " 107 monthTotalSalesPerShopLast12Month                     int16  \n",
      " 108 monthTotalSalesPerItemLast1Month                      int16  \n",
      " 109 monthTotalSalesPerItemLast2Month                      int16  \n",
      " 110 monthTotalSalesPerItemLast3Month                      int16  \n",
      " 111 monthTotalSalesPerItemLast4Month                      int16  \n",
      " 112 monthTotalSalesPerItemLast6Month                      int16  \n",
      " 113 monthTotalSalesPerItemLast12Month                     int16  \n",
      " 114 monthTotalSalesPerItemCategoryLast1Month              float16\n",
      " 115 monthTotalSalesPerItemCategoryLast2Month              float16\n",
      " 116 monthTotalSalesPerItemCategoryLast3Month              float16\n",
      " 117 monthTotalSalesPerItemCategoryLast4Month              float16\n",
      " 118 monthTotalSalesPerItemCategoryLast6Month              float16\n",
      " 119 monthTotalSalesPerItemCategoryLast12Month             float16\n",
      " 120 monthTotalSalesPerGeneralItemCategoriesLast1Month     float16\n",
      " 121 monthTotalSalesPerGeneralItemCategoriesLast2Month     float16\n",
      " 122 monthTotalSalesPerGeneralItemCategoriesLast3Month     float16\n",
      " 123 monthTotalSalesPerGeneralItemCategoriesLast4Month     float16\n",
      " 124 monthTotalSalesPerGeneralItemCategoriesLast6Month     float16\n",
      " 125 monthTotalSalesPerGeneralItemCategoriesLast12Month    float16\n",
      " 126 itemTotalSalesPerCityPerMonthLast1Month               int16  \n",
      " 127 itemTotalSalesPerCityPerMonthLast2Month               int16  \n",
      " 128 itemTotalSalesPerCityPerMonthLast3Month               int16  \n",
      " 129 itemTotalSalesPerCityPerMonthLast4Month               int16  \n",
      " 130 itemTotalSalesPerCityPerMonthLast6Month               int16  \n",
      " 131 itemTotalSalesPerCityPerMonthLast12Month              int16  \n",
      " 132 totalSalesPerCityPerMonthLast1Month                   float16\n",
      " 133 totalSalesPerCityPerMonthLast2Month                   float16\n",
      " 134 totalSalesPerCityPerMonthLast3Month                   float16\n",
      " 135 totalSalesPerCityPerMonthLast4Month                   float16\n",
      " 136 totalSalesPerCityPerMonthLast6Month                   float16\n",
      " 137 totalSalesPerCityPerMonthLast12Month                  float16\n",
      "dtypes: float16(69), float32(9), float64(1), int16(43), int32(5), int8(9), object(2)\n",
      "memory usage: 13.9+ GB\n"
     ]
    }
   ],
   "source": [
    "new_sales_data.info(verbose=True)"
   ]
  },
  {
   "cell_type": "code",
   "execution_count": 3,
   "metadata": {},
   "outputs": [],
   "source": [
    "new_sales_data.drop('monthAverageSales', axis = 1, inplace=True)"
   ]
  },
  {
   "cell_type": "code",
   "execution_count": 4,
   "metadata": {},
   "outputs": [],
   "source": [
    "monthAverageSales = new_sales_data.groupby(['dateBlockNum']).agg({'itemCountPerShopPerMonth':['mean']})\n",
    "monthAverageSales.columns = ['monthAverageSales']\n",
    "monthAverageSales.reset_index(inplace=True)\n",
    "\n",
    "new_sales_data = pd.merge(new_sales_data, monthAverageSales, on = ['dateBlockNum'], how = 'left')"
   ]
  },
  {
   "cell_type": "code",
   "execution_count": 12,
   "metadata": {},
   "outputs": [],
   "source": [
    "new_sales_data.drop('monthAverageSalesLast1Month', axis = 1, inplace=True)\n",
    "new_sales_data.drop('monthAverageSalesLast2Month', axis = 1, inplace=True)\n",
    "new_sales_data.drop('monthAverageSalesLast3Month', axis = 1, inplace=True)\n",
    "new_sales_data.drop('monthAverageSalesLast4Month', axis = 1, inplace=True)\n",
    "new_sales_data.drop('monthAverageSalesLast6Month', axis = 1, inplace=True)\n",
    "new_sales_data.drop('monthAverageSalesLast12Month', axis = 1, inplace=True)\n",
    "new_sales_data.drop('monthTotalCumSalesLast2Months', axis = 1, inplace=True)\n",
    "new_sales_data.drop('monthTotalCumSalesLast3Months', axis = 1, inplace=True)\n",
    "new_sales_data.drop('monthTotalCumSalesLast4Months', axis = 1, inplace=True)\n",
    "new_sales_data.drop('monthTotalCumSalesLast6Months', axis = 1, inplace=True)\n",
    "new_sales_data.drop('monthTotalCumSalesLast12Months', axis = 1, inplace=True)\n",
    "# new_sales_data.drop('monthAverageSales', axis = 1, inplace=True)"
   ]
  },
  {
   "cell_type": "code",
   "execution_count": 15,
   "metadata": {},
   "outputs": [],
   "source": [
    "new_sales_data['monthAverageSalesLast1Month'] = new_sales_data['monthAverageSales'].shift(periods=1330200, fill_value=0)\n",
    "new_sales_data['monthAverageSalesLast2Month'] = new_sales_data['monthAverageSales'].shift(periods=2*1330200, fill_value=0)\n",
    "new_sales_data['monthAverageSalesLast3Month'] = new_sales_data['monthAverageSales'].shift(periods=3*1330200, fill_value=0)\n",
    "new_sales_data['monthAverageSalesLast4Month'] = new_sales_data['monthAverageSales'].shift(periods=4*1330200, fill_value=0)\n",
    "new_sales_data['monthAverageSalesLast6Month'] = new_sales_data['monthAverageSales'].shift(periods=6*1330200, fill_value=0)\n",
    "new_sales_data['monthAverageSalesLast12Month'] = new_sales_data['monthAverageSales'].shift(periods=12*1330200, fill_value=0)"
   ]
  },
  {
   "cell_type": "code",
   "execution_count": 20,
   "metadata": {},
   "outputs": [],
   "source": [
    "new_sales_data.to_pickle(\"new_sales_data.pickle\")\n",
    "\n",
    "new_sales_data = pd.read_pickle(\"new_sales_data.pickle\")"
   ]
  },
  {
   "cell_type": "code",
   "execution_count": 30,
   "metadata": {},
   "outputs": [],
   "source": [
    "dateBlockNum2days = {}\n",
    "for x in range(0, 35):\n",
    "    if x %12 == 1:\n",
    "        dateBlockNum2days[x] = 28\n",
    "    elif x %12 in [0, 2, 4, 6, 7, 9, 11]:\n",
    "        dateBlockNum2days[x] = 31\n",
    "    else:\n",
    "        dateBlockNum2days[x] = 30"
   ]
  },
  {
   "cell_type": "code",
   "execution_count": 32,
   "metadata": {},
   "outputs": [],
   "source": [
    "new_sales_data['numDaysInMonth'] = new_sales_data['dateBlockNum'].apply(lambda x: dateBlockNum2days[x])"
   ]
  },
  {
   "cell_type": "code",
   "execution_count": 3,
   "metadata": {},
   "outputs": [],
   "source": [
    "def getCumMonths(column, numPrev):\n",
    "    tempor = new_sales_data[column]\n",
    "    storage = []\n",
    "    result = []\n",
    "    for x in range(1, numPrev + 1):\n",
    "        storage.append(list(tempor.shift(periods = x * 1330200, fill_value = 0)))\n",
    "\n",
    "    for x in storage:\n",
    "        if not result:\n",
    "            result = x\n",
    "            continue\n",
    "        result = [a+b for a, b in zip(result, x)]\n",
    "    return result"
   ]
  },
  {
   "cell_type": "code",
   "execution_count": null,
   "metadata": {},
   "outputs": [],
   "source": [
    "# new_sales_data.drop('monthTotalCumSalesLast2Months', axis = 1, inplace=True)\n",
    "# new_sales_data.drop('monthTotalCumSalesLast3Months', axis = 1, inplace=True)\n",
    "# new_sales_data.drop('monthTotalCumSalesLast4Months', axis = 1, inplace=True)\n",
    "# new_sales_data.drop('monthTotalCumSalesLast6Months', axis = 1, inplace=True)\n",
    "# new_sales_data.drop('monthTotalCumSalesLast12Months', axis = 1, inplace=True)"
   ]
  },
  {
   "cell_type": "code",
   "execution_count": 4,
   "metadata": {},
   "outputs": [],
   "source": [
    "new_sales_data['monthTotalCumSalesLast2Months'] = getCumMonths('monthTotalSales', 2)\n",
    "new_sales_data['monthTotalCumSalesLast3Months'] = getCumMonths('monthTotalSales', 3)\n",
    "new_sales_data['monthTotalCumSalesLast4Months'] = getCumMonths('monthTotalSales', 4)\n",
    "new_sales_data['monthTotalCumSalesLast6Months'] = getCumMonths('monthTotalSales', 6)\n",
    "new_sales_data['monthTotalCumSalesLast12Months'] = getCumMonths('monthTotalSales', 12)\n",
    "\n",
    "\n",
    "\n",
    "new_sales_data['monthTotalCumSalesPerShopLast2Month'] = getCumMonths('monthTotalSalesPerShop', 2)\n",
    "new_sales_data['monthTotalCumSalesPerShopLast3Month'] = getCumMonths('monthTotalSalesPerShop', 3)\n",
    "new_sales_data['monthTotalCumSalesPerShopLast4Month'] = getCumMonths('monthTotalSalesPerShop', 4)\n",
    "new_sales_data['monthTotalCumSalesPerShopLast6Month'] = getCumMonths('monthTotalSalesPerShop', 6)\n",
    "new_sales_data['monthTotalCumSalesPerShopLast12Month'] = getCumMonths('monthTotalSalesPerShop', 12)\n",
    "\n",
    "new_sales_data['monthTotalCumSalesPerItemLast2Month'] = getCumMonths('monthTotalSalesPerItem', 2)\n",
    "new_sales_data['monthTotalCumSalesPerItemLast3Month'] = getCumMonths('monthTotalSalesPerItem', 3)\n",
    "new_sales_data['monthTotalCumSalesPerItemLast4Month'] = getCumMonths('monthTotalSalesPerItem', 4)\n",
    "new_sales_data['monthTotalCumSalesPerItemLast6Month'] = getCumMonths('monthTotalSalesPerItem', 6)\n",
    "new_sales_data['monthTotalCumSalesPerItemLast12Month'] = getCumMonths('monthTotalSalesPerItem', 12)\n",
    "\n",
    "new_sales_data['monthTotalCumSalesPerItemCategoryLast2Month'] = getCumMonths('monthTotalSalesPerItemCategory', 2)\n",
    "new_sales_data['monthTotalCumSalesPerItemCategoryLast3Month'] = getCumMonths('monthTotalSalesPerItemCategory', 3)\n",
    "new_sales_data['monthTotalCumSalesPerItemCategoryLast4Month'] = getCumMonths('monthTotalSalesPerItemCategory', 4)\n",
    "new_sales_data['monthTotalCumSalesPerItemCategoryLast6Month'] = getCumMonths('monthTotalSalesPerItemCategory', 6)\n",
    "new_sales_data['monthTotalCumSalesPerItemCategoryLast12Month'] = getCumMonths('monthTotalSalesPerItemCategory', 12)\n",
    "\n",
    "new_sales_data['monthTotalCumSalesPerGeneralItemCategoriesLast2Month'] = getCumMonths('monthTotalSalesPerGeneralItemCategories', 2)\n",
    "new_sales_data['monthTotalCumSalesPerGeneralItemCategoriesLast3Month'] = getCumMonths('monthTotalSalesPerGeneralItemCategories', 3)\n",
    "new_sales_data['monthTotalCumSalesPerGeneralItemCategoriesLast4Month'] = getCumMonths('monthTotalSalesPerGeneralItemCategories', 4)\n",
    "new_sales_data['monthTotalCumSalesPerGeneralItemCategoriesLast6Month'] = getCumMonths('monthTotalSalesPerGeneralItemCategories', 6)\n",
    "new_sales_data['monthTotalCumSalesPerGeneralItemCategoriesLast12Month'] = getCumMonths('monthTotalSalesPerGeneralItemCategories', 12)\n",
    "\n",
    "new_sales_data['itemTotalCumSalesPerCityPerMonthLast2Month'] = getCumMonths('itemTotalSalesPerCityPerMonth', 2)\n",
    "new_sales_data['itemTotalCumSalesPerCityPerMonthLast3Month'] = getCumMonths('itemTotalSalesPerCityPerMonth', 3)\n",
    "new_sales_data['itemTotalCumSalesPerCityPerMonthLast4Month'] = getCumMonths('itemTotalSalesPerCityPerMonth', 4)\n",
    "new_sales_data['itemTotalCumSalesPerCityPerMonthLast6Month'] = getCumMonths('itemTotalSalesPerCityPerMonth', 6)\n",
    "new_sales_data['itemTotalCumSalesPerCityPerMonthLast12Month'] = getCumMonths('itemTotalSalesPerCityPerMonth', 12)\n",
    "\n",
    "new_sales_data['totalSalesCumPerCityPerMonthLast2Month'] = getCumMonths('totalSalesPerCityPerMonth', 2)\n",
    "new_sales_data['totalSalesCumPerCityPerMonthLast3Month'] = getCumMonths('totalSalesPerCityPerMonth', 3)\n",
    "new_sales_data['totalSalesCumPerCityPerMonthLast4Month'] = getCumMonths('totalSalesPerCityPerMonth', 4)\n",
    "new_sales_data['totalSalesCumPerCityPerMonthLast6Month'] = getCumMonths('totalSalesPerCityPerMonth', 6)\n",
    "new_sales_data['totalSalesCumPerCityPerMonthLast12Month'] = getCumMonths('totalSalesPerCityPerMonth', 12)"
   ]
  },
  {
   "cell_type": "code",
   "execution_count": 8,
   "metadata": {},
   "outputs": [],
   "source": [
    "new_sales_data.monthAverageSales = new_sales_data.monthAverageSales.astype(np.float16)\n",
    "new_sales_data.monthAverageSalesLast1Month = new_sales_data.monthAverageSalesLast1Month.astype(np.float16)\n",
    "new_sales_data.monthAverageSalesLast2Month = new_sales_data.monthAverageSalesLast2Month.astype(np.float16)\n",
    "new_sales_data.monthAverageSalesLast3Month = new_sales_data.monthAverageSalesLast3Month.astype(np.float16)\n",
    "new_sales_data.monthAverageSalesLast4Month = new_sales_data.monthAverageSalesLast4Month.astype(np.float16)\n",
    "new_sales_data.monthAverageSalesLast6Month = new_sales_data.monthAverageSalesLast6Month.astype(np.float16)\n",
    "new_sales_data.monthAverageSalesLast12Month = new_sales_data.monthAverageSalesLast12Month.astype(np.float16)\n",
    "new_sales_data.numDaysInMonth = new_sales_data.numDaysInMonth.astype(np.int8)\n",
    "new_sales_data.monthTotalCumSalesPerShopLast2Month = new_sales_data.monthTotalCumSalesPerShopLast2Month.astype(np.int16)\n",
    "new_sales_data.monthTotalCumSalesPerShopLast3Month = new_sales_data.monthTotalCumSalesPerShopLast3Month.astype(np.int16)\n",
    "new_sales_data.monthTotalCumSalesPerShopLast4Month = new_sales_data.monthTotalCumSalesPerShopLast4Month.astype(np.int16)\n",
    "new_sales_data.monthTotalCumSalesPerShopLast6Month = new_sales_data.monthTotalCumSalesPerShopLast6Month.astype(np.int32)\n",
    "new_sales_data.monthTotalCumSalesPerShopLast12Month = new_sales_data.monthTotalCumSalesPerShopLast12Month.astype(np.int32)\n",
    "new_sales_data.monthTotalCumSalesPerItemLast2Month = new_sales_data.monthTotalCumSalesPerItemLast2Month.astype(np.int16)\n",
    "new_sales_data.monthTotalCumSalesPerItemLast3Month = new_sales_data.monthTotalCumSalesPerItemLast3Month.astype(np.int16)\n",
    "new_sales_data.monthTotalCumSalesPerItemLast4Month = new_sales_data.monthTotalCumSalesPerItemLast4Month.astype(np.int16)\n",
    "new_sales_data.monthTotalCumSalesPerItemLast6Month = new_sales_data.monthTotalCumSalesPerItemLast6Month.astype(np.int16)\n",
    "new_sales_data.monthTotalCumSalesPerItemLast12Month = new_sales_data.monthTotalCumSalesPerItemLast12Month.astype(np.int32)\n",
    "new_sales_data.monthTotalCumSalesPerItemCategoryLast2Month = new_sales_data.monthTotalCumSalesPerItemCategoryLast2Month.astype(np.float32)\n",
    "new_sales_data.monthTotalCumSalesPerItemCategoryLast3Month = new_sales_data.monthTotalCumSalesPerItemCategoryLast3Month.astype(np.float32)\n",
    "new_sales_data.monthTotalCumSalesPerItemCategoryLast4Month = new_sales_data.monthTotalCumSalesPerItemCategoryLast4Month.astype(np.float32)\n",
    "new_sales_data.monthTotalCumSalesPerItemCategoryLast6Month = new_sales_data.monthTotalCumSalesPerItemCategoryLast6Month.astype(np.float32)\n",
    "new_sales_data.monthTotalCumSalesPerItemCategoryLast12Month = new_sales_data.monthTotalCumSalesPerItemCategoryLast12Month.astype(np.float32)\n",
    "new_sales_data.monthTotalCumSalesPerGeneralItemCategoriesLast2Month = new_sales_data.monthTotalCumSalesPerGeneralItemCategoriesLast2Month.astype(np.float32)\n",
    "new_sales_data.monthTotalCumSalesPerGeneralItemCategoriesLast3Month = new_sales_data.monthTotalCumSalesPerGeneralItemCategoriesLast3Month.astype(np.float32)\n",
    "new_sales_data.monthTotalCumSalesPerGeneralItemCategoriesLast4Month = new_sales_data.monthTotalCumSalesPerGeneralItemCategoriesLast4Month.astype(np.float32)\n",
    "new_sales_data.monthTotalCumSalesPerGeneralItemCategoriesLast6Month = new_sales_data.monthTotalCumSalesPerGeneralItemCategoriesLast6Month.astype(np.float32)\n",
    "new_sales_data.monthTotalCumSalesPerGeneralItemCategoriesLast12Month = new_sales_data.monthTotalCumSalesPerGeneralItemCategoriesLast12Month.astype(np.float32)\n",
    "\n",
    "\n",
    "new_sales_data.itemTotalCumSalesPerCityPerMonthLast2Month = new_sales_data.itemTotalCumSalesPerCityPerMonthLast2Month.astype(np.int16)\n",
    "new_sales_data.itemTotalCumSalesPerCityPerMonthLast3Month = new_sales_data.itemTotalCumSalesPerCityPerMonthLast3Month.astype(np.int16)\n",
    "new_sales_data.itemTotalCumSalesPerCityPerMonthLast4Month = new_sales_data.itemTotalCumSalesPerCityPerMonthLast4Month.astype(np.int16)\n",
    "new_sales_data.itemTotalCumSalesPerCityPerMonthLast6Month = new_sales_data.itemTotalCumSalesPerCityPerMonthLast6Month.astype(np.int16)\n",
    "new_sales_data.itemTotalCumSalesPerCityPerMonthLast12Month = new_sales_data.itemTotalCumSalesPerCityPerMonthLast12Month.astype(np.int16)\n",
    "new_sales_data.totalSalesCumPerCityPerMonthLast2Month = new_sales_data.totalSalesCumPerCityPerMonthLast2Month.astype(np.float32)\n",
    "new_sales_data.totalSalesCumPerCityPerMonthLast3Month = new_sales_data.totalSalesCumPerCityPerMonthLast3Month.astype(np.float32)\n",
    "new_sales_data.totalSalesCumPerCityPerMonthLast4Month = new_sales_data.totalSalesCumPerCityPerMonthLast4Month.astype(np.float32)\n",
    "new_sales_data.totalSalesCumPerCityPerMonthLast6Month = new_sales_data.totalSalesCumPerCityPerMonthLast6Month.astype(np.float32)\n",
    "new_sales_data.totalSalesCumPerCityPerMonthLast12Month = new_sales_data.totalSalesCumPerCityPerMonthLast12Month.astype(np.float32)\n"
   ]
  },
  {
   "cell_type": "code",
   "execution_count": 4,
   "metadata": {},
   "outputs": [
    {
     "name": "stdout",
     "output_type": "stream",
     "text": [
      "dateBlockNum 34 int8\n",
      "shopId 59 int8\n",
      "itemId 22169 int16\n",
      "itemCountPerShopPerMonth 1644 int16\n",
      "avergageItemPricePerShopPerMonth 51000.0 float16\n",
      "monthOfYear 12 int8\n",
      "isItemSoldThisShopThisMonth 1 int8\n",
      "itemsSoldPerShopPerMonth1MonthAgo 1644 int16\n",
      "itemsSoldPerShopPerMonth2MonthsAgo 1644 int16\n",
      "itemsSoldPerShopPerMonth3MonthsAgo 1305 int16\n",
      "itemsSoldPerShopPerMonth4MonthsAgo 1305 int16\n",
      "itemsSoldPerShopPerMonth6MonthsAgo 1305 int16\n",
      "itemsSoldPerShopPerMonth12MonthsAgo 1305 int16\n",
      "totItemsSoldPerShopPerMonthLast12Months 10419 int16\n",
      "totItemsSoldPerShopPerMonthLast2Months 2294 int16\n",
      "totItemsSoldPerShopPerMonthLast3Months 3272 int16\n",
      "totItemsSoldPerShopPerMonthLast4Months 4222 int16\n",
      "totItemsSoldPerShopPerMonthLast6Months 6062 int16\n",
      "totItemsSoldPerShopPerMonthSinceBeginning 19934 int16\n",
      "itemLastMonthSoldPerShop 34 int8\n",
      "peakMonthOfYearForSelling? 1 int8\n",
      "monthAverageSalesPerShop 0.736 float16\n",
      "monthAverageSalesPerItem 209.2 float16\n",
      "itemCategory 83 int8\n",
      "monthAverageSalesPerItemCategory 34.88 float16\n",
      "generalItemCategories ('издания', 'Музыка', 'Подарочные') object\n",
      "monthAverageSalesPerGeneralItemCategories 175.8 float16\n",
      "itemAverageSalesSinceBeginning 89.4 float16\n",
      "generalItemCategoriesEncoded 83 int8\n",
      "city Ярославль object\n",
      "cityEncoded 31 int8\n",
      "itemAverageSalesPerCityPerMonth 1644.0 float16\n",
      "averageSalesPerCityPerMonth 0.4536 float16\n",
      "cityAverageSales 0.2394 float16\n",
      "totalSalesPerItemPerCityPerMonth 5203 int16\n",
      "monthAverageSalesPerShopLast1Month 0.736 float16\n",
      "monthAverageSalesPerShopLast2Month 0.736 float16\n",
      "monthAverageSalesPerShopLast3Month 0.736 float16\n",
      "monthAverageSalesPerShopLast4Month 0.736 float16\n",
      "monthAverageSalesPerShopLast6Month 0.736 float16\n",
      "monthAverageSalesPerShopLast12Month 0.736 float16\n",
      "monthAverageSalesPerItemLast1Month 209.2 float16\n",
      "monthAverageSalesPerItemLast2Month 209.2 float16\n",
      "monthAverageSalesPerItemLast3Month 209.2 float16\n",
      "monthAverageSalesPerItemLast4Month 209.2 float16\n",
      "monthAverageSalesPerItemLast6Month 209.2 float16\n",
      "monthAverageSalesPerItemLast12Month 209.2 float16\n",
      "monthAverageSalesPerItemCategoryLast1Month 34.88 float16\n",
      "monthAverageSalesPerItemCategoryLast2Month 34.88 float16\n",
      "monthAverageSalesPerItemCategoryLast3Month 34.88 float16\n",
      "monthAverageSalesPerItemCategoryLast4Month 34.88 float16\n",
      "monthAverageSalesPerItemCategoryLast6Month 34.88 float16\n",
      "monthAverageSalesPerItemCategoryLast12Month 34.88 float16\n",
      "monthAverageSalesPerGeneralItemCategoriesLast1Month 175.8 float16\n",
      "monthAverageSalesPerGeneralItemCategoriesLast2Month 175.8 float16\n",
      "monthAverageSalesPerGeneralItemCategoriesLast3Month 175.8 float16\n",
      "monthAverageSalesPerGeneralItemCategoriesLast4Month 175.8 float16\n",
      "monthAverageSalesPerGeneralItemCategoriesLast6Month 175.8 float16\n",
      "monthAverageSalesPerGeneralItemCategoriesLast12Month 175.8 float16\n",
      "itemAverageSalesPerCityPerMonthLast1Month 1644.0 float16\n",
      "itemAverageSalesPerCityPerMonthLast2Month 1644.0 float16\n",
      "itemAverageSalesPerCityPerMonthLast3Month 1242.0 float16\n",
      "itemAverageSalesPerCityPerMonthLast4Month 1242.0 float16\n",
      "itemAverageSalesPerCityPerMonthLast6Month 1242.0 float16\n",
      "itemAverageSalesPerCityPerMonthLast12Month 1074.0 float16\n",
      "averageSalesPerCityPerMonthLast1Month 0.4536 float16\n",
      "averageSalesPerCityPerMonthLast2Month 0.4536 float16\n",
      "averageSalesPerCityPerMonthLast3Month 0.4536 float16\n",
      "averageSalesPerCityPerMonthLast4Month 0.4536 float16\n",
      "averageSalesPerCityPerMonthLast6Month 0.4536 float16\n",
      "averageSalesPerCityPerMonthLast12Month 0.4536 float16\n",
      "avergageItemPricePerShopPerMonthLast1Month 51000.0 float16\n",
      "avergageItemPricePerShopPerMonthLast2Month 51000.0 float16\n",
      "avergageItemPricePerShopPerMonthLast3Month 51000.0 float16\n",
      "avergageItemPricePerShopPerMonthLast4Month 51000.0 float16\n",
      "avergageItemPricePerShopPerMonthLast6Month 51000.0 float16\n",
      "avergageItemPricePerShopPerMonthLast12Month 51000.0 float16\n",
      "monthTotalSales 183341.0 float32\n",
      "monthTotalSalesPerShop 16318 int16\n",
      "monthTotalSalesPerItem 12557 int16\n",
      "monthTotalSalesPerItemCategory 36277.0 float32\n",
      "monthTotalSalesPerGeneralItemCategories 36277.0 float32\n",
      "itemTotalSalesPerCityPerMonth 5203 int16\n",
      "totalSalesPerCityPerMonth 65128.0 float64\n",
      "monthTotalSalesLast1Month 183341.0 float32\n",
      "monthTotalSalesLast2Month 183341.0 float32\n",
      "monthTotalSalesLast3Month 183341.0 float32\n",
      "monthTotalSalesLast4Month 183341.0 float32\n",
      "monthTotalSalesLast6Month 183341.0 float32\n",
      "monthTotalSalesLast12Month 183341.0 float32\n",
      "monthTotalSalesPerShopLast1Month 16318 int16\n",
      "monthTotalSalesPerShopLast2Month 16318 int16\n",
      "monthTotalSalesPerShopLast3Month 16318 int16\n",
      "monthTotalSalesPerShopLast4Month 16318 int16\n",
      "monthTotalSalesPerShopLast6Month 16318 int16\n",
      "monthTotalSalesPerShopLast12Month 16318 int16\n",
      "monthTotalSalesPerItemLast1Month 12557 int16\n",
      "monthTotalSalesPerItemLast2Month 12557 int16\n",
      "monthTotalSalesPerItemLast3Month 12557 int16\n",
      "monthTotalSalesPerItemLast4Month 12557 int16\n",
      "monthTotalSalesPerItemLast6Month 12557 int16\n",
      "monthTotalSalesPerItemLast12Month 12557 int16\n",
      "monthTotalSalesPerItemCategoryLast1Month 36300.0 float16\n",
      "monthTotalSalesPerItemCategoryLast2Month 36300.0 float16\n",
      "monthTotalSalesPerItemCategoryLast3Month 36300.0 float16\n",
      "monthTotalSalesPerItemCategoryLast4Month 36300.0 float16\n",
      "monthTotalSalesPerItemCategoryLast6Month 36300.0 float16\n",
      "monthTotalSalesPerItemCategoryLast12Month 36300.0 float16\n",
      "monthTotalSalesPerGeneralItemCategoriesLast1Month 36300.0 float16\n",
      "monthTotalSalesPerGeneralItemCategoriesLast2Month 36300.0 float16\n",
      "monthTotalSalesPerGeneralItemCategoriesLast3Month 36300.0 float16\n",
      "monthTotalSalesPerGeneralItemCategoriesLast4Month 36300.0 float16\n",
      "monthTotalSalesPerGeneralItemCategoriesLast6Month 36300.0 float16\n",
      "monthTotalSalesPerGeneralItemCategoriesLast12Month 36300.0 float16\n",
      "itemTotalSalesPerCityPerMonthLast1Month 5203 int16\n",
      "itemTotalSalesPerCityPerMonthLast2Month 5203 int16\n",
      "itemTotalSalesPerCityPerMonthLast3Month 5203 int16\n",
      "itemTotalSalesPerCityPerMonthLast4Month 5203 int16\n",
      "itemTotalSalesPerCityPerMonthLast6Month 5203 int16\n",
      "itemTotalSalesPerCityPerMonthLast12Month 5203 int16\n",
      "totalSalesPerCityPerMonthLast1Month 65120.0 float16\n",
      "totalSalesPerCityPerMonthLast2Month 65120.0 float16\n",
      "totalSalesPerCityPerMonthLast3Month 65120.0 float16\n",
      "totalSalesPerCityPerMonthLast4Month 65120.0 float16\n",
      "totalSalesPerCityPerMonthLast6Month 65120.0 float16\n",
      "totalSalesPerCityPerMonthLast12Month 65120.0 float16\n",
      "monthAverageSales 0.1378 float16\n",
      "monthAverageSalesLast1Month 0.1378 float16\n",
      "monthAverageSalesLast2Month 0.1378 float16\n",
      "monthAverageSalesLast3Month 0.1378 float16\n",
      "monthAverageSalesLast4Month 0.1378 float16\n",
      "monthAverageSalesLast6Month 0.1378 float16\n",
      "monthAverageSalesLast12Month 0.1378 float16\n",
      "numDaysInMonth 31 int8\n",
      "monthTotalCumSalesLast2Months 313350.0 float64\n",
      "monthTotalCumSalesLast3Months 440891.0 float64\n",
      "monthTotalCumSalesLast4Months 574223.0 float64\n",
      "monthTotalCumSalesLast6Months 816480.0 float64\n",
      "monthTotalCumSalesLast12Months 1562732.0 float64\n",
      "monthTotalCumSalesPerShopLast2Month 28028 int16\n",
      "monthTotalCumSalesPerShopLast3Month 31840 int16\n",
      "monthTotalCumSalesPerShopLast4Month 32752 int16\n",
      "monthTotalCumSalesPerShopLast6Month 69885 int32\n",
      "monthTotalCumSalesPerShopLast12Month 132487 int32\n",
      "monthTotalCumSalesPerItemLast2Month 21094 int16\n",
      "monthTotalCumSalesPerItemLast3Month 28832 int16\n",
      "monthTotalCumSalesPerItemLast4Month 31516 int16\n",
      "monthTotalCumSalesPerItemLast6Month 26971 int16\n",
      "monthTotalCumSalesPerItemLast12Month 93056 int32\n",
      "monthTotalCumSalesPerItemCategoryLast2Month 67926.0 float32\n",
      "monthTotalCumSalesPerItemCategoryLast3Month 101415.0 float32\n",
      "monthTotalCumSalesPerItemCategoryLast4Month 128940.0 float32\n",
      "monthTotalCumSalesPerItemCategoryLast6Month 180402.0 float32\n",
      "monthTotalCumSalesPerItemCategoryLast12Month 330890.0 float32\n",
      "monthTotalCumSalesPerGeneralItemCategoriesLast2Month 67926.0 float32\n",
      "monthTotalCumSalesPerGeneralItemCategoriesLast3Month 101415.0 float32\n",
      "monthTotalCumSalesPerGeneralItemCategoriesLast4Month 128940.0 float32\n",
      "monthTotalCumSalesPerGeneralItemCategoriesLast6Month 180402.0 float32\n",
      "monthTotalCumSalesPerGeneralItemCategoriesLast12Month 330890.0 float32\n",
      "itemTotalCumSalesPerCityPerMonthLast2Month 8936 int16\n",
      "itemTotalCumSalesPerCityPerMonthLast3Month 12501 int16\n",
      "itemTotalCumSalesPerCityPerMonthLast4Month 16282 int16\n",
      "itemTotalCumSalesPerCityPerMonthLast6Month 22647 int16\n",
      "itemTotalCumSalesPerCityPerMonthLast12Month 32607 int16\n",
      "totalSalesCumPerCityPerMonthLast2Month 111199.0 float32\n",
      "totalSalesCumPerCityPerMonthLast3Month 154728.0 float32\n"
     ]
    },
    {
     "name": "stdout",
     "output_type": "stream",
     "text": [
      "totalSalesCumPerCityPerMonthLast4Month 204054.0 float32\n",
      "totalSalesCumPerCityPerMonthLast6Month 289246.0 float32\n",
      "totalSalesCumPerCityPerMonthLast12Month 560340.0 float32\n"
     ]
    }
   ],
   "source": [
    "for column in new_sales_data.columns:\n",
    "    print(column, new_sales_data[column].max(), new_sales_data[column].dtype)"
   ]
  },
  {
   "cell_type": "code",
   "execution_count": 5,
   "metadata": {},
   "outputs": [],
   "source": [
    "new_sales_data.monthTotalCumSalesLast2Months = new_sales_data.monthTotalCumSalesLast2Months.astype(np.float32)\n",
    "new_sales_data.monthTotalCumSalesLast3Months = new_sales_data.monthTotalCumSalesLast3Months.astype(np.float32)\n",
    "new_sales_data.monthTotalCumSalesLast4Months = new_sales_data.monthTotalCumSalesLast4Months.astype(np.float32)\n",
    "new_sales_data.monthTotalCumSalesLast6Months = new_sales_data.monthTotalCumSalesLast6Months.astype(np.float32)\n",
    "new_sales_data.monthTotalCumSalesLast12Months = new_sales_data.monthTotalCumSalesLast12Months.astype(np.float32)"
   ]
  },
  {
   "cell_type": "code",
   "execution_count": 7,
   "metadata": {},
   "outputs": [],
   "source": [
    "new_sales_data.to_pickle(\"new_sales_data3.pickle\")"
   ]
  },
  {
   "cell_type": "code",
   "execution_count": 8,
   "metadata": {},
   "outputs": [],
   "source": [
    "# Remove columns that don't help in training and save a trainable copy\n",
    "new_sales_data.drop(['generalItemCategories', 'city', 'avergageItemPricePerShopPerMonth', 'isItemSoldThisShopThisMonth', 'monthAverageSalesPerShop', 'monthAverageSalesPerItem', 'monthAverageSalesPerGeneralItemCategories', 'monthAverageSalesPerGeneralItemCategories', 'itemAverageSalesPerCityPerMonth', 'averageSalesPerCityPerMonth', 'cityAverageSales', 'totalSalesPerItemPerCityPerMonth', 'monthTotalSales', 'monthTotalSalesPerShop', 'monthTotalSalesPerItem', 'monthTotalSalesPerItemCategory', 'monthTotalSalesPerGeneralItemCategories', 'itemTotalSalesPerCityPerMonth', 'totalSalesPerCityPerMonth', 'monthAverageSales'], axis =1, inplace=True)\n",
    "\n",
    "new_sales_data.drop(['monthAverageSalesPerItemCategory'], axis =1, inplace=True)\n",
    "\n",
    "new_sales_data.to_pickle(\"new_sales_data_train.pickle\")"
   ]
  },
  {
   "cell_type": "code",
   "execution_count": null,
   "metadata": {},
   "outputs": [],
   "source": []
  },
  {
   "cell_type": "code",
   "execution_count": null,
   "metadata": {},
   "outputs": [],
   "source": []
  },
  {
   "cell_type": "code",
   "execution_count": 255,
   "metadata": {},
   "outputs": [
    {
     "data": {
      "text/plain": [
       "<AxesSubplot:>"
      ]
     },
     "execution_count": 255,
     "metadata": {},
     "output_type": "execute_result"
    },
    {
     "data": {
      "image/png": "[encoded data removed]",
      "text/plain": [
       "<Figure size 432x288 with 2 Axes>"
      ]
     },
     "metadata": {
      "needs_background": "light"
     },
     "output_type": "display_data"
    }
   ],
   "source": [
    "corr = new_sales_data.corr()\n",
    "sns.heatmap(corr)"
   ]
  },
  {
   "cell_type": "code",
   "execution_count": null,
   "metadata": {},
   "outputs": [],
   "source": [
    "# Format validation data\n",
    "test.columns = ['ID', 'shopId', 'itemId']\n",
    "test['dateBlockNum'] = 33\n",
    "val = pd.merge(val, test, on=['dateBlockNum', 'shopId', 'itemId'], how='right')\n",
    "val.drop(\"ID\", axis = 1,inplace=True)\n",
    "val.to_pickle(\"validation_data.pickle\")"
   ]
  },
  {
   "cell_type": "code",
   "execution_count": null,
   "metadata": {},
   "outputs": [],
   "source": [
    "# Create Test Set\n",
    "test.columns = ['ID', 'shopId', 'itemId']\n",
    "test['dateBlockNum'] = 34\n",
    "test_set = pd.merge(new_sales_data, test, on=['dateBlockNum', 'shopId', 'itemId'], how='right')\n",
    "test_set.drop('ID', axis=1, inplace=True)\n",
    "test_set.drop('itemCountPerShopPerMonth', axis=1, inplace=True)\n",
    "with open(\"testNeedsPredictions.pickle\", \"wb\") as pick:\n",
    "    pickle.dump(test_set, pick)"
   ]
  },
  {
   "cell_type": "code",
   "execution_count": null,
   "metadata": {},
   "outputs": [],
   "source": []
  },
  {
   "cell_type": "code",
   "execution_count": 4,
   "metadata": {},
   "outputs": [],
   "source": [
    "# Format training data such that only nontrivial rows with itemCountPerShopPerMonth > 0 are kept and data that is a part of the test set.\n",
    "new_sales_data = pd.read_pickle(\"new_sales_data_train.pickle\")\n",
    "new_sales_data = new_sales_data[new_sales_data.itemCountPerShopPerMonth > 0]\n",
    "new_sales_data2 = pd.concat([new_sales_data, filtered_train_data])\n",
    "new_sales_data_final = new_sales_data2.drop_duplicates()\n",
    "new_sales_data_final.to_pickle(\"new_sales_data_final.pickle\")"
   ]
  },
  {
   "cell_type": "code",
   "execution_count": 3,
   "metadata": {},
   "outputs": [],
   "source": [
    "# Get trainable data\n",
    "new_sales_data_final = pd.read_pickle(\"new_sales_data_final.pickle\")\n",
    "new_sales_data_final = new_sales_data_final[new_sales_data_final.dateBlockNum < 33]\n",
    "val = pd.read_pickle(\"validation_data.pickle\")"
   ]
  },
  {
   "cell_type": "code",
   "execution_count": 2,
   "metadata": {},
   "outputs": [],
   "source": []
  },
  {
   "cell_type": "code",
   "execution_count": 4,
   "metadata": {},
   "outputs": [],
   "source": [
    "# Load Models\n",
    "with open(\"xgboostImproved2.pickle\", \"rb\") as pick:\n",
    "    model = pickle.load(pick)\n",
    "with open(\"lr.pickle\", \"rb\") as pick:\n",
    "    lrBest = pickle.load(pick)\n",
    "with open(\"randomForest.pickle\", \"rb\") as pick:\n",
    "    randomForest = pickle.load(pick)\n",
    "with open(\"neighbor.pickle\", \"rb\") as pick:\n",
    "    neighbor = pickle.load(pick)"
   ]
  },
  {
   "cell_type": "code",
   "execution_count": 128,
   "metadata": {},
   "outputs": [
    {
     "data": {
      "text/plain": [
       "RandomForestRegressor(n_jobs=-1, random_state=42, verbose=2)"
      ]
     },
     "execution_count": 128,
     "metadata": {},
     "output_type": "execute_result"
    }
   ],
   "source": []
  },
  {
   "cell_type": "code",
   "execution_count": 116,
   "metadata": {},
   "outputs": [],
   "source": [
    "# Initiate Models\n",
    "neighbor = KNeighborsRegressor(n_jobs = -1)\n",
    "randomForest = RandomForestRegressor(n_estimators=100, n_jobs = -1, verbose=2, random_state=42)\n",
    "lr = LinearRegression(n_jobs=-1)\n",
    "model = XGBRegressor(max_depth=8, n_estimators=250, min_child_weight=800, colsample_by_tree=0.8, subsample=0.8, eta=0.2, seed=40)"
   ]
  },
  {
   "cell_type": "code",
   "execution_count": null,
   "metadata": {},
   "outputs": [],
   "source": [
    "# If needed\n",
    "scaler = MinMaxScaler()\n",
    "X_train = scaler.fit_transform(X_train)\n",
    "X_val = scaler.transform(X_val)"
   ]
  },
  {
   "cell_type": "code",
   "execution_count": 6,
   "metadata": {},
   "outputs": [],
   "source": [
    "# Get train/validation split\n",
    "X_train = new_sales_data_final.drop('itemCountPerShopPerMonth', axis = 1)\n",
    "y_train = list(new_sales_data_final['itemCountPerShopPerMonth'])\n",
    "\n",
    "X_val = val.drop('itemCountPerShopPerMonth', axis = 1)\n",
    "y_val = list(val['itemCountPerShopPerMonth'])"
   ]
  },
  {
   "cell_type": "code",
   "execution_count": 117,
   "metadata": {},
   "outputs": [
    {
     "data": {
      "text/plain": [
       "KNeighborsRegressor(n_jobs=-1)"
      ]
     },
     "execution_count": 117,
     "metadata": {},
     "output_type": "execute_result"
    }
   ],
   "source": [
    "neighbor.fit(X_train, y_train)"
   ]
  },
  {
   "cell_type": "code",
   "execution_count": 79,
   "metadata": {},
   "outputs": [
    {
     "name": "stderr",
     "output_type": "stream",
     "text": [
      "[Parallel(n_jobs=-1)]: Using backend ThreadingBackend with 12 concurrent workers.\n"
     ]
    },
    {
     "name": "stdout",
     "output_type": "stream",
     "text": [
      "building tree 1 of 100building tree 2 of 100\n",
      "building tree 3 of 100\n",
      "building tree 4 of 100\n",
      "building tree 5 of 100\n",
      "building tree 6 of 100\n",
      "building tree 7 of 100\n",
      "\n",
      "building tree 8 of 100\n",
      "building tree 9 of 100\n",
      "building tree 10 of 100\n",
      "building tree 11 of 100\n",
      "building tree 12 of 100\n",
      "building tree 13 of 100\n",
      "building tree 14 of 100\n",
      "building tree 15 of 100\n",
      "building tree 16 of 100\n",
      "building tree 17 of 100\n",
      "building tree 18 of 100\n",
      "building tree 19 of 100\n",
      "building tree 20 of 100\n",
      "building tree 21 of 100\n",
      "building tree 22 of 100\n",
      "building tree 23 of 100\n",
      "building tree 24 of 100\n",
      "building tree 25 of 100\n",
      "building tree 26 of 100\n",
      "building tree 27 of 100\n",
      "building tree 28 of 100\n",
      "building tree 29 of 100\n"
     ]
    },
    {
     "name": "stderr",
     "output_type": "stream",
     "text": [
      "[Parallel(n_jobs=-1)]: Done  17 tasks      | elapsed: 32.3min\n"
     ]
    },
    {
     "name": "stdout",
     "output_type": "stream",
     "text": [
      "building tree 30 of 100\n",
      "building tree 31 of 100\n",
      "building tree 32 of 100\n",
      "building tree 33 of 100\n",
      "building tree 34 of 100\n",
      "building tree 35 of 100\n",
      "building tree 36 of 100\n",
      "building tree 37 of 100\n",
      "building tree 38 of 100\n",
      "building tree 39 of 100\n",
      "building tree 40 of 100\n",
      "building tree 41 of 100\n",
      "building tree 42 of 100\n",
      "building tree 43 of 100\n",
      "building tree 44 of 100\n",
      "building tree 45 of 100\n",
      "building tree 46 of 100\n",
      "building tree 47 of 100\n",
      "building tree 48 of 100\n",
      "building tree 49 of 100\n",
      "building tree 50 of 100\n",
      "building tree 51 of 100\n",
      "building tree 52 of 100\n",
      "building tree 53 of 100\n",
      "building tree 54 of 100\n",
      "building tree 55 of 100\n",
      "building tree 56 of 100\n",
      "building tree 57 of 100\n",
      "building tree 58 of 100\n",
      "building tree 59 of 100\n",
      "building tree 60 of 100\n",
      "building tree 61 of 100\n",
      "building tree 62 of 100\n",
      "building tree 63 of 100\n",
      "building tree 64 of 100\n",
      "building tree 65 of 100\n",
      "building tree 66 of 100\n",
      "building tree 67 of 100\n",
      "building tree 68 of 100\n",
      "building tree 69 of 100\n",
      "building tree 70 of 100\n",
      "building tree 71 of 100\n",
      "building tree 72 of 100\n",
      "building tree 73 of 100\n",
      "building tree 74 of 100\n",
      "building tree 75 of 100\n",
      "building tree 76 of 100\n",
      "building tree 77 of 100\n",
      "building tree 78 of 100\n",
      "building tree 79 of 100\n",
      "building tree 80 of 100\n",
      "building tree 81 of 100\n",
      "building tree 82 of 100\n",
      "building tree 83 of 100\n",
      "building tree 84 of 100\n",
      "building tree 85 of 100\n",
      "building tree 86 of 100\n",
      "building tree 87 of 100\n",
      "building tree 88 of 100\n",
      "building tree 89 of 100\n",
      "building tree 90 of 100\n",
      "building tree 91 of 100\n",
      "building tree 92 of 100\n",
      "building tree 93 of 100\n",
      "building tree 94 of 100\n",
      "building tree 95 of 100\n",
      "building tree 96 of 100\n",
      "building tree 97 of 100\n",
      "building tree 98 of 100\n",
      "building tree 99 of 100\n",
      "building tree 100 of 100\n"
     ]
    },
    {
     "name": "stderr",
     "output_type": "stream",
     "text": [
      "[Parallel(n_jobs=-1)]: Done 100 out of 100 | elapsed: 103.0min finished\n"
     ]
    },
    {
     "data": {
      "text/plain": [
       "RandomForestRegressor(n_jobs=-1, verbose=2)"
      ]
     },
     "execution_count": 79,
     "metadata": {},
     "output_type": "execute_result"
    }
   ],
   "source": [
    "randomForest.fit(X_train, y_train)"
   ]
  },
  {
   "cell_type": "code",
   "execution_count": 132,
   "metadata": {},
   "outputs": [
    {
     "ename": "KeyboardInterrupt",
     "evalue": "",
     "output_type": "error",
     "traceback": [
      "\u001b[0;31m---------------------------------------------------------------------------\u001b[0m",
      "\u001b[0;31mKeyboardInterrupt\u001b[0m                         Traceback (most recent call last)",
      "\u001b[0;32m<ipython-input-132-bfca6d28353d>\u001b[0m in \u001b[0;36m<module>\u001b[0;34m\u001b[0m\n\u001b[0;32m----> 1\u001b[0;31m \u001b[0mneighbor\u001b[0m\u001b[0;34m.\u001b[0m\u001b[0mpredict\u001b[0m\u001b[0;34m(\u001b[0m\u001b[0mX_train\u001b[0m\u001b[0;34m)\u001b[0m\u001b[0;34m\u001b[0m\u001b[0;34m\u001b[0m\u001b[0m\n\u001b[0m",
      "\u001b[0;32m~/kaggle/predictFutureSales/venv/lib/python3.8/site-packages/sklearn/neighbors/_regression.py\u001b[0m in \u001b[0;36mpredict\u001b[0;34m(self, X)\u001b[0m\n\u001b[1;32m    174\u001b[0m         \u001b[0mX\u001b[0m \u001b[0;34m=\u001b[0m \u001b[0mcheck_array\u001b[0m\u001b[0;34m(\u001b[0m\u001b[0mX\u001b[0m\u001b[0;34m,\u001b[0m \u001b[0maccept_sparse\u001b[0m\u001b[0;34m=\u001b[0m\u001b[0;34m'csr'\u001b[0m\u001b[0;34m)\u001b[0m\u001b[0;34m\u001b[0m\u001b[0;34m\u001b[0m\u001b[0m\n\u001b[1;32m    175\u001b[0m \u001b[0;34m\u001b[0m\u001b[0m\n\u001b[0;32m--> 176\u001b[0;31m         \u001b[0mneigh_dist\u001b[0m\u001b[0;34m,\u001b[0m \u001b[0mneigh_ind\u001b[0m \u001b[0;34m=\u001b[0m \u001b[0mself\u001b[0m\u001b[0;34m.\u001b[0m\u001b[0mkneighbors\u001b[0m\u001b[0;34m(\u001b[0m\u001b[0mX\u001b[0m\u001b[0;34m)\u001b[0m\u001b[0;34m\u001b[0m\u001b[0;34m\u001b[0m\u001b[0m\n\u001b[0m\u001b[1;32m    177\u001b[0m \u001b[0;34m\u001b[0m\u001b[0m\n\u001b[1;32m    178\u001b[0m         \u001b[0mweights\u001b[0m \u001b[0;34m=\u001b[0m \u001b[0m_get_weights\u001b[0m\u001b[0;34m(\u001b[0m\u001b[0mneigh_dist\u001b[0m\u001b[0;34m,\u001b[0m \u001b[0mself\u001b[0m\u001b[0;34m.\u001b[0m\u001b[0mweights\u001b[0m\u001b[0;34m)\u001b[0m\u001b[0;34m\u001b[0m\u001b[0;34m\u001b[0m\u001b[0m\n",
      "\u001b[0;32m~/kaggle/predictFutureSales/venv/lib/python3.8/site-packages/sklearn/neighbors/_base.py\u001b[0m in \u001b[0;36mkneighbors\u001b[0;34m(self, X, n_neighbors, return_distance)\u001b[0m\n\u001b[1;32m    604\u001b[0m                 \u001b[0mX\u001b[0m \u001b[0;34m=\u001b[0m \u001b[0m_check_precomputed\u001b[0m\u001b[0;34m(\u001b[0m\u001b[0mX\u001b[0m\u001b[0;34m)\u001b[0m\u001b[0;34m\u001b[0m\u001b[0;34m\u001b[0m\u001b[0m\n\u001b[1;32m    605\u001b[0m             \u001b[0;32melse\u001b[0m\u001b[0;34m:\u001b[0m\u001b[0;34m\u001b[0m\u001b[0;34m\u001b[0m\u001b[0m\n\u001b[0;32m--> 606\u001b[0;31m                 \u001b[0mX\u001b[0m \u001b[0;34m=\u001b[0m \u001b[0mcheck_array\u001b[0m\u001b[0;34m(\u001b[0m\u001b[0mX\u001b[0m\u001b[0;34m,\u001b[0m \u001b[0maccept_sparse\u001b[0m\u001b[0;34m=\u001b[0m\u001b[0;34m'csr'\u001b[0m\u001b[0;34m)\u001b[0m\u001b[0;34m\u001b[0m\u001b[0;34m\u001b[0m\u001b[0m\n\u001b[0m\u001b[1;32m    607\u001b[0m         \u001b[0;32melse\u001b[0m\u001b[0;34m:\u001b[0m\u001b[0;34m\u001b[0m\u001b[0;34m\u001b[0m\u001b[0m\n\u001b[1;32m    608\u001b[0m             \u001b[0mquery_is_train\u001b[0m \u001b[0;34m=\u001b[0m \u001b[0;32mTrue\u001b[0m\u001b[0;34m\u001b[0m\u001b[0;34m\u001b[0m\u001b[0m\n",
      "\u001b[0;32m~/kaggle/predictFutureSales/venv/lib/python3.8/site-packages/sklearn/utils/validation.py\u001b[0m in \u001b[0;36minner_f\u001b[0;34m(*args, **kwargs)\u001b[0m\n\u001b[1;32m     70\u001b[0m                           FutureWarning)\n\u001b[1;32m     71\u001b[0m         \u001b[0mkwargs\u001b[0m\u001b[0;34m.\u001b[0m\u001b[0mupdate\u001b[0m\u001b[0;34m(\u001b[0m\u001b[0;34m{\u001b[0m\u001b[0mk\u001b[0m\u001b[0;34m:\u001b[0m \u001b[0marg\u001b[0m \u001b[0;32mfor\u001b[0m \u001b[0mk\u001b[0m\u001b[0;34m,\u001b[0m \u001b[0marg\u001b[0m \u001b[0;32min\u001b[0m \u001b[0mzip\u001b[0m\u001b[0;34m(\u001b[0m\u001b[0msig\u001b[0m\u001b[0;34m.\u001b[0m\u001b[0mparameters\u001b[0m\u001b[0;34m,\u001b[0m \u001b[0margs\u001b[0m\u001b[0;34m)\u001b[0m\u001b[0;34m}\u001b[0m\u001b[0;34m)\u001b[0m\u001b[0;34m\u001b[0m\u001b[0;34m\u001b[0m\u001b[0m\n\u001b[0;32m---> 72\u001b[0;31m         \u001b[0;32mreturn\u001b[0m \u001b[0mf\u001b[0m\u001b[0;34m(\u001b[0m\u001b[0;34m**\u001b[0m\u001b[0mkwargs\u001b[0m\u001b[0;34m)\u001b[0m\u001b[0;34m\u001b[0m\u001b[0;34m\u001b[0m\u001b[0m\n\u001b[0m\u001b[1;32m     73\u001b[0m     \u001b[0;32mreturn\u001b[0m \u001b[0minner_f\u001b[0m\u001b[0;34m\u001b[0m\u001b[0;34m\u001b[0m\u001b[0m\n\u001b[1;32m     74\u001b[0m \u001b[0;34m\u001b[0m\u001b[0m\n",
      "\u001b[0;32m~/kaggle/predictFutureSales/venv/lib/python3.8/site-packages/sklearn/utils/validation.py\u001b[0m in \u001b[0;36mcheck_array\u001b[0;34m(array, accept_sparse, accept_large_sparse, dtype, order, copy, force_all_finite, ensure_2d, allow_nd, ensure_min_samples, ensure_min_features, estimator)\u001b[0m\n\u001b[1;32m    642\u001b[0m \u001b[0;34m\u001b[0m\u001b[0m\n\u001b[1;32m    643\u001b[0m         \u001b[0;32mif\u001b[0m \u001b[0mforce_all_finite\u001b[0m\u001b[0;34m:\u001b[0m\u001b[0;34m\u001b[0m\u001b[0;34m\u001b[0m\u001b[0m\n\u001b[0;32m--> 644\u001b[0;31m             _assert_all_finite(array,\n\u001b[0m\u001b[1;32m    645\u001b[0m                                allow_nan=force_all_finite == 'allow-nan')\n\u001b[1;32m    646\u001b[0m \u001b[0;34m\u001b[0m\u001b[0m\n",
      "\u001b[0;32m~/kaggle/predictFutureSales/venv/lib/python3.8/site-packages/sklearn/utils/validation.py\u001b[0m in \u001b[0;36m_assert_all_finite\u001b[0;34m(X, allow_nan, msg_dtype)\u001b[0m\n\u001b[1;32m     87\u001b[0m     \u001b[0;31m# safely to reduce dtype induced overflows.\u001b[0m\u001b[0;34m\u001b[0m\u001b[0;34m\u001b[0m\u001b[0;34m\u001b[0m\u001b[0m\n\u001b[1;32m     88\u001b[0m     \u001b[0mis_float\u001b[0m \u001b[0;34m=\u001b[0m \u001b[0mX\u001b[0m\u001b[0;34m.\u001b[0m\u001b[0mdtype\u001b[0m\u001b[0;34m.\u001b[0m\u001b[0mkind\u001b[0m \u001b[0;32min\u001b[0m \u001b[0;34m'fc'\u001b[0m\u001b[0;34m\u001b[0m\u001b[0;34m\u001b[0m\u001b[0m\n\u001b[0;32m---> 89\u001b[0;31m     \u001b[0;32mif\u001b[0m \u001b[0mis_float\u001b[0m \u001b[0;32mand\u001b[0m \u001b[0;34m(\u001b[0m\u001b[0mnp\u001b[0m\u001b[0;34m.\u001b[0m\u001b[0misfinite\u001b[0m\u001b[0;34m(\u001b[0m\u001b[0m_safe_accumulator_op\u001b[0m\u001b[0;34m(\u001b[0m\u001b[0mnp\u001b[0m\u001b[0;34m.\u001b[0m\u001b[0msum\u001b[0m\u001b[0;34m,\u001b[0m \u001b[0mX\u001b[0m\u001b[0;34m)\u001b[0m\u001b[0;34m)\u001b[0m\u001b[0;34m)\u001b[0m\u001b[0;34m:\u001b[0m\u001b[0;34m\u001b[0m\u001b[0;34m\u001b[0m\u001b[0m\n\u001b[0m\u001b[1;32m     90\u001b[0m         \u001b[0;32mpass\u001b[0m\u001b[0;34m\u001b[0m\u001b[0;34m\u001b[0m\u001b[0m\n\u001b[1;32m     91\u001b[0m     \u001b[0;32melif\u001b[0m \u001b[0mis_float\u001b[0m\u001b[0;34m:\u001b[0m\u001b[0;34m\u001b[0m\u001b[0;34m\u001b[0m\u001b[0m\n",
      "\u001b[0;32m~/kaggle/predictFutureSales/venv/lib/python3.8/site-packages/sklearn/utils/extmath.py\u001b[0m in \u001b[0;36m_safe_accumulator_op\u001b[0;34m(op, x, *args, **kwargs)\u001b[0m\n\u001b[1;32m    709\u001b[0m         \u001b[0mresult\u001b[0m \u001b[0;34m=\u001b[0m \u001b[0mop\u001b[0m\u001b[0;34m(\u001b[0m\u001b[0mx\u001b[0m\u001b[0;34m,\u001b[0m \u001b[0;34m*\u001b[0m\u001b[0margs\u001b[0m\u001b[0;34m,\u001b[0m \u001b[0;34m**\u001b[0m\u001b[0mkwargs\u001b[0m\u001b[0;34m,\u001b[0m \u001b[0mdtype\u001b[0m\u001b[0;34m=\u001b[0m\u001b[0mnp\u001b[0m\u001b[0;34m.\u001b[0m\u001b[0mfloat64\u001b[0m\u001b[0;34m)\u001b[0m\u001b[0;34m\u001b[0m\u001b[0;34m\u001b[0m\u001b[0m\n\u001b[1;32m    710\u001b[0m     \u001b[0;32melse\u001b[0m\u001b[0;34m:\u001b[0m\u001b[0;34m\u001b[0m\u001b[0;34m\u001b[0m\u001b[0m\n\u001b[0;32m--> 711\u001b[0;31m         \u001b[0mresult\u001b[0m \u001b[0;34m=\u001b[0m \u001b[0mop\u001b[0m\u001b[0;34m(\u001b[0m\u001b[0mx\u001b[0m\u001b[0;34m,\u001b[0m \u001b[0;34m*\u001b[0m\u001b[0margs\u001b[0m\u001b[0;34m,\u001b[0m \u001b[0;34m**\u001b[0m\u001b[0mkwargs\u001b[0m\u001b[0;34m)\u001b[0m\u001b[0;34m\u001b[0m\u001b[0;34m\u001b[0m\u001b[0m\n\u001b[0m\u001b[1;32m    712\u001b[0m     \u001b[0;32mreturn\u001b[0m \u001b[0mresult\u001b[0m\u001b[0;34m\u001b[0m\u001b[0;34m\u001b[0m\u001b[0m\n\u001b[1;32m    713\u001b[0m \u001b[0;34m\u001b[0m\u001b[0m\n",
      "\u001b[0;32m<__array_function__ internals>\u001b[0m in \u001b[0;36msum\u001b[0;34m(*args, **kwargs)\u001b[0m\n",
      "\u001b[0;32m~/kaggle/predictFutureSales/venv/lib/python3.8/site-packages/numpy/core/fromnumeric.py\u001b[0m in \u001b[0;36msum\u001b[0;34m(a, axis, dtype, out, keepdims, initial, where)\u001b[0m\n\u001b[1;32m   2239\u001b[0m         \u001b[0;32mreturn\u001b[0m \u001b[0mres\u001b[0m\u001b[0;34m\u001b[0m\u001b[0;34m\u001b[0m\u001b[0m\n\u001b[1;32m   2240\u001b[0m \u001b[0;34m\u001b[0m\u001b[0m\n\u001b[0;32m-> 2241\u001b[0;31m     return _wrapreduction(a, np.add, 'sum', axis, dtype, out, keepdims=keepdims,\n\u001b[0m\u001b[1;32m   2242\u001b[0m                           initial=initial, where=where)\n\u001b[1;32m   2243\u001b[0m \u001b[0;34m\u001b[0m\u001b[0m\n",
      "\u001b[0;32m~/kaggle/predictFutureSales/venv/lib/python3.8/site-packages/numpy/core/fromnumeric.py\u001b[0m in \u001b[0;36m_wrapreduction\u001b[0;34m(obj, ufunc, method, axis, dtype, out, **kwargs)\u001b[0m\n\u001b[1;32m     85\u001b[0m                 \u001b[0;32mreturn\u001b[0m \u001b[0mreduction\u001b[0m\u001b[0;34m(\u001b[0m\u001b[0maxis\u001b[0m\u001b[0;34m=\u001b[0m\u001b[0maxis\u001b[0m\u001b[0;34m,\u001b[0m \u001b[0mout\u001b[0m\u001b[0;34m=\u001b[0m\u001b[0mout\u001b[0m\u001b[0;34m,\u001b[0m \u001b[0;34m**\u001b[0m\u001b[0mpasskwargs\u001b[0m\u001b[0;34m)\u001b[0m\u001b[0;34m\u001b[0m\u001b[0;34m\u001b[0m\u001b[0m\n\u001b[1;32m     86\u001b[0m \u001b[0;34m\u001b[0m\u001b[0m\n\u001b[0;32m---> 87\u001b[0;31m     \u001b[0;32mreturn\u001b[0m \u001b[0mufunc\u001b[0m\u001b[0;34m.\u001b[0m\u001b[0mreduce\u001b[0m\u001b[0;34m(\u001b[0m\u001b[0mobj\u001b[0m\u001b[0;34m,\u001b[0m \u001b[0maxis\u001b[0m\u001b[0;34m,\u001b[0m \u001b[0mdtype\u001b[0m\u001b[0;34m,\u001b[0m \u001b[0mout\u001b[0m\u001b[0;34m,\u001b[0m \u001b[0;34m**\u001b[0m\u001b[0mpasskwargs\u001b[0m\u001b[0;34m)\u001b[0m\u001b[0;34m\u001b[0m\u001b[0;34m\u001b[0m\u001b[0m\n\u001b[0m\u001b[1;32m     88\u001b[0m \u001b[0;34m\u001b[0m\u001b[0m\n\u001b[1;32m     89\u001b[0m \u001b[0;34m\u001b[0m\u001b[0m\n",
      "\u001b[0;31mKeyboardInterrupt\u001b[0m: "
     ]
    }
   ],
   "source": [
    "neighbor.predict(X_train)"
   ]
  },
  {
   "cell_type": "code",
   "execution_count": 82,
   "metadata": {},
   "outputs": [],
   "source": [
    "with open(\"randomForest.pickle\", \"wb\") as pick:\n",
    "    pickle.dump(randomForest, pick)"
   ]
  },
  {
   "cell_type": "code",
   "execution_count": 92,
   "metadata": {},
   "outputs": [],
   "source": [
    "randomForestPredictions = model.predict(X_val)"
   ]
  },
  {
   "cell_type": "code",
   "execution_count": 93,
   "metadata": {},
   "outputs": [
    {
     "data": {
      "text/plain": [
       "1.8458794920372805"
      ]
     },
     "execution_count": 93,
     "metadata": {},
     "output_type": "execute_result"
    }
   ],
   "source": [
    "math.sqrt(mean_squared_error(randomForestPredictions, list(y_val)))"
   ]
  },
  {
   "cell_type": "code",
   "execution_count": 14,
   "metadata": {},
   "outputs": [
    {
     "data": {
      "text/plain": [
       "LinearRegression(n_jobs=-1)"
      ]
     },
     "execution_count": 14,
     "metadata": {},
     "output_type": "execute_result"
    }
   ],
   "source": [
    "lr.fit(X_train, y_train)\n",
    "model.fit(X_train, y_train, eval_metric=\"rmse\", eval_set=[(X_train, y_train), (X_val, y_val)], verbose=True, early_stopping_rounds=25)"
   ]
  },
  {
   "cell_type": "code",
   "execution_count": 57,
   "metadata": {},
   "outputs": [
    {
     "name": "stdout",
     "output_type": "stream",
     "text": [
      "[16:32:57] WARNING: ../src/learner.cc:516: \n",
      "Parameters: { colsample_by_tree } might not be used.\n",
      "\n",
      "  This may not be accurate due to some parameters are only used in language bindings but\n",
      "  passed down to XGBoost core.  Or some parameters are not used but slip through this\n",
      "  verification. Please open an issue if you find above cases.\n",
      "\n",
      "\n",
      "[16:32:57] WARNING: ../src/gbm/gbtree.cc:139: Tree method is automatically selected to be 'approx' for faster speed. To use old behavior (exact greedy algorithm on single machine), set tree_method to 'exact'.\n",
      "[0]\tvalidation_0-rmse:3.72221\tvalidation_1-rmse:2.48541\n",
      "Multiple eval metrics have been passed: 'validation_1-rmse' will be used for early stopping.\n",
      "\n",
      "Will train until validation_1-rmse hasn't improved in 25 rounds.\n",
      "[1]\tvalidation_0-rmse:3.56220\tvalidation_1-rmse:2.32988\n",
      "[2]\tvalidation_0-rmse:3.45493\tvalidation_1-rmse:2.24105\n",
      "[3]\tvalidation_0-rmse:3.37669\tvalidation_1-rmse:2.20932\n",
      "[4]\tvalidation_0-rmse:3.32119\tvalidation_1-rmse:2.15762\n",
      "[5]\tvalidation_0-rmse:3.28435\tvalidation_1-rmse:2.12388\n",
      "[6]\tvalidation_0-rmse:3.26003\tvalidation_1-rmse:2.10473\n",
      "[7]\tvalidation_0-rmse:3.23898\tvalidation_1-rmse:2.09534\n",
      "[8]\tvalidation_0-rmse:3.22581\tvalidation_1-rmse:2.08843\n",
      "[9]\tvalidation_0-rmse:3.18711\tvalidation_1-rmse:2.04686\n",
      "[10]\tvalidation_0-rmse:3.17890\tvalidation_1-rmse:2.04724\n",
      "[11]\tvalidation_0-rmse:3.15237\tvalidation_1-rmse:2.02035\n",
      "[12]\tvalidation_0-rmse:3.13519\tvalidation_1-rmse:2.00564\n",
      "[13]\tvalidation_0-rmse:3.11430\tvalidation_1-rmse:1.98405\n",
      "[14]\tvalidation_0-rmse:3.10826\tvalidation_1-rmse:1.98285\n",
      "[15]\tvalidation_0-rmse:3.08985\tvalidation_1-rmse:1.98516\n",
      "[16]\tvalidation_0-rmse:3.07999\tvalidation_1-rmse:1.97870\n",
      "[17]\tvalidation_0-rmse:3.07605\tvalidation_1-rmse:1.97681\n",
      "[18]\tvalidation_0-rmse:3.05757\tvalidation_1-rmse:1.96307\n",
      "[19]\tvalidation_0-rmse:3.04712\tvalidation_1-rmse:1.95375\n",
      "[20]\tvalidation_0-rmse:3.04245\tvalidation_1-rmse:1.95552\n",
      "[21]\tvalidation_0-rmse:3.03898\tvalidation_1-rmse:1.95249\n",
      "[22]\tvalidation_0-rmse:3.03565\tvalidation_1-rmse:1.95391\n",
      "[23]\tvalidation_0-rmse:3.02702\tvalidation_1-rmse:1.94959\n",
      "[24]\tvalidation_0-rmse:3.01181\tvalidation_1-rmse:1.93965\n",
      "[25]\tvalidation_0-rmse:3.00579\tvalidation_1-rmse:1.94248\n",
      "[26]\tvalidation_0-rmse:3.00213\tvalidation_1-rmse:1.94126\n",
      "[27]\tvalidation_0-rmse:2.99654\tvalidation_1-rmse:1.93827\n",
      "[28]\tvalidation_0-rmse:2.99402\tvalidation_1-rmse:1.93739\n",
      "[29]\tvalidation_0-rmse:2.97711\tvalidation_1-rmse:1.92276\n",
      "[30]\tvalidation_0-rmse:2.97213\tvalidation_1-rmse:1.91533\n",
      "[31]\tvalidation_0-rmse:2.96739\tvalidation_1-rmse:1.91643\n",
      "[32]\tvalidation_0-rmse:2.96499\tvalidation_1-rmse:1.91560\n",
      "[33]\tvalidation_0-rmse:2.95766\tvalidation_1-rmse:1.91381\n",
      "[34]\tvalidation_0-rmse:2.95153\tvalidation_1-rmse:1.91281\n",
      "[35]\tvalidation_0-rmse:2.94791\tvalidation_1-rmse:1.91114\n",
      "[36]\tvalidation_0-rmse:2.94353\tvalidation_1-rmse:1.91180\n",
      "[37]\tvalidation_0-rmse:2.94102\tvalidation_1-rmse:1.90780\n",
      "[38]\tvalidation_0-rmse:2.92757\tvalidation_1-rmse:1.89552\n",
      "[39]\tvalidation_0-rmse:2.92267\tvalidation_1-rmse:1.89261\n",
      "[40]\tvalidation_0-rmse:2.91946\tvalidation_1-rmse:1.89601\n",
      "[41]\tvalidation_0-rmse:2.91446\tvalidation_1-rmse:1.89404\n",
      "[42]\tvalidation_0-rmse:2.90679\tvalidation_1-rmse:1.88960\n",
      "[43]\tvalidation_0-rmse:2.90268\tvalidation_1-rmse:1.89024\n",
      "[44]\tvalidation_0-rmse:2.89941\tvalidation_1-rmse:1.89172\n",
      "[45]\tvalidation_0-rmse:2.89770\tvalidation_1-rmse:1.89013\n",
      "[46]\tvalidation_0-rmse:2.89417\tvalidation_1-rmse:1.88663\n",
      "[47]\tvalidation_0-rmse:2.88425\tvalidation_1-rmse:1.87979\n",
      "[48]\tvalidation_0-rmse:2.88049\tvalidation_1-rmse:1.87507\n",
      "[49]\tvalidation_0-rmse:2.87628\tvalidation_1-rmse:1.87382\n",
      "[50]\tvalidation_0-rmse:2.87397\tvalidation_1-rmse:1.87358\n",
      "[51]\tvalidation_0-rmse:2.87237\tvalidation_1-rmse:1.86959\n",
      "[52]\tvalidation_0-rmse:2.86805\tvalidation_1-rmse:1.87757\n",
      "[53]\tvalidation_0-rmse:2.86005\tvalidation_1-rmse:1.87170\n",
      "[54]\tvalidation_0-rmse:2.85479\tvalidation_1-rmse:1.86849\n",
      "[55]\tvalidation_0-rmse:2.85260\tvalidation_1-rmse:1.86483\n",
      "[56]\tvalidation_0-rmse:2.84986\tvalidation_1-rmse:1.87008\n",
      "[57]\tvalidation_0-rmse:2.84664\tvalidation_1-rmse:1.86870\n",
      "[58]\tvalidation_0-rmse:2.84275\tvalidation_1-rmse:1.86515\n",
      "[59]\tvalidation_0-rmse:2.83935\tvalidation_1-rmse:1.87401\n",
      "[60]\tvalidation_0-rmse:2.83647\tvalidation_1-rmse:1.87430\n",
      "[61]\tvalidation_0-rmse:2.83509\tvalidation_1-rmse:1.87675\n",
      "[62]\tvalidation_0-rmse:2.83362\tvalidation_1-rmse:1.87741\n",
      "[63]\tvalidation_0-rmse:2.83103\tvalidation_1-rmse:1.87494\n",
      "[64]\tvalidation_0-rmse:2.82432\tvalidation_1-rmse:1.87012\n",
      "[65]\tvalidation_0-rmse:2.81675\tvalidation_1-rmse:1.85783\n",
      "[66]\tvalidation_0-rmse:2.81484\tvalidation_1-rmse:1.85872\n",
      "[67]\tvalidation_0-rmse:2.80817\tvalidation_1-rmse:1.85622\n",
      "[68]\tvalidation_0-rmse:2.80585\tvalidation_1-rmse:1.85253\n",
      "[69]\tvalidation_0-rmse:2.80263\tvalidation_1-rmse:1.84930\n",
      "[70]\tvalidation_0-rmse:2.79988\tvalidation_1-rmse:1.85783\n",
      "[71]\tvalidation_0-rmse:2.79661\tvalidation_1-rmse:1.85657\n",
      "[72]\tvalidation_0-rmse:2.79403\tvalidation_1-rmse:1.85649\n",
      "[73]\tvalidation_0-rmse:2.79081\tvalidation_1-rmse:1.85163\n",
      "[74]\tvalidation_0-rmse:2.78886\tvalidation_1-rmse:1.85112\n",
      "[75]\tvalidation_0-rmse:2.78297\tvalidation_1-rmse:1.85973\n",
      "[76]\tvalidation_0-rmse:2.78006\tvalidation_1-rmse:1.85961\n",
      "[77]\tvalidation_0-rmse:2.77749\tvalidation_1-rmse:1.85409\n",
      "[78]\tvalidation_0-rmse:2.77561\tvalidation_1-rmse:1.85503\n",
      "[79]\tvalidation_0-rmse:2.77137\tvalidation_1-rmse:1.85835\n",
      "[80]\tvalidation_0-rmse:2.76968\tvalidation_1-rmse:1.85358\n",
      "[81]\tvalidation_0-rmse:2.76773\tvalidation_1-rmse:1.85540\n",
      "[82]\tvalidation_0-rmse:2.76573\tvalidation_1-rmse:1.85776\n",
      "[83]\tvalidation_0-rmse:2.76214\tvalidation_1-rmse:1.85391\n",
      "[84]\tvalidation_0-rmse:2.75984\tvalidation_1-rmse:1.85594\n",
      "[85]\tvalidation_0-rmse:2.75474\tvalidation_1-rmse:1.85633\n",
      "[86]\tvalidation_0-rmse:2.75235\tvalidation_1-rmse:1.85411\n",
      "[87]\tvalidation_0-rmse:2.75008\tvalidation_1-rmse:1.85594\n",
      "[88]\tvalidation_0-rmse:2.74658\tvalidation_1-rmse:1.85692\n",
      "[89]\tvalidation_0-rmse:2.74400\tvalidation_1-rmse:1.85677\n",
      "[90]\tvalidation_0-rmse:2.74126\tvalidation_1-rmse:1.85293\n",
      "[91]\tvalidation_0-rmse:2.73859\tvalidation_1-rmse:1.84587\n",
      "[92]\tvalidation_0-rmse:2.73558\tvalidation_1-rmse:1.85010\n",
      "[93]\tvalidation_0-rmse:2.73420\tvalidation_1-rmse:1.85088\n",
      "[94]\tvalidation_0-rmse:2.73251\tvalidation_1-rmse:1.85178\n",
      "[95]\tvalidation_0-rmse:2.73023\tvalidation_1-rmse:1.84829\n",
      "[96]\tvalidation_0-rmse:2.72800\tvalidation_1-rmse:1.85310\n",
      "[97]\tvalidation_0-rmse:2.72683\tvalidation_1-rmse:1.85343\n",
      "[98]\tvalidation_0-rmse:2.72553\tvalidation_1-rmse:1.85384\n",
      "[99]\tvalidation_0-rmse:2.72304\tvalidation_1-rmse:1.85387\n",
      "[100]\tvalidation_0-rmse:2.71995\tvalidation_1-rmse:1.86193\n",
      "[101]\tvalidation_0-rmse:2.71865\tvalidation_1-rmse:1.86308\n",
      "[102]\tvalidation_0-rmse:2.71683\tvalidation_1-rmse:1.86578\n",
      "[103]\tvalidation_0-rmse:2.71454\tvalidation_1-rmse:1.86167\n",
      "[104]\tvalidation_0-rmse:2.71248\tvalidation_1-rmse:1.86583\n",
      "[105]\tvalidation_0-rmse:2.71161\tvalidation_1-rmse:1.85857\n",
      "[106]\tvalidation_0-rmse:2.70781\tvalidation_1-rmse:1.85879\n",
      "[107]\tvalidation_0-rmse:2.70555\tvalidation_1-rmse:1.85915\n",
      "[108]\tvalidation_0-rmse:2.70398\tvalidation_1-rmse:1.86081\n",
      "[109]\tvalidation_0-rmse:2.69943\tvalidation_1-rmse:1.85623\n",
      "[110]\tvalidation_0-rmse:2.69734\tvalidation_1-rmse:1.85815\n",
      "[111]\tvalidation_0-rmse:2.69457\tvalidation_1-rmse:1.85881\n",
      "[112]\tvalidation_0-rmse:2.68909\tvalidation_1-rmse:1.85166\n",
      "[113]\tvalidation_0-rmse:2.68706\tvalidation_1-rmse:1.84979\n",
      "[114]\tvalidation_0-rmse:2.68529\tvalidation_1-rmse:1.85074\n",
      "[115]\tvalidation_0-rmse:2.68409\tvalidation_1-rmse:1.84719\n",
      "[116]\tvalidation_0-rmse:2.68204\tvalidation_1-rmse:1.85007\n",
      "Stopping. Best iteration:\n",
      "[91]\tvalidation_0-rmse:2.73859\tvalidation_1-rmse:1.84587\n",
      "\n"
     ]
    },
    {
     "data": {
      "text/plain": [
       "XGBRegressor(base_score=0.5, booster='gbtree', colsample_by_tree=0.8,\n",
       "             colsample_bylevel=1, colsample_bynode=1, colsample_bytree=1,\n",
       "             eta=0.2, gamma=0, gpu_id=-1, importance_type='gain',\n",
       "             interaction_constraints='', learning_rate=0.200000003,\n",
       "             max_delta_step=0, max_depth=8, min_child_weight=800, missing=nan,\n",
       "             monotone_constraints='()', n_estimators=250, n_jobs=0,\n",
       "             num_parallel_tree=1, random_state=40, reg_alpha=0, reg_lambda=1,\n",
       "             scale_pos_weight=1, seed=40, subsample=0.8, tree_method='approx',\n",
       "             validate_parameters=1, verbosity=None)"
      ]
     },
     "execution_count": 57,
     "metadata": {},
     "output_type": "execute_result"
    }
   ],
   "source": [
    "model.fit(X_train, y_train, eval_metric=\"rmse\", eval_set=[(X_train, y_train), (X_val, y_val)], verbose=True, early_stopping_rounds=25)"
   ]
  },
  {
   "cell_type": "code",
   "execution_count": null,
   "metadata": {},
   "outputs": [],
   "source": [
    "with open (\"lr3.pickle\", \"wb\") as pick:\n",
    "    pickle.dump(lr, pick)\n",
    "    \n",
    "with open(\"xgboostImproved2.pickle\", \"wb\") as pick:\n",
    "    pickle.dump(model, pick)\n",
    "    \n",
    "with open(\"neighbor.pickle\", \"wb\") as pick:\n",
    "    pickle.dump(neighbor, pick)\n",
    "    \n",
    "with open(\"randomForest.pickle\", \"wb\") as pick:\n",
    "    pickle.dump(randomForest, pick)"
   ]
  },
  {
   "cell_type": "code",
   "execution_count": 122,
   "metadata": {},
   "outputs": [
    {
     "data": {
      "text/plain": [
       "XGBRegressor(base_score=None, booster=None, colsample_by_tree=0.8,\n",
       "             colsample_bylevel=None, colsample_bynode=None,\n",
       "             colsample_bytree=None, eta=0.2, gamma=None, gpu_id=None,\n",
       "             importance_type='gain', interaction_constraints=None,\n",
       "             learning_rate=None, max_delta_step=None, max_depth=8,\n",
       "             min_child_weight=800, missing=nan, monotone_constraints=None,\n",
       "             n_estimators=250, n_jobs=None, num_parallel_tree=None,\n",
       "             random_state=None, reg_alpha=None, reg_lambda=None,\n",
       "             scale_pos_weight=None, seed=40, subsample=0.8, tree_method=None,\n",
       "             validate_parameters=None, verbosity=None)"
      ]
     },
     "execution_count": 122,
     "metadata": {},
     "output_type": "execute_result"
    }
   ],
   "source": [
    "model"
   ]
  },
  {
   "cell_type": "code",
   "execution_count": 12,
   "metadata": {},
   "outputs": [
    {
     "name": "stderr",
     "output_type": "stream",
     "text": [
      "[Parallel(n_jobs=12)]: Using backend ThreadingBackend with 12 concurrent workers.\n",
      "[Parallel(n_jobs=12)]: Done  17 tasks      | elapsed:    4.9s\n",
      "[Parallel(n_jobs=12)]: Done 100 out of 100 | elapsed:   19.7s finished\n"
     ]
    },
    {
     "data": {
      "text/plain": [
       "LinearRegression(n_jobs=-1)"
      ]
     },
     "execution_count": 12,
     "metadata": {},
     "output_type": "execute_result"
    }
   ],
   "source": [
    "# Training Predictions\n",
    "xgboost_train_predictions = list(model.predict(X_train).clip(0, 20))\n",
    "lrBest_train_predictions = list(lrBest.predict(X_train).clip(0, 20))\n",
    "randomForest_train_predictions = list(randomForest.predict(X_train).clip(0,20))\n",
    "neighbor_train_predictions = list(neighbor.predict(X_train).clip(0, 20))\n",
    "\n",
    "stack_first_level = pd.DataFrame()\n",
    "stack_first_level['xgboost'] = xgboost_train_predictions\n",
    "stack_first_level['linearRegression'] = lrBest_train_predictions\n",
    "stack_first_level['randomForest'] = randomForest_train_predictions\n",
    "stack_first_level['neighbor'] = neighbor_train_predictions\n",
    "\n",
    "# Meta Model\n",
    "lr_second_level = LinearRegression(n_jobs=-1)\n",
    "lr_second_level.fit(stack_first_level, y_train)"
   ]
  },
  {
   "cell_type": "code",
   "execution_count": 13,
   "metadata": {},
   "outputs": [
    {
     "name": "stderr",
     "output_type": "stream",
     "text": [
      "[Parallel(n_jobs=12)]: Using backend ThreadingBackend with 12 concurrent workers.\n",
      "[Parallel(n_jobs=12)]: Done  17 tasks      | elapsed:    0.3s\n",
      "[Parallel(n_jobs=12)]: Done 100 out of 100 | elapsed:    1.1s finished\n"
     ]
    },
    {
     "name": "stdout",
     "output_type": "stream",
     "text": [
      "2.400372163402071\n"
     ]
    }
   ],
   "source": [
    "# Validation Predictions\n",
    "xgboost_validation_predictions = list(model.predict(X_val).clip(0, 20))\n",
    "lrBest_validation_predictions = list(lrBest.predict(X_val).clip(0, 20))\n",
    "randomForest_validation_predictions = list(randomForest.predict(X_val).clip(0,20))\n",
    "neighbor_validation_predictions = list(neighbor.predict(X_val).clip(0, 20))\n",
    "\n",
    "\n",
    "stack_first_level = pd.DataFrame()\n",
    "stack_first_level['xgboost'] = xgboost_validation_predictions\n",
    "stack_first_level['linearRegression'] = lrBest_validation_predictions\n",
    "stack_first_level['randomForest'] = randomForest_validation_predictions\n",
    "stack_first_level['neighbor'] = neighbor_validation_predictions\n",
    "\n",
    "# Meta Model\n",
    "stacked_validation_predictions = lr_second_level.predict(stack_first_level).clip(0,20)\n",
    "\n",
    "rsme = math.sqrt(mean_squared_error(stacked_validation_predictions, list(y_val)))\n",
    "print(rsme)"
   ]
  },
  {
   "cell_type": "code",
   "execution_count": 15,
   "metadata": {},
   "outputs": [
    {
     "data": {
      "text/html": [
       "<div>\n",
       "<style scoped>\n",
       "    .dataframe tbody tr th:only-of-type {\n",
       "        vertical-align: middle;\n",
       "    }\n",
       "\n",
       "    .dataframe tbody tr th {\n",
       "        vertical-align: top;\n",
       "    }\n",
       "\n",
       "    .dataframe thead th {\n",
       "        text-align: right;\n",
       "    }\n",
       "</style>\n",
       "<table border=\"1\" class=\"dataframe\">\n",
       "  <thead>\n",
       "    <tr style=\"text-align: right;\">\n",
       "      <th></th>\n",
       "      <th>xgboost</th>\n",
       "      <th>linearRegression</th>\n",
       "      <th>randomForest</th>\n",
       "    </tr>\n",
       "  </thead>\n",
       "  <tbody>\n",
       "    <tr>\n",
       "      <th>0</th>\n",
       "      <td>0.535574</td>\n",
       "      <td>0.071111</td>\n",
       "      <td>0.73</td>\n",
       "    </tr>\n",
       "    <tr>\n",
       "      <th>1</th>\n",
       "      <td>0.000000</td>\n",
       "      <td>0.003933</td>\n",
       "      <td>0.00</td>\n",
       "    </tr>\n",
       "    <tr>\n",
       "      <th>2</th>\n",
       "      <td>0.921502</td>\n",
       "      <td>0.890276</td>\n",
       "      <td>1.08</td>\n",
       "    </tr>\n",
       "    <tr>\n",
       "      <th>3</th>\n",
       "      <td>0.355925</td>\n",
       "      <td>0.286004</td>\n",
       "      <td>0.43</td>\n",
       "    </tr>\n",
       "    <tr>\n",
       "      <th>4</th>\n",
       "      <td>0.000000</td>\n",
       "      <td>0.514656</td>\n",
       "      <td>0.00</td>\n",
       "    </tr>\n",
       "    <tr>\n",
       "      <th>...</th>\n",
       "      <td>...</td>\n",
       "      <td>...</td>\n",
       "      <td>...</td>\n",
       "    </tr>\n",
       "    <tr>\n",
       "      <th>214195</th>\n",
       "      <td>0.230657</td>\n",
       "      <td>0.351671</td>\n",
       "      <td>0.35</td>\n",
       "    </tr>\n",
       "    <tr>\n",
       "      <th>214196</th>\n",
       "      <td>0.000000</td>\n",
       "      <td>0.039577</td>\n",
       "      <td>0.00</td>\n",
       "    </tr>\n",
       "    <tr>\n",
       "      <th>214197</th>\n",
       "      <td>0.097608</td>\n",
       "      <td>0.000000</td>\n",
       "      <td>0.26</td>\n",
       "    </tr>\n",
       "    <tr>\n",
       "      <th>214198</th>\n",
       "      <td>0.000000</td>\n",
       "      <td>0.000000</td>\n",
       "      <td>0.00</td>\n",
       "    </tr>\n",
       "    <tr>\n",
       "      <th>214199</th>\n",
       "      <td>0.119633</td>\n",
       "      <td>0.000000</td>\n",
       "      <td>0.45</td>\n",
       "    </tr>\n",
       "  </tbody>\n",
       "</table>\n",
       "<p>214200 rows × 3 columns</p>\n",
       "</div>"
      ],
      "text/plain": [
       "         xgboost  linearRegression  randomForest\n",
       "0       0.535574          0.071111          0.73\n",
       "1       0.000000          0.003933          0.00\n",
       "2       0.921502          0.890276          1.08\n",
       "3       0.355925          0.286004          0.43\n",
       "4       0.000000          0.514656          0.00\n",
       "...          ...               ...           ...\n",
       "214195  0.230657          0.351671          0.35\n",
       "214196  0.000000          0.039577          0.00\n",
       "214197  0.097608          0.000000          0.26\n",
       "214198  0.000000          0.000000          0.00\n",
       "214199  0.119633          0.000000          0.45\n",
       "\n",
       "[214200 rows x 3 columns]"
      ]
     },
     "execution_count": 15,
     "metadata": {},
     "output_type": "execute_result"
    }
   ],
   "source": [
    "stack_first_level"
   ]
  },
  {
   "cell_type": "code",
   "execution_count": 17,
   "metadata": {},
   "outputs": [
    {
     "name": "stderr",
     "output_type": "stream",
     "text": [
      "[Parallel(n_jobs=12)]: Using backend ThreadingBackend with 12 concurrent workers.\n",
      "[Parallel(n_jobs=12)]: Done  17 tasks      | elapsed:    0.2s\n",
      "[Parallel(n_jobs=12)]: Done 100 out of 100 | elapsed:    0.9s finished\n"
     ]
    },
    {
     "name": "stdout",
     "output_type": "stream",
     "text": [
      "[1.69217145 0.         1.88242435 ... 0.08095008 0.         0.32235574]\n"
     ]
    }
   ],
   "source": [
    "# Test Predictions\n",
    "with open(\"testNeedsPredictions.pickle\", \"rb\") as pick:\n",
    "    needsPredictions = pickle.load(pick)\n",
    "\n",
    "xgboost_test_predictions = list(model.predict(needsPredictions).clip(0, 20))\n",
    "lrBest_test_predictions = list(lrBest.predict(needsPredictions).clip(0, 20))\n",
    "randomForest_test_predictions = list(randomForest.predict(needsPredictions).clip(0,20))\n",
    "neighbor_test_predictions = list(neighbor.predict(X_val).clip(0, 20))\n",
    "\n",
    "stack_first_level = pd.DataFrame()\n",
    "stack_first_level['xgboost'] = xgboost_test_predictions\n",
    "stack_first_level['linearRegression'] = lrBest_test_predictions\n",
    "stack_first_level['randomForest'] = randomForest_test_predictions\n",
    "stack_first_level['neighbor'] = neighbor_test_predictions\n",
    "\n",
    "# Meta Model\n",
    "stacked_test_predictions = lr_second_level.predict(stack_first_level).clip(0, 20)\n",
    "\n",
    "print(stacked_test_predictions)"
   ]
  },
  {
   "cell_type": "code",
   "execution_count": 138,
   "metadata": {},
   "outputs": [
    {
     "data": {
      "text/html": [
       "<div>\n",
       "<style scoped>\n",
       "    .dataframe tbody tr th:only-of-type {\n",
       "        vertical-align: middle;\n",
       "    }\n",
       "\n",
       "    .dataframe tbody tr th {\n",
       "        vertical-align: top;\n",
       "    }\n",
       "\n",
       "    .dataframe thead th {\n",
       "        text-align: right;\n",
       "    }\n",
       "</style>\n",
       "<table border=\"1\" class=\"dataframe\">\n",
       "  <thead>\n",
       "    <tr style=\"text-align: right;\">\n",
       "      <th></th>\n",
       "      <th>xgboost</th>\n",
       "      <th>linearRegression</th>\n",
       "      <th>randomForest</th>\n",
       "    </tr>\n",
       "  </thead>\n",
       "  <tbody>\n",
       "    <tr>\n",
       "      <th>0</th>\n",
       "      <td>0.535574</td>\n",
       "      <td>0.070936</td>\n",
       "      <td>0.73</td>\n",
       "    </tr>\n",
       "    <tr>\n",
       "      <th>1</th>\n",
       "      <td>0.000000</td>\n",
       "      <td>0.000000</td>\n",
       "      <td>0.00</td>\n",
       "    </tr>\n",
       "    <tr>\n",
       "      <th>2</th>\n",
       "      <td>0.921502</td>\n",
       "      <td>0.847545</td>\n",
       "      <td>1.08</td>\n",
       "    </tr>\n",
       "    <tr>\n",
       "      <th>3</th>\n",
       "      <td>0.355925</td>\n",
       "      <td>0.327684</td>\n",
       "      <td>0.43</td>\n",
       "    </tr>\n",
       "    <tr>\n",
       "      <th>4</th>\n",
       "      <td>0.000000</td>\n",
       "      <td>1.092005</td>\n",
       "      <td>0.00</td>\n",
       "    </tr>\n",
       "    <tr>\n",
       "      <th>...</th>\n",
       "      <td>...</td>\n",
       "      <td>...</td>\n",
       "      <td>...</td>\n",
       "    </tr>\n",
       "    <tr>\n",
       "      <th>214195</th>\n",
       "      <td>0.230657</td>\n",
       "      <td>0.249780</td>\n",
       "      <td>0.35</td>\n",
       "    </tr>\n",
       "    <tr>\n",
       "      <th>214196</th>\n",
       "      <td>0.000000</td>\n",
       "      <td>0.012891</td>\n",
       "      <td>0.00</td>\n",
       "    </tr>\n",
       "    <tr>\n",
       "      <th>214197</th>\n",
       "      <td>0.097608</td>\n",
       "      <td>0.058603</td>\n",
       "      <td>0.26</td>\n",
       "    </tr>\n",
       "    <tr>\n",
       "      <th>214198</th>\n",
       "      <td>0.000000</td>\n",
       "      <td>0.000000</td>\n",
       "      <td>0.00</td>\n",
       "    </tr>\n",
       "    <tr>\n",
       "      <th>214199</th>\n",
       "      <td>0.119633</td>\n",
       "      <td>0.000000</td>\n",
       "      <td>0.45</td>\n",
       "    </tr>\n",
       "  </tbody>\n",
       "</table>\n",
       "<p>214200 rows × 3 columns</p>\n",
       "</div>"
      ],
      "text/plain": [
       "         xgboost  linearRegression  randomForest\n",
       "0       0.535574          0.070936          0.73\n",
       "1       0.000000          0.000000          0.00\n",
       "2       0.921502          0.847545          1.08\n",
       "3       0.355925          0.327684          0.43\n",
       "4       0.000000          1.092005          0.00\n",
       "...          ...               ...           ...\n",
       "214195  0.230657          0.249780          0.35\n",
       "214196  0.000000          0.012891          0.00\n",
       "214197  0.097608          0.058603          0.26\n",
       "214198  0.000000          0.000000          0.00\n",
       "214199  0.119633          0.000000          0.45\n",
       "\n",
       "[214200 rows x 3 columns]"
      ]
     },
     "execution_count": 138,
     "metadata": {},
     "output_type": "execute_result"
    }
   ],
   "source": [
    "stack_first_level"
   ]
  },
  {
   "cell_type": "code",
   "execution_count": 7,
   "metadata": {},
   "outputs": [
    {
     "name": "stderr",
     "output_type": "stream",
     "text": [
      "IOPub data rate exceeded.\n",
      "The notebook server will temporarily stop sending output\n",
      "to the client in order to avoid crashing it.\n",
      "To change this limit, set the config variable\n",
      "`--NotebookApp.iopub_data_rate_limit`.\n",
      "\n",
      "Current values:\n",
      "NotebookApp.iopub_data_rate_limit=1000000.0 (bytes/sec)\n",
      "NotebookApp.rate_limit_window=3.0 (secs)\n",
      "\n"
     ]
    }
   ],
   "source": [
    "#Individual Model Validation\n",
    "val_predictions = lrBest.predict(X_val).clip(0,20)\n",
    "print(list(val_predictions))\n",
    "print(list(y_val))\n",
    "print(math.sqrt(mean_squared_error(val_predictions, list(y_val))))\n",
    "\n",
    "with open(\"testNeedsPredictions.pickle\", \"rb\") as pick:\n",
    "    needsPredictions = pickle.load(pick)\n",
    "    \n",
    "predictionTest = lrBest.predict(needsPredictions).clip(0, 20)"
   ]
  },
  {
   "cell_type": "code",
   "execution_count": 8,
   "metadata": {},
   "outputs": [
    {
     "name": "stdout",
     "output_type": "stream",
     "text": [
      "[0.07111056 0.0039326  0.89027565 ... 0.         0.         0.        ]\n"
     ]
    }
   ],
   "source": [
    "print(predictionTest)"
   ]
  },
  {
   "cell_type": "code",
   "execution_count": 10,
   "metadata": {},
   "outputs": [],
   "source": [
    "# Submission\n",
    "sample_submission.item_cnt_month = predictionTest\n",
    "\n",
    "sample_submission.to_csv('submission16.csv', index=False)\n"
   ]
  },
  {
   "cell_type": "code",
   "execution_count": 11,
   "metadata": {},
   "outputs": [
    {
     "data": {
      "text/html": [
       "<div>\n",
       "<style scoped>\n",
       "    .dataframe tbody tr th:only-of-type {\n",
       "        vertical-align: middle;\n",
       "    }\n",
       "\n",
       "    .dataframe tbody tr th {\n",
       "        vertical-align: top;\n",
       "    }\n",
       "\n",
       "    .dataframe thead th {\n",
       "        text-align: right;\n",
       "    }\n",
       "</style>\n",
       "<table border=\"1\" class=\"dataframe\">\n",
       "  <thead>\n",
       "    <tr style=\"text-align: right;\">\n",
       "      <th></th>\n",
       "      <th>ID</th>\n",
       "      <th>item_cnt_month</th>\n",
       "    </tr>\n",
       "  </thead>\n",
       "  <tbody>\n",
       "    <tr>\n",
       "      <th>0</th>\n",
       "      <td>0</td>\n",
       "      <td>0.071111</td>\n",
       "    </tr>\n",
       "    <tr>\n",
       "      <th>1</th>\n",
       "      <td>1</td>\n",
       "      <td>0.003933</td>\n",
       "    </tr>\n",
       "    <tr>\n",
       "      <th>2</th>\n",
       "      <td>2</td>\n",
       "      <td>0.890276</td>\n",
       "    </tr>\n",
       "    <tr>\n",
       "      <th>3</th>\n",
       "      <td>3</td>\n",
       "      <td>0.286004</td>\n",
       "    </tr>\n",
       "    <tr>\n",
       "      <th>4</th>\n",
       "      <td>4</td>\n",
       "      <td>0.514656</td>\n",
       "    </tr>\n",
       "    <tr>\n",
       "      <th>...</th>\n",
       "      <td>...</td>\n",
       "      <td>...</td>\n",
       "    </tr>\n",
       "    <tr>\n",
       "      <th>214195</th>\n",
       "      <td>214195</td>\n",
       "      <td>0.351671</td>\n",
       "    </tr>\n",
       "    <tr>\n",
       "      <th>214196</th>\n",
       "      <td>214196</td>\n",
       "      <td>0.039577</td>\n",
       "    </tr>\n",
       "    <tr>\n",
       "      <th>214197</th>\n",
       "      <td>214197</td>\n",
       "      <td>0.000000</td>\n",
       "    </tr>\n",
       "    <tr>\n",
       "      <th>214198</th>\n",
       "      <td>214198</td>\n",
       "      <td>0.000000</td>\n",
       "    </tr>\n",
       "    <tr>\n",
       "      <th>214199</th>\n",
       "      <td>214199</td>\n",
       "      <td>0.000000</td>\n",
       "    </tr>\n",
       "  </tbody>\n",
       "</table>\n",
       "<p>214200 rows × 2 columns</p>\n",
       "</div>"
      ],
      "text/plain": [
       "            ID  item_cnt_month\n",
       "0            0        0.071111\n",
       "1            1        0.003933\n",
       "2            2        0.890276\n",
       "3            3        0.286004\n",
       "4            4        0.514656\n",
       "...        ...             ...\n",
       "214195  214195        0.351671\n",
       "214196  214196        0.039577\n",
       "214197  214197        0.000000\n",
       "214198  214198        0.000000\n",
       "214199  214199        0.000000\n",
       "\n",
       "[214200 rows x 2 columns]"
      ]
     },
     "execution_count": 11,
     "metadata": {},
     "output_type": "execute_result"
    }
   ],
   "source": [
    "sample_submission"
   ]
  },
  {
   "cell_type": "code",
   "execution_count": null,
   "metadata": {},
   "outputs": [],
   "source": []
  }
 ],
 "metadata": {
  "kernelspec": {
   "display_name": "Python 3",
   "language": "python",
   "name": "python3"
  },
  "language_info": {
   "codemirror_mode": {
    "name": "ipython",
    "version": 3
   },
   "file_extension": ".py",
   "mimetype": "text/x-python",
   "name": "python",
   "nbconvert_exporter": "python",
   "pygments_lexer": "ipython3",
   "version": "3.8.2"
  }
 },
 "nbformat": 4,
 "nbformat_minor": 4
}
